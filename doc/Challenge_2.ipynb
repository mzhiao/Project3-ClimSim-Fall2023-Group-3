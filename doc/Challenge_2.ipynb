{
  "nbformat": 4,
  "nbformat_minor": 0,
  "metadata": {
    "colab": {
      "provenance": [],
      "gpuType": "T4",
      "machine_shape": "hm"
    },
    "kernelspec": {
      "name": "python3",
      "display_name": "Python 3"
    },
    "language_info": {
      "name": "python"
    },
    "accelerator": "GPU"
  },
  "cells": [
    {
      "cell_type": "code",
      "source": [
        "%%shell\n",
        "jupyter nbconvert --to html /content/Challenge_2.ipynb"
      ],
      "metadata": {
        "id": "M16QLEkLcSJn",
        "outputId": "4e5ef934-8aa2-4983-f65a-c512f848c132",
        "colab": {
          "base_uri": "https://localhost:8080/",
          "height": 1000
        }
      },
      "execution_count": 50,
      "outputs": [
        {
          "output_type": "stream",
          "name": "stdout",
          "text": [
            "[NbConvertApp] WARNING | pattern '/content/Challenge_2.ipynb' matched no files\n",
            "This application is used to convert notebook files (*.ipynb)\n",
            "        to various other formats.\n",
            "\n",
            "        WARNING: THE COMMANDLINE INTERFACE MAY CHANGE IN FUTURE RELEASES.\n",
            "\n",
            "Options\n",
            "=======\n",
            "The options below are convenience aliases to configurable class-options,\n",
            "as listed in the \"Equivalent to\" description-line of the aliases.\n",
            "To see all configurable class-options for some <cmd>, use:\n",
            "    <cmd> --help-all\n",
            "\n",
            "--debug\n",
            "    set log level to logging.DEBUG (maximize logging output)\n",
            "    Equivalent to: [--Application.log_level=10]\n",
            "--show-config\n",
            "    Show the application's configuration (human-readable format)\n",
            "    Equivalent to: [--Application.show_config=True]\n",
            "--show-config-json\n",
            "    Show the application's configuration (json format)\n",
            "    Equivalent to: [--Application.show_config_json=True]\n",
            "--generate-config\n",
            "    generate default config file\n",
            "    Equivalent to: [--JupyterApp.generate_config=True]\n",
            "-y\n",
            "    Answer yes to any questions instead of prompting.\n",
            "    Equivalent to: [--JupyterApp.answer_yes=True]\n",
            "--execute\n",
            "    Execute the notebook prior to export.\n",
            "    Equivalent to: [--ExecutePreprocessor.enabled=True]\n",
            "--allow-errors\n",
            "    Continue notebook execution even if one of the cells throws an error and include the error message in the cell output (the default behaviour is to abort conversion). This flag is only relevant if '--execute' was specified, too.\n",
            "    Equivalent to: [--ExecutePreprocessor.allow_errors=True]\n",
            "--stdin\n",
            "    read a single notebook file from stdin. Write the resulting notebook with default basename 'notebook.*'\n",
            "    Equivalent to: [--NbConvertApp.from_stdin=True]\n",
            "--stdout\n",
            "    Write notebook output to stdout instead of files.\n",
            "    Equivalent to: [--NbConvertApp.writer_class=StdoutWriter]\n",
            "--inplace\n",
            "    Run nbconvert in place, overwriting the existing notebook (only\n",
            "            relevant when converting to notebook format)\n",
            "    Equivalent to: [--NbConvertApp.use_output_suffix=False --NbConvertApp.export_format=notebook --FilesWriter.build_directory=]\n",
            "--clear-output\n",
            "    Clear output of current file and save in place,\n",
            "            overwriting the existing notebook.\n",
            "    Equivalent to: [--NbConvertApp.use_output_suffix=False --NbConvertApp.export_format=notebook --FilesWriter.build_directory= --ClearOutputPreprocessor.enabled=True]\n",
            "--no-prompt\n",
            "    Exclude input and output prompts from converted document.\n",
            "    Equivalent to: [--TemplateExporter.exclude_input_prompt=True --TemplateExporter.exclude_output_prompt=True]\n",
            "--no-input\n",
            "    Exclude input cells and output prompts from converted document.\n",
            "            This mode is ideal for generating code-free reports.\n",
            "    Equivalent to: [--TemplateExporter.exclude_output_prompt=True --TemplateExporter.exclude_input=True --TemplateExporter.exclude_input_prompt=True]\n",
            "--allow-chromium-download\n",
            "    Whether to allow downloading chromium if no suitable version is found on the system.\n",
            "    Equivalent to: [--WebPDFExporter.allow_chromium_download=True]\n",
            "--disable-chromium-sandbox\n",
            "    Disable chromium security sandbox when converting to PDF..\n",
            "    Equivalent to: [--WebPDFExporter.disable_sandbox=True]\n",
            "--show-input\n",
            "    Shows code input. This flag is only useful for dejavu users.\n",
            "    Equivalent to: [--TemplateExporter.exclude_input=False]\n",
            "--embed-images\n",
            "    Embed the images as base64 dataurls in the output. This flag is only useful for the HTML/WebPDF/Slides exports.\n",
            "    Equivalent to: [--HTMLExporter.embed_images=True]\n",
            "--sanitize-html\n",
            "    Whether the HTML in Markdown cells and cell outputs should be sanitized..\n",
            "    Equivalent to: [--HTMLExporter.sanitize_html=True]\n",
            "--log-level=<Enum>\n",
            "    Set the log level by value or name.\n",
            "    Choices: any of [0, 10, 20, 30, 40, 50, 'DEBUG', 'INFO', 'WARN', 'ERROR', 'CRITICAL']\n",
            "    Default: 30\n",
            "    Equivalent to: [--Application.log_level]\n",
            "--config=<Unicode>\n",
            "    Full path of a config file.\n",
            "    Default: ''\n",
            "    Equivalent to: [--JupyterApp.config_file]\n",
            "--to=<Unicode>\n",
            "    The export format to be used, either one of the built-in formats\n",
            "            ['asciidoc', 'custom', 'html', 'latex', 'markdown', 'notebook', 'pdf', 'python', 'rst', 'script', 'slides', 'webpdf']\n",
            "            or a dotted object name that represents the import path for an\n",
            "            ``Exporter`` class\n",
            "    Default: ''\n",
            "    Equivalent to: [--NbConvertApp.export_format]\n",
            "--template=<Unicode>\n",
            "    Name of the template to use\n",
            "    Default: ''\n",
            "    Equivalent to: [--TemplateExporter.template_name]\n",
            "--template-file=<Unicode>\n",
            "    Name of the template file to use\n",
            "    Default: None\n",
            "    Equivalent to: [--TemplateExporter.template_file]\n",
            "--theme=<Unicode>\n",
            "    Template specific theme(e.g. the name of a JupyterLab CSS theme distributed\n",
            "    as prebuilt extension for the lab template)\n",
            "    Default: 'light'\n",
            "    Equivalent to: [--HTMLExporter.theme]\n",
            "--sanitize_html=<Bool>\n",
            "    Whether the HTML in Markdown cells and cell outputs should be sanitized.This\n",
            "    should be set to True by nbviewer or similar tools.\n",
            "    Default: False\n",
            "    Equivalent to: [--HTMLExporter.sanitize_html]\n",
            "--writer=<DottedObjectName>\n",
            "    Writer class used to write the\n",
            "                                        results of the conversion\n",
            "    Default: 'FilesWriter'\n",
            "    Equivalent to: [--NbConvertApp.writer_class]\n",
            "--post=<DottedOrNone>\n",
            "    PostProcessor class used to write the\n",
            "                                        results of the conversion\n",
            "    Default: ''\n",
            "    Equivalent to: [--NbConvertApp.postprocessor_class]\n",
            "--output=<Unicode>\n",
            "    overwrite base name use for output files.\n",
            "                can only be used when converting one notebook at a time.\n",
            "    Default: ''\n",
            "    Equivalent to: [--NbConvertApp.output_base]\n",
            "--output-dir=<Unicode>\n",
            "    Directory to write output(s) to. Defaults\n",
            "                                  to output to the directory of each notebook. To recover\n",
            "                                  previous default behaviour (outputting to the current\n",
            "                                  working directory) use . as the flag value.\n",
            "    Default: ''\n",
            "    Equivalent to: [--FilesWriter.build_directory]\n",
            "--reveal-prefix=<Unicode>\n",
            "    The URL prefix for reveal.js (version 3.x).\n",
            "            This defaults to the reveal CDN, but can be any url pointing to a copy\n",
            "            of reveal.js.\n",
            "            For speaker notes to work, this must be a relative path to a local\n",
            "            copy of reveal.js: e.g., \"reveal.js\".\n",
            "            If a relative path is given, it must be a subdirectory of the\n",
            "            current directory (from which the server is run).\n",
            "            See the usage documentation\n",
            "            (https://nbconvert.readthedocs.io/en/latest/usage.html#reveal-js-html-slideshow)\n",
            "            for more details.\n",
            "    Default: ''\n",
            "    Equivalent to: [--SlidesExporter.reveal_url_prefix]\n",
            "--nbformat=<Enum>\n",
            "    The nbformat version to write.\n",
            "            Use this to downgrade notebooks.\n",
            "    Choices: any of [1, 2, 3, 4]\n",
            "    Default: 4\n",
            "    Equivalent to: [--NotebookExporter.nbformat_version]\n",
            "\n",
            "Examples\n",
            "--------\n",
            "\n",
            "    The simplest way to use nbconvert is\n",
            "\n",
            "            > jupyter nbconvert mynotebook.ipynb --to html\n",
            "\n",
            "            Options include ['asciidoc', 'custom', 'html', 'latex', 'markdown', 'notebook', 'pdf', 'python', 'rst', 'script', 'slides', 'webpdf'].\n",
            "\n",
            "            > jupyter nbconvert --to latex mynotebook.ipynb\n",
            "\n",
            "            Both HTML and LaTeX support multiple output templates. LaTeX includes\n",
            "            'base', 'article' and 'report'.  HTML includes 'basic', 'lab' and\n",
            "            'classic'. You can specify the flavor of the format used.\n",
            "\n",
            "            > jupyter nbconvert --to html --template lab mynotebook.ipynb\n",
            "\n",
            "            You can also pipe the output to stdout, rather than a file\n",
            "\n",
            "            > jupyter nbconvert mynotebook.ipynb --stdout\n",
            "\n",
            "            PDF is generated via latex\n",
            "\n",
            "            > jupyter nbconvert mynotebook.ipynb --to pdf\n",
            "\n",
            "            You can get (and serve) a Reveal.js-powered slideshow\n",
            "\n",
            "            > jupyter nbconvert myslides.ipynb --to slides --post serve\n",
            "\n",
            "            Multiple notebooks can be given at the command line in a couple of\n",
            "            different ways:\n",
            "\n",
            "            > jupyter nbconvert notebook*.ipynb\n",
            "            > jupyter nbconvert notebook1.ipynb notebook2.ipynb\n",
            "\n",
            "            or you can specify the notebooks list in a config file, containing::\n",
            "\n",
            "                c.NbConvertApp.notebooks = [\"my_notebook.ipynb\"]\n",
            "\n",
            "            > jupyter nbconvert --config mycfg.py\n",
            "\n",
            "To see all available configurables, use `--help-all`.\n",
            "\n"
          ]
        },
        {
          "output_type": "error",
          "ename": "CalledProcessError",
          "evalue": "ignored",
          "traceback": [
            "\u001b[0;31m---------------------------------------------------------------------------\u001b[0m",
            "\u001b[0;31mCalledProcessError\u001b[0m                        Traceback (most recent call last)",
            "\u001b[0;32m<ipython-input-50-1ff9cf5b8f67>\u001b[0m in \u001b[0;36m<cell line: 1>\u001b[0;34m()\u001b[0m\n\u001b[0;32m----> 1\u001b[0;31m \u001b[0mget_ipython\u001b[0m\u001b[0;34m(\u001b[0m\u001b[0;34m)\u001b[0m\u001b[0;34m.\u001b[0m\u001b[0mrun_cell_magic\u001b[0m\u001b[0;34m(\u001b[0m\u001b[0;34m'shell'\u001b[0m\u001b[0;34m,\u001b[0m \u001b[0;34m''\u001b[0m\u001b[0;34m,\u001b[0m \u001b[0;34m'jupyter nbconvert --to html /content/Challenge_2.ipynb\\n'\u001b[0m\u001b[0;34m)\u001b[0m\u001b[0;34m\u001b[0m\u001b[0;34m\u001b[0m\u001b[0m\n\u001b[0m",
            "\u001b[0;32m/usr/local/lib/python3.10/dist-packages/google/colab/_shell.py\u001b[0m in \u001b[0;36mrun_cell_magic\u001b[0;34m(self, magic_name, line, cell)\u001b[0m\n\u001b[1;32m    332\u001b[0m     \u001b[0;32mif\u001b[0m \u001b[0mline\u001b[0m \u001b[0;32mand\u001b[0m \u001b[0;32mnot\u001b[0m \u001b[0mcell\u001b[0m\u001b[0;34m:\u001b[0m\u001b[0;34m\u001b[0m\u001b[0;34m\u001b[0m\u001b[0m\n\u001b[1;32m    333\u001b[0m       \u001b[0mcell\u001b[0m \u001b[0;34m=\u001b[0m \u001b[0;34m' '\u001b[0m\u001b[0;34m\u001b[0m\u001b[0;34m\u001b[0m\u001b[0m\n\u001b[0;32m--> 334\u001b[0;31m     \u001b[0;32mreturn\u001b[0m \u001b[0msuper\u001b[0m\u001b[0;34m(\u001b[0m\u001b[0;34m)\u001b[0m\u001b[0;34m.\u001b[0m\u001b[0mrun_cell_magic\u001b[0m\u001b[0;34m(\u001b[0m\u001b[0mmagic_name\u001b[0m\u001b[0;34m,\u001b[0m \u001b[0mline\u001b[0m\u001b[0;34m,\u001b[0m \u001b[0mcell\u001b[0m\u001b[0;34m)\u001b[0m\u001b[0;34m\u001b[0m\u001b[0;34m\u001b[0m\u001b[0m\n\u001b[0m\u001b[1;32m    335\u001b[0m \u001b[0;34m\u001b[0m\u001b[0m\n\u001b[1;32m    336\u001b[0m \u001b[0;34m\u001b[0m\u001b[0m\n",
            "\u001b[0;32m/usr/local/lib/python3.10/dist-packages/IPython/core/interactiveshell.py\u001b[0m in \u001b[0;36mrun_cell_magic\u001b[0;34m(self, magic_name, line, cell)\u001b[0m\n\u001b[1;32m   2471\u001b[0m             \u001b[0;32mwith\u001b[0m \u001b[0mself\u001b[0m\u001b[0;34m.\u001b[0m\u001b[0mbuiltin_trap\u001b[0m\u001b[0;34m:\u001b[0m\u001b[0;34m\u001b[0m\u001b[0;34m\u001b[0m\u001b[0m\n\u001b[1;32m   2472\u001b[0m                 \u001b[0margs\u001b[0m \u001b[0;34m=\u001b[0m \u001b[0;34m(\u001b[0m\u001b[0mmagic_arg_s\u001b[0m\u001b[0;34m,\u001b[0m \u001b[0mcell\u001b[0m\u001b[0;34m)\u001b[0m\u001b[0;34m\u001b[0m\u001b[0;34m\u001b[0m\u001b[0m\n\u001b[0;32m-> 2473\u001b[0;31m                 \u001b[0mresult\u001b[0m \u001b[0;34m=\u001b[0m \u001b[0mfn\u001b[0m\u001b[0;34m(\u001b[0m\u001b[0;34m*\u001b[0m\u001b[0margs\u001b[0m\u001b[0;34m,\u001b[0m \u001b[0;34m**\u001b[0m\u001b[0mkwargs\u001b[0m\u001b[0;34m)\u001b[0m\u001b[0;34m\u001b[0m\u001b[0;34m\u001b[0m\u001b[0m\n\u001b[0m\u001b[1;32m   2474\u001b[0m             \u001b[0;32mreturn\u001b[0m \u001b[0mresult\u001b[0m\u001b[0;34m\u001b[0m\u001b[0;34m\u001b[0m\u001b[0m\n\u001b[1;32m   2475\u001b[0m \u001b[0;34m\u001b[0m\u001b[0m\n",
            "\u001b[0;32m/usr/local/lib/python3.10/dist-packages/google/colab/_system_commands.py\u001b[0m in \u001b[0;36m_shell_cell_magic\u001b[0;34m(args, cmd)\u001b[0m\n\u001b[1;32m    110\u001b[0m   \u001b[0mresult\u001b[0m \u001b[0;34m=\u001b[0m \u001b[0m_run_command\u001b[0m\u001b[0;34m(\u001b[0m\u001b[0mcmd\u001b[0m\u001b[0;34m,\u001b[0m \u001b[0mclear_streamed_output\u001b[0m\u001b[0;34m=\u001b[0m\u001b[0;32mFalse\u001b[0m\u001b[0;34m)\u001b[0m\u001b[0;34m\u001b[0m\u001b[0;34m\u001b[0m\u001b[0m\n\u001b[1;32m    111\u001b[0m   \u001b[0;32mif\u001b[0m \u001b[0;32mnot\u001b[0m \u001b[0mparsed_args\u001b[0m\u001b[0;34m.\u001b[0m\u001b[0mignore_errors\u001b[0m\u001b[0;34m:\u001b[0m\u001b[0;34m\u001b[0m\u001b[0;34m\u001b[0m\u001b[0m\n\u001b[0;32m--> 112\u001b[0;31m     \u001b[0mresult\u001b[0m\u001b[0;34m.\u001b[0m\u001b[0mcheck_returncode\u001b[0m\u001b[0;34m(\u001b[0m\u001b[0;34m)\u001b[0m\u001b[0;34m\u001b[0m\u001b[0;34m\u001b[0m\u001b[0m\n\u001b[0m\u001b[1;32m    113\u001b[0m   \u001b[0;32mreturn\u001b[0m \u001b[0mresult\u001b[0m\u001b[0;34m\u001b[0m\u001b[0;34m\u001b[0m\u001b[0m\n\u001b[1;32m    114\u001b[0m \u001b[0;34m\u001b[0m\u001b[0m\n",
            "\u001b[0;32m/usr/local/lib/python3.10/dist-packages/google/colab/_system_commands.py\u001b[0m in \u001b[0;36mcheck_returncode\u001b[0;34m(self)\u001b[0m\n\u001b[1;32m    135\u001b[0m   \u001b[0;32mdef\u001b[0m \u001b[0mcheck_returncode\u001b[0m\u001b[0;34m(\u001b[0m\u001b[0mself\u001b[0m\u001b[0;34m)\u001b[0m\u001b[0;34m:\u001b[0m\u001b[0;34m\u001b[0m\u001b[0;34m\u001b[0m\u001b[0m\n\u001b[1;32m    136\u001b[0m     \u001b[0;32mif\u001b[0m \u001b[0mself\u001b[0m\u001b[0;34m.\u001b[0m\u001b[0mreturncode\u001b[0m\u001b[0;34m:\u001b[0m\u001b[0;34m\u001b[0m\u001b[0;34m\u001b[0m\u001b[0m\n\u001b[0;32m--> 137\u001b[0;31m       raise subprocess.CalledProcessError(\n\u001b[0m\u001b[1;32m    138\u001b[0m           \u001b[0mreturncode\u001b[0m\u001b[0;34m=\u001b[0m\u001b[0mself\u001b[0m\u001b[0;34m.\u001b[0m\u001b[0mreturncode\u001b[0m\u001b[0;34m,\u001b[0m \u001b[0mcmd\u001b[0m\u001b[0;34m=\u001b[0m\u001b[0mself\u001b[0m\u001b[0;34m.\u001b[0m\u001b[0margs\u001b[0m\u001b[0;34m,\u001b[0m \u001b[0moutput\u001b[0m\u001b[0;34m=\u001b[0m\u001b[0mself\u001b[0m\u001b[0;34m.\u001b[0m\u001b[0moutput\u001b[0m\u001b[0;34m\u001b[0m\u001b[0;34m\u001b[0m\u001b[0m\n\u001b[1;32m    139\u001b[0m       )\n",
            "\u001b[0;31mCalledProcessError\u001b[0m: Command 'jupyter nbconvert --to html /content/Challenge_2.ipynb\n' returned non-zero exit status 255."
          ]
        }
      ]
    },
    {
      "cell_type": "code",
      "execution_count": 2,
      "metadata": {
        "id": "jg2Idv0RSnSW",
        "colab": {
          "base_uri": "https://localhost:8080/"
        },
        "outputId": "a5b4c87f-a7de-4db0-ce27-ed42a9aadcfc"
      },
      "outputs": [
        {
          "output_type": "stream",
          "name": "stdout",
          "text": [
            "Cloning into 'ClimSim'...\n",
            "remote: Enumerating objects: 4506, done.\u001b[K\n",
            "remote: Counting objects: 100% (811/811), done.\u001b[K\n",
            "remote: Compressing objects: 100% (357/357), done.\u001b[K\n",
            "remote: Total 4506 (delta 461), reused 718 (delta 441), pack-reused 3695\u001b[K\n",
            "Receiving objects: 100% (4506/4506), 140.16 MiB | 21.64 MiB/s, done.\n",
            "Resolving deltas: 100% (1554/1554), done.\n",
            "Updating files: 100% (2068/2068), done.\n",
            "/content/ClimSim\n",
            "Processing /content/ClimSim\n",
            "  Preparing metadata (setup.py) ... \u001b[?25l\u001b[?25hdone\n",
            "Requirement already satisfied: xarray in /usr/local/lib/python3.10/dist-packages (from climsim-utils==0.0.1) (2023.7.0)\n",
            "Requirement already satisfied: numpy in /usr/local/lib/python3.10/dist-packages (from climsim-utils==0.0.1) (1.23.5)\n",
            "Requirement already satisfied: pandas in /usr/local/lib/python3.10/dist-packages (from climsim-utils==0.0.1) (1.5.3)\n",
            "Requirement already satisfied: matplotlib in /usr/local/lib/python3.10/dist-packages (from climsim-utils==0.0.1) (3.7.1)\n",
            "Requirement already satisfied: tensorflow in /usr/local/lib/python3.10/dist-packages (from climsim-utils==0.0.1) (2.14.0)\n",
            "Collecting netCDF4 (from climsim-utils==0.0.1)\n",
            "  Downloading netCDF4-1.6.5-cp310-cp310-manylinux_2_17_x86_64.manylinux2014_x86_64.whl (5.5 MB)\n",
            "\u001b[2K     \u001b[90m━━━━━━━━━━━━━━━━━━━━━━━━━━━━━━━━━━━━━━━━\u001b[0m \u001b[32m5.5/5.5 MB\u001b[0m \u001b[31m19.8 MB/s\u001b[0m eta \u001b[36m0:00:00\u001b[0m\n",
            "\u001b[?25hRequirement already satisfied: h5py in /usr/local/lib/python3.10/dist-packages (from climsim-utils==0.0.1) (3.9.0)\n",
            "Requirement already satisfied: tqdm in /usr/local/lib/python3.10/dist-packages (from climsim-utils==0.0.1) (4.66.1)\n",
            "Requirement already satisfied: contourpy>=1.0.1 in /usr/local/lib/python3.10/dist-packages (from matplotlib->climsim-utils==0.0.1) (1.1.1)\n",
            "Requirement already satisfied: cycler>=0.10 in /usr/local/lib/python3.10/dist-packages (from matplotlib->climsim-utils==0.0.1) (0.12.1)\n",
            "Requirement already satisfied: fonttools>=4.22.0 in /usr/local/lib/python3.10/dist-packages (from matplotlib->climsim-utils==0.0.1) (4.43.1)\n",
            "Requirement already satisfied: kiwisolver>=1.0.1 in /usr/local/lib/python3.10/dist-packages (from matplotlib->climsim-utils==0.0.1) (1.4.5)\n",
            "Requirement already satisfied: packaging>=20.0 in /usr/local/lib/python3.10/dist-packages (from matplotlib->climsim-utils==0.0.1) (23.2)\n",
            "Requirement already satisfied: pillow>=6.2.0 in /usr/local/lib/python3.10/dist-packages (from matplotlib->climsim-utils==0.0.1) (9.4.0)\n",
            "Requirement already satisfied: pyparsing>=2.3.1 in /usr/local/lib/python3.10/dist-packages (from matplotlib->climsim-utils==0.0.1) (3.1.1)\n",
            "Requirement already satisfied: python-dateutil>=2.7 in /usr/local/lib/python3.10/dist-packages (from matplotlib->climsim-utils==0.0.1) (2.8.2)\n",
            "Collecting cftime (from netCDF4->climsim-utils==0.0.1)\n",
            "  Downloading cftime-1.6.3-cp310-cp310-manylinux_2_17_x86_64.manylinux2014_x86_64.whl (1.3 MB)\n",
            "\u001b[2K     \u001b[90m━━━━━━━━━━━━━━━━━━━━━━━━━━━━━━━━━━━━━━━━\u001b[0m \u001b[32m1.3/1.3 MB\u001b[0m \u001b[31m39.7 MB/s\u001b[0m eta \u001b[36m0:00:00\u001b[0m\n",
            "\u001b[?25hRequirement already satisfied: certifi in /usr/local/lib/python3.10/dist-packages (from netCDF4->climsim-utils==0.0.1) (2023.7.22)\n",
            "Requirement already satisfied: pytz>=2020.1 in /usr/local/lib/python3.10/dist-packages (from pandas->climsim-utils==0.0.1) (2023.3.post1)\n",
            "Requirement already satisfied: absl-py>=1.0.0 in /usr/local/lib/python3.10/dist-packages (from tensorflow->climsim-utils==0.0.1) (1.4.0)\n",
            "Requirement already satisfied: astunparse>=1.6.0 in /usr/local/lib/python3.10/dist-packages (from tensorflow->climsim-utils==0.0.1) (1.6.3)\n",
            "Requirement already satisfied: flatbuffers>=23.5.26 in /usr/local/lib/python3.10/dist-packages (from tensorflow->climsim-utils==0.0.1) (23.5.26)\n",
            "Requirement already satisfied: gast!=0.5.0,!=0.5.1,!=0.5.2,>=0.2.1 in /usr/local/lib/python3.10/dist-packages (from tensorflow->climsim-utils==0.0.1) (0.5.4)\n",
            "Requirement already satisfied: google-pasta>=0.1.1 in /usr/local/lib/python3.10/dist-packages (from tensorflow->climsim-utils==0.0.1) (0.2.0)\n",
            "Requirement already satisfied: libclang>=13.0.0 in /usr/local/lib/python3.10/dist-packages (from tensorflow->climsim-utils==0.0.1) (16.0.6)\n",
            "Requirement already satisfied: ml-dtypes==0.2.0 in /usr/local/lib/python3.10/dist-packages (from tensorflow->climsim-utils==0.0.1) (0.2.0)\n",
            "Requirement already satisfied: opt-einsum>=2.3.2 in /usr/local/lib/python3.10/dist-packages (from tensorflow->climsim-utils==0.0.1) (3.3.0)\n",
            "Requirement already satisfied: protobuf!=4.21.0,!=4.21.1,!=4.21.2,!=4.21.3,!=4.21.4,!=4.21.5,<5.0.0dev,>=3.20.3 in /usr/local/lib/python3.10/dist-packages (from tensorflow->climsim-utils==0.0.1) (3.20.3)\n",
            "Requirement already satisfied: setuptools in /usr/local/lib/python3.10/dist-packages (from tensorflow->climsim-utils==0.0.1) (67.7.2)\n",
            "Requirement already satisfied: six>=1.12.0 in /usr/local/lib/python3.10/dist-packages (from tensorflow->climsim-utils==0.0.1) (1.16.0)\n",
            "Requirement already satisfied: termcolor>=1.1.0 in /usr/local/lib/python3.10/dist-packages (from tensorflow->climsim-utils==0.0.1) (2.3.0)\n",
            "Requirement already satisfied: typing-extensions>=3.6.6 in /usr/local/lib/python3.10/dist-packages (from tensorflow->climsim-utils==0.0.1) (4.5.0)\n",
            "Requirement already satisfied: wrapt<1.15,>=1.11.0 in /usr/local/lib/python3.10/dist-packages (from tensorflow->climsim-utils==0.0.1) (1.14.1)\n",
            "Requirement already satisfied: tensorflow-io-gcs-filesystem>=0.23.1 in /usr/local/lib/python3.10/dist-packages (from tensorflow->climsim-utils==0.0.1) (0.34.0)\n",
            "Requirement already satisfied: grpcio<2.0,>=1.24.3 in /usr/local/lib/python3.10/dist-packages (from tensorflow->climsim-utils==0.0.1) (1.59.0)\n",
            "Requirement already satisfied: tensorboard<2.15,>=2.14 in /usr/local/lib/python3.10/dist-packages (from tensorflow->climsim-utils==0.0.1) (2.14.1)\n",
            "Requirement already satisfied: tensorflow-estimator<2.15,>=2.14.0 in /usr/local/lib/python3.10/dist-packages (from tensorflow->climsim-utils==0.0.1) (2.14.0)\n",
            "Requirement already satisfied: keras<2.15,>=2.14.0 in /usr/local/lib/python3.10/dist-packages (from tensorflow->climsim-utils==0.0.1) (2.14.0)\n",
            "Requirement already satisfied: wheel<1.0,>=0.23.0 in /usr/local/lib/python3.10/dist-packages (from astunparse>=1.6.0->tensorflow->climsim-utils==0.0.1) (0.41.2)\n",
            "Requirement already satisfied: google-auth<3,>=1.6.3 in /usr/local/lib/python3.10/dist-packages (from tensorboard<2.15,>=2.14->tensorflow->climsim-utils==0.0.1) (2.17.3)\n",
            "Requirement already satisfied: google-auth-oauthlib<1.1,>=0.5 in /usr/local/lib/python3.10/dist-packages (from tensorboard<2.15,>=2.14->tensorflow->climsim-utils==0.0.1) (1.0.0)\n",
            "Requirement already satisfied: markdown>=2.6.8 in /usr/local/lib/python3.10/dist-packages (from tensorboard<2.15,>=2.14->tensorflow->climsim-utils==0.0.1) (3.5)\n",
            "Requirement already satisfied: requests<3,>=2.21.0 in /usr/local/lib/python3.10/dist-packages (from tensorboard<2.15,>=2.14->tensorflow->climsim-utils==0.0.1) (2.31.0)\n",
            "Requirement already satisfied: tensorboard-data-server<0.8.0,>=0.7.0 in /usr/local/lib/python3.10/dist-packages (from tensorboard<2.15,>=2.14->tensorflow->climsim-utils==0.0.1) (0.7.2)\n",
            "Requirement already satisfied: werkzeug>=1.0.1 in /usr/local/lib/python3.10/dist-packages (from tensorboard<2.15,>=2.14->tensorflow->climsim-utils==0.0.1) (3.0.1)\n",
            "Requirement already satisfied: cachetools<6.0,>=2.0.0 in /usr/local/lib/python3.10/dist-packages (from google-auth<3,>=1.6.3->tensorboard<2.15,>=2.14->tensorflow->climsim-utils==0.0.1) (5.3.2)\n",
            "Requirement already satisfied: pyasn1-modules>=0.2.1 in /usr/local/lib/python3.10/dist-packages (from google-auth<3,>=1.6.3->tensorboard<2.15,>=2.14->tensorflow->climsim-utils==0.0.1) (0.3.0)\n",
            "Requirement already satisfied: rsa<5,>=3.1.4 in /usr/local/lib/python3.10/dist-packages (from google-auth<3,>=1.6.3->tensorboard<2.15,>=2.14->tensorflow->climsim-utils==0.0.1) (4.9)\n",
            "Requirement already satisfied: requests-oauthlib>=0.7.0 in /usr/local/lib/python3.10/dist-packages (from google-auth-oauthlib<1.1,>=0.5->tensorboard<2.15,>=2.14->tensorflow->climsim-utils==0.0.1) (1.3.1)\n",
            "Requirement already satisfied: charset-normalizer<4,>=2 in /usr/local/lib/python3.10/dist-packages (from requests<3,>=2.21.0->tensorboard<2.15,>=2.14->tensorflow->climsim-utils==0.0.1) (3.3.1)\n",
            "Requirement already satisfied: idna<4,>=2.5 in /usr/local/lib/python3.10/dist-packages (from requests<3,>=2.21.0->tensorboard<2.15,>=2.14->tensorflow->climsim-utils==0.0.1) (3.4)\n",
            "Requirement already satisfied: urllib3<3,>=1.21.1 in /usr/local/lib/python3.10/dist-packages (from requests<3,>=2.21.0->tensorboard<2.15,>=2.14->tensorflow->climsim-utils==0.0.1) (2.0.7)\n",
            "Requirement already satisfied: MarkupSafe>=2.1.1 in /usr/local/lib/python3.10/dist-packages (from werkzeug>=1.0.1->tensorboard<2.15,>=2.14->tensorflow->climsim-utils==0.0.1) (2.1.3)\n",
            "Requirement already satisfied: pyasn1<0.6.0,>=0.4.6 in /usr/local/lib/python3.10/dist-packages (from pyasn1-modules>=0.2.1->google-auth<3,>=1.6.3->tensorboard<2.15,>=2.14->tensorflow->climsim-utils==0.0.1) (0.5.0)\n",
            "Requirement already satisfied: oauthlib>=3.0.0 in /usr/local/lib/python3.10/dist-packages (from requests-oauthlib>=0.7.0->google-auth-oauthlib<1.1,>=0.5->tensorboard<2.15,>=2.14->tensorflow->climsim-utils==0.0.1) (3.2.2)\n",
            "Building wheels for collected packages: climsim-utils\n",
            "  Building wheel for climsim-utils (setup.py) ... \u001b[?25l\u001b[?25hdone\n",
            "  Created wheel for climsim-utils: filename=climsim_utils-0.0.1-py3-none-any.whl size=14489 sha256=6397109b1e4541a21e5afc2ff0c07e1f5efc13955f85ee83c3e3e029caa79e08\n",
            "  Stored in directory: /tmp/pip-ephem-wheel-cache-opyjzj5f/wheels/a2/10/6e/125ae0c7cf1c521a7afaa0ba206e930d032a286728ae1a9103\n",
            "Successfully built climsim-utils\n",
            "Installing collected packages: cftime, netCDF4, climsim-utils\n",
            "Successfully installed cftime-1.6.3 climsim-utils-0.0.1 netCDF4-1.6.5\n"
          ]
        }
      ],
      "source": [
        "!git clone https://github.com/leap-stc/ClimSim.git\n",
        "\n",
        "# Step 2: Navigate to the cloned repository directory\n",
        "%cd ClimSim\n",
        "\n",
        "# Step 3: Install the climsim_utils package\n",
        "!pip install ."
      ]
    },
    {
      "cell_type": "code",
      "source": [
        "from google.colab import drive\n",
        "drive.mount('/content/drive')"
      ],
      "metadata": {
        "colab": {
          "base_uri": "https://localhost:8080/"
        },
        "id": "rOMMlAQKBe6j",
        "outputId": "c6c85af4-cc8d-4c6f-ca64-483c15d18945"
      },
      "execution_count": 3,
      "outputs": [
        {
          "output_type": "stream",
          "name": "stdout",
          "text": [
            "Mounted at /content/drive\n"
          ]
        }
      ]
    },
    {
      "cell_type": "markdown",
      "source": [
        "# Challenge 2"
      ],
      "metadata": {
        "id": "w7QkMiRbYUT6"
      }
    },
    {
      "cell_type": "markdown",
      "source": [
        "## Load training and validation data"
      ],
      "metadata": {
        "id": "EL4sQhjfX8tx"
      }
    },
    {
      "cell_type": "code",
      "source": [
        "!ls /content/ClimSim"
      ],
      "metadata": {
        "colab": {
          "base_uri": "https://localhost:8080/"
        },
        "id": "IYBcgFmAYSlx",
        "outputId": "76d1208b-1d57-4c1a-cc29-e3d16a727fcd"
      },
      "execution_count": 4,
      "outputs": [
        {
          "output_type": "stream",
          "name": "stdout",
          "text": [
            "ARCHITECTURE.md  climsim_utils\t\t demo_notebooks  grid_info\tREADME.md  website\n",
            "baseline_models  climsim_utils.egg-info  evaluation\t LICENSE\tsetup.py\n",
            "build\t\t dataset_statistics\t figures\t preprocessing\ttests\n"
          ]
        }
      ]
    },
    {
      "cell_type": "code",
      "source": [
        "!pip install netCDF4"
      ],
      "metadata": {
        "colab": {
          "base_uri": "https://localhost:8080/"
        },
        "id": "RbFZeaJNa1-A",
        "outputId": "84eb8229-eafd-40fb-92b8-f35cc5f47647"
      },
      "execution_count": 5,
      "outputs": [
        {
          "output_type": "stream",
          "name": "stdout",
          "text": [
            "Requirement already satisfied: netCDF4 in /usr/local/lib/python3.10/dist-packages (1.6.5)\n",
            "Requirement already satisfied: cftime in /usr/local/lib/python3.10/dist-packages (from netCDF4) (1.6.3)\n",
            "Requirement already satisfied: certifi in /usr/local/lib/python3.10/dist-packages (from netCDF4) (2023.7.22)\n",
            "Requirement already satisfied: numpy in /usr/local/lib/python3.10/dist-packages (from netCDF4) (1.23.5)\n"
          ]
        }
      ]
    },
    {
      "cell_type": "code",
      "source": [
        "from climsim_utils.data_utils import *"
      ],
      "metadata": {
        "id": "JHXztLMba6wQ"
      },
      "execution_count": 6,
      "outputs": []
    },
    {
      "cell_type": "code",
      "source": [
        "grid_path = 'grid_info/ClimSim_low-res_grid-info.nc'\n",
        "norm_path = 'preprocessing/normalizations/'\n",
        "\n",
        "grid_info = xr.open_dataset(grid_path)\n",
        "input_mean = xr.open_dataset(norm_path + 'inputs/input_mean.nc')\n",
        "input_max = xr.open_dataset(norm_path + 'inputs/input_max.nc')\n",
        "input_min = xr.open_dataset(norm_path + 'inputs/input_min.nc')\n",
        "output_scale = xr.open_dataset(norm_path + 'outputs/output_scale.nc')\n",
        "\n",
        "data = data_utils(grid_info = grid_info,\n",
        "                  input_mean = input_mean,\n",
        "                  input_max = input_max,\n",
        "                  input_min = input_min,\n",
        "                  output_scale = output_scale)\n",
        "\n",
        "# set variables to V1 subset\n",
        "data.set_to_v1_vars()"
      ],
      "metadata": {
        "id": "YFxrKAttatAU"
      },
      "execution_count": 7,
      "outputs": []
    },
    {
      "cell_type": "code",
      "source": [
        "# Change this path to your own\n",
        "\n",
        "train_input_path = '/content/drive/MyDrive/Project3_data/train_input.npy'\n",
        "train_target_path = '/content/drive/MyDrive/Project3_data/train_target.npy'\n",
        "val_input_path = '/content/drive/MyDrive/Project3_data/val_input.npy'\n",
        "val_target_path = '/content/drive/MyDrive/Project3_data/val_target.npy'"
      ],
      "metadata": {
        "id": "-9fQq7suY-u1"
      },
      "execution_count": 8,
      "outputs": []
    },
    {
      "cell_type": "markdown",
      "source": [
        "# Section1: Inflated Zero Prediction"
      ],
      "metadata": {
        "id": "mO-X4feuV5TT"
      }
    },
    {
      "cell_type": "markdown",
      "source": [
        "**Subsetting the data**"
      ],
      "metadata": {
        "id": "Di1ukegLWmoV"
      }
    },
    {
      "cell_type": "code",
      "source": [
        "# sample at random\n",
        "import numpy as np\n",
        "np.random.seed(123)\n",
        "rd_samp_list = np.random.random_integers(1,10091, size=3840)"
      ],
      "metadata": {
        "colab": {
          "base_uri": "https://localhost:8080/"
        },
        "id": "PbJa2GuWWA_0",
        "outputId": "a6611f9b-b3ea-4097-bf6f-12835691fc09"
      },
      "execution_count": 9,
      "outputs": [
        {
          "output_type": "stream",
          "name": "stderr",
          "text": [
            "<ipython-input-9-40c249d21939>:4: DeprecationWarning: This function is deprecated. Please call randint(1, 10091 + 1) instead\n",
            "  rd_samp_list = np.random.random_integers(1,10091, size=3840)\n"
          ]
        }
      ]
    },
    {
      "cell_type": "code",
      "source": [
        "data.input_train = data.load_npy_file(train_input_path)[rd_samp_list,:]\n",
        "#np.save('train_input_sub3840.npy',data.input_train, allow_pickle=True)\n",
        "np.shape(data.input_train)"
      ],
      "metadata": {
        "colab": {
          "base_uri": "https://localhost:8080/"
        },
        "id": "EXBdjUCeWNcJ",
        "outputId": "bb1640aa-1a12-4225-f6db-a9c64e043f9e"
      },
      "execution_count": 10,
      "outputs": [
        {
          "output_type": "execute_result",
          "data": {
            "text/plain": [
              "(3840, 124)"
            ]
          },
          "metadata": {},
          "execution_count": 10
        }
      ]
    },
    {
      "cell_type": "code",
      "source": [
        "data.target_train = data.load_npy_file(train_target_path)[rd_samp_list,:]\n",
        "#np.save('train_target_sub3840.npy',data.target_train, allow_pickle=True)\n",
        "np.shape(data.target_train)"
      ],
      "metadata": {
        "colab": {
          "base_uri": "https://localhost:8080/"
        },
        "id": "zRpHC_KKWvc8",
        "outputId": "eec62290-e1b3-4a03-8c63-ec0797a612f9"
      },
      "execution_count": 11,
      "outputs": [
        {
          "output_type": "execute_result",
          "data": {
            "text/plain": [
              "(3840, 128)"
            ]
          },
          "metadata": {},
          "execution_count": 11
        }
      ]
    },
    {
      "cell_type": "code",
      "source": [
        "data.target_val = data.load_npy_file(val_target_path)[rd_samp_list,:]\n",
        "#np.save('val_target_sub3840.npy',data.target_val, allow_pickle=True)\n",
        "np.shape(data.target_val)"
      ],
      "metadata": {
        "colab": {
          "base_uri": "https://localhost:8080/"
        },
        "id": "GarbJ7H8bugY",
        "outputId": "8a35601a-5880-4f20-aaf0-cb25d3e0eaa5"
      },
      "execution_count": 12,
      "outputs": [
        {
          "output_type": "execute_result",
          "data": {
            "text/plain": [
              "(3840, 128)"
            ]
          },
          "metadata": {},
          "execution_count": 12
        }
      ]
    },
    {
      "cell_type": "code",
      "source": [
        "data.input_val = data.load_npy_file(val_input_path)[rd_samp_list,:]\n",
        "#np.save('val_input_sub3840.npy',data.input_val, allow_pickle=True)\n",
        "np.shape(data.input_val)"
      ],
      "metadata": {
        "colab": {
          "base_uri": "https://localhost:8080/"
        },
        "id": "DG1SnfG3buTO",
        "outputId": "4f6273f0-22f4-4089-ba2b-efae653cdb85"
      },
      "execution_count": 13,
      "outputs": [
        {
          "output_type": "execute_result",
          "data": {
            "text/plain": [
              "(3840, 124)"
            ]
          },
          "metadata": {},
          "execution_count": 13
        }
      ]
    },
    {
      "cell_type": "code",
      "source": [
        "import pandas as pd\n",
        "import seaborn as sns\n",
        "tmp = pd.DataFrame(data.target_train)\n",
        "tmp1 = pd.DataFrame(data.target_val)\n",
        "\n",
        "sns.heatmap(tmp[tmp>0])\n",
        "#print(tmp.isnull().count())"
      ],
      "metadata": {
        "colab": {
          "base_uri": "https://localhost:8080/",
          "height": 467
        },
        "id": "jJYat8UQWyAg",
        "outputId": "96477cd0-d542-4e73-aaf8-fba9a7044805"
      },
      "execution_count": 14,
      "outputs": [
        {
          "output_type": "execute_result",
          "data": {
            "text/plain": [
              "<Axes: >"
            ]
          },
          "metadata": {},
          "execution_count": 14
        },
        {
          "output_type": "display_data",
          "data": {
            "text/plain": [
              "<Figure size 640x480 with 2 Axes>"
            ],
            "image/png": "[encoded data removed]"
          },
          "metadata": {}
        }
      ]
    },
    {
      "cell_type": "code",
      "source": [],
      "metadata": {
        "colab": {
          "base_uri": "https://localhost:8080/",
          "height": 444
        },
        "id": "qDfpY9wLNZAE",
        "outputId": "083161df-cbc9-4674-f0c4-9370dca50ac7"
      },
      "execution_count": null,
      "outputs": [
        {
          "output_type": "execute_result",
          "data": {
            "text/plain": [
              "           0         1         2         3         4         5         6    \\\n",
              "0    -0.051015 -0.084005 -0.042217 -0.057004 -0.080328 -0.097813 -0.088183   \n",
              "1    -0.023153 -0.072105 -0.008003 -0.057662 -0.091456 -0.118251 -0.108992   \n",
              "2    -0.008441 -0.082944 -0.077815 -0.081853 -0.080663 -0.090192 -0.088474   \n",
              "3    -0.021756 -0.025124 -0.057871 -0.060814 -0.080787 -0.093583 -0.087148   \n",
              "4    -0.026421 -0.015312 -0.037429 -0.061920 -0.085901 -0.088910 -0.071975   \n",
              "...        ...       ...       ...       ...       ...       ...       ...   \n",
              "3835 -0.032833 -0.054343 -0.031515 -0.053479 -0.069867 -0.082050 -0.086163   \n",
              "3836  0.045105  0.010177  0.042656  0.068401  0.106592  0.144918  0.146330   \n",
              "3837  0.035668 -0.005614  0.011586  0.016741 -0.021514 -0.049720 -0.030522   \n",
              "3838  0.001696  0.017408  0.054837  0.066068  0.082153  0.071875  0.036624   \n",
              "3839 -0.015435 -0.069529 -0.062482 -0.067087 -0.080158 -0.099032 -0.089700   \n",
              "\n",
              "           7         8         9    ...       118       119       120  \\\n",
              "0    -0.061342 -0.036200 -0.027788  ... -0.020347  0.055967  0.000000   \n",
              "1    -0.079142 -0.051904 -0.043198  ... -0.179627  0.134845  0.000000   \n",
              "2    -0.071323 -0.046802 -0.036006  ... -0.056697 -0.028289  0.000000   \n",
              "3    -0.072393 -0.048403 -0.042938  ... -0.529970 -0.568937  0.000000   \n",
              "4    -0.058426 -0.038670 -0.027367  ...  0.071082  0.155986  0.000000   \n",
              "...        ...       ...       ...  ...       ...       ...       ...   \n",
              "3835 -0.067919 -0.037138 -0.026178  ...  0.006489  0.003885  0.000000   \n",
              "3836  0.101074  0.060989  0.045273  ... -0.513229 -0.528738  1.203780   \n",
              "3837 -0.012881 -0.007425 -0.004393  ... -0.216114 -0.438585  0.178954   \n",
              "3838  0.030599  0.027626  0.026804  ...  0.029270  0.083263  0.387452   \n",
              "3839 -0.063058 -0.044680 -0.039509  ... -0.185487  0.050994  0.000000   \n",
              "\n",
              "           121       122       123       124       125       126       127  \n",
              "0     1.927511  0.000000  0.528168  0.000000  0.000000  0.000000  0.000000  \n",
              "1     2.144170  0.000000  0.281287  0.000000  0.000000  0.000000  0.000000  \n",
              "2     1.912760  0.000000  0.000000  0.000000  0.000000  0.000000  0.000000  \n",
              "3     2.163975  0.000000  0.431322  0.000000  0.000000  0.000000  0.000000  \n",
              "4     1.446719  0.171126  0.070021  0.000000  0.000000  0.000000  0.000000  \n",
              "...        ...       ...       ...       ...       ...       ...       ...  \n",
              "3835  0.913436  0.000000  0.000000  0.000000  0.000000  0.000000  0.000000  \n",
              "3836  1.883397  0.000000  0.000000  1.235841  1.251669  0.261401  0.034109  \n",
              "3837  1.765967  0.000000  0.000000  0.145986  0.176606  0.132514  0.064537  \n",
              "3838  1.835962  0.000000  0.001437  0.278778  0.399912  0.213234  0.066757  \n",
              "3839  2.200138  0.000000  0.107306  0.000000  0.000000  0.000000  0.000000  \n",
              "\n",
              "[3840 rows x 128 columns]"
            ],
            "text/html": [
              "\n",
              "  <div id=\"df-fd9f1b45-f70c-4f1f-a2f9-8ff7b681b16e\" class=\"colab-df-container\">\n",
              "    <div>\n",
              "<style scoped>\n",
              "    .dataframe tbody tr th:only-of-type {\n",
              "        vertical-align: middle;\n",
              "    }\n",
              "\n",
              "    .dataframe tbody tr th {\n",
              "        vertical-align: top;\n",
              "    }\n",
              "\n",
              "    .dataframe thead th {\n",
              "        text-align: right;\n",
              "    }\n",
              "</style>\n",
              "<table border=\"1\" class=\"dataframe\">\n",
              "  <thead>\n",
              "    <tr style=\"text-align: right;\">\n",
              "      <th></th>\n",
              "      <th>0</th>\n",
              "      <th>1</th>\n",
              "      <th>2</th>\n",
              "      <th>3</th>\n",
              "      <th>4</th>\n",
              "      <th>5</th>\n",
              "      <th>6</th>\n",
              "      <th>7</th>\n",
              "      <th>8</th>\n",
              "      <th>9</th>\n",
              "      <th>...</th>\n",
              "      <th>118</th>\n",
              "      <th>119</th>\n",
              "      <th>120</th>\n",
              "      <th>121</th>\n",
              "      <th>122</th>\n",
              "      <th>123</th>\n",
              "      <th>124</th>\n",
              "      <th>125</th>\n",
              "      <th>126</th>\n",
              "      <th>127</th>\n",
              "    </tr>\n",
              "  </thead>\n",
              "  <tbody>\n",
              "    <tr>\n",
              "      <th>0</th>\n",
              "      <td>-0.051015</td>\n",
              "      <td>-0.084005</td>\n",
              "      <td>-0.042217</td>\n",
              "      <td>-0.057004</td>\n",
              "      <td>-0.080328</td>\n",
              "      <td>-0.097813</td>\n",
              "      <td>-0.088183</td>\n",
              "      <td>-0.061342</td>\n",
              "      <td>-0.036200</td>\n",
              "      <td>-0.027788</td>\n",
              "      <td>...</td>\n",
              "      <td>-0.020347</td>\n",
              "      <td>0.055967</td>\n",
              "      <td>0.000000</td>\n",
              "      <td>1.927511</td>\n",
              "      <td>0.000000</td>\n",
              "      <td>0.528168</td>\n",
              "      <td>0.000000</td>\n",
              "      <td>0.000000</td>\n",
              "      <td>0.000000</td>\n",
              "      <td>0.000000</td>\n",
              "    </tr>\n",
              "    <tr>\n",
              "      <th>1</th>\n",
              "      <td>-0.023153</td>\n",
              "      <td>-0.072105</td>\n",
              "      <td>-0.008003</td>\n",
              "      <td>-0.057662</td>\n",
              "      <td>-0.091456</td>\n",
              "      <td>-0.118251</td>\n",
              "      <td>-0.108992</td>\n",
              "      <td>-0.079142</td>\n",
              "      <td>-0.051904</td>\n",
              "      <td>-0.043198</td>\n",
              "      <td>...</td>\n",
              "      <td>-0.179627</td>\n",
              "      <td>0.134845</td>\n",
              "      <td>0.000000</td>\n",
              "      <td>2.144170</td>\n",
              "      <td>0.000000</td>\n",
              "      <td>0.281287</td>\n",
              "      <td>0.000000</td>\n",
              "      <td>0.000000</td>\n",
              "      <td>0.000000</td>\n",
              "      <td>0.000000</td>\n",
              "    </tr>\n",
              "    <tr>\n",
              "      <th>2</th>\n",
              "      <td>-0.008441</td>\n",
              "      <td>-0.082944</td>\n",
              "      <td>-0.077815</td>\n",
              "      <td>-0.081853</td>\n",
              "      <td>-0.080663</td>\n",
              "      <td>-0.090192</td>\n",
              "      <td>-0.088474</td>\n",
              "      <td>-0.071323</td>\n",
              "      <td>-0.046802</td>\n",
              "      <td>-0.036006</td>\n",
              "      <td>...</td>\n",
              "      <td>-0.056697</td>\n",
              "      <td>-0.028289</td>\n",
              "      <td>0.000000</td>\n",
              "      <td>1.912760</td>\n",
              "      <td>0.000000</td>\n",
              "      <td>0.000000</td>\n",
              "      <td>0.000000</td>\n",
              "      <td>0.000000</td>\n",
              "      <td>0.000000</td>\n",
              "      <td>0.000000</td>\n",
              "    </tr>\n",
              "    <tr>\n",
              "      <th>3</th>\n",
              "      <td>-0.021756</td>\n",
              "      <td>-0.025124</td>\n",
              "      <td>-0.057871</td>\n",
              "      <td>-0.060814</td>\n",
              "      <td>-0.080787</td>\n",
              "      <td>-0.093583</td>\n",
              "      <td>-0.087148</td>\n",
              "      <td>-0.072393</td>\n",
              "      <td>-0.048403</td>\n",
              "      <td>-0.042938</td>\n",
              "      <td>...</td>\n",
              "      <td>-0.529970</td>\n",
              "      <td>-0.568937</td>\n",
              "      <td>0.000000</td>\n",
              "      <td>2.163975</td>\n",
              "      <td>0.000000</td>\n",
              "      <td>0.431322</td>\n",
              "      <td>0.000000</td>\n",
              "      <td>0.000000</td>\n",
              "      <td>0.000000</td>\n",
              "      <td>0.000000</td>\n",
              "    </tr>\n",
              "    <tr>\n",
              "      <th>4</th>\n",
              "      <td>-0.026421</td>\n",
              "      <td>-0.015312</td>\n",
              "      <td>-0.037429</td>\n",
              "      <td>-0.061920</td>\n",
              "      <td>-0.085901</td>\n",
              "      <td>-0.088910</td>\n",
              "      <td>-0.071975</td>\n",
              "      <td>-0.058426</td>\n",
              "      <td>-0.038670</td>\n",
              "      <td>-0.027367</td>\n",
              "      <td>...</td>\n",
              "      <td>0.071082</td>\n",
              "      <td>0.155986</td>\n",
              "      <td>0.000000</td>\n",
              "      <td>1.446719</td>\n",
              "      <td>0.171126</td>\n",
              "      <td>0.070021</td>\n",
              "      <td>0.000000</td>\n",
              "      <td>0.000000</td>\n",
              "      <td>0.000000</td>\n",
              "      <td>0.000000</td>\n",
              "    </tr>\n",
              "    <tr>\n",
              "      <th>...</th>\n",
              "      <td>...</td>\n",
              "      <td>...</td>\n",
              "      <td>...</td>\n",
              "      <td>...</td>\n",
              "      <td>...</td>\n",
              "      <td>...</td>\n",
              "      <td>...</td>\n",
              "      <td>...</td>\n",
              "      <td>...</td>\n",
              "      <td>...</td>\n",
              "      <td>...</td>\n",
              "      <td>...</td>\n",
              "      <td>...</td>\n",
              "      <td>...</td>\n",
              "      <td>...</td>\n",
              "      <td>...</td>\n",
              "      <td>...</td>\n",
              "      <td>...</td>\n",
              "      <td>...</td>\n",
              "      <td>...</td>\n",
              "      <td>...</td>\n",
              "    </tr>\n",
              "    <tr>\n",
              "      <th>3835</th>\n",
              "      <td>-0.032833</td>\n",
              "      <td>-0.054343</td>\n",
              "      <td>-0.031515</td>\n",
              "      <td>-0.053479</td>\n",
              "      <td>-0.069867</td>\n",
              "      <td>-0.082050</td>\n",
              "      <td>-0.086163</td>\n",
              "      <td>-0.067919</td>\n",
              "      <td>-0.037138</td>\n",
              "      <td>-0.026178</td>\n",
              "      <td>...</td>\n",
              "      <td>0.006489</td>\n",
              "      <td>0.003885</td>\n",
              "      <td>0.000000</td>\n",
              "      <td>0.913436</td>\n",
              "      <td>0.000000</td>\n",
              "      <td>0.000000</td>\n",
              "      <td>0.000000</td>\n",
              "      <td>0.000000</td>\n",
              "      <td>0.000000</td>\n",
              "      <td>0.000000</td>\n",
              "    </tr>\n",
              "    <tr>\n",
              "      <th>3836</th>\n",
              "      <td>0.045105</td>\n",
              "      <td>0.010177</td>\n",
              "      <td>0.042656</td>\n",
              "      <td>0.068401</td>\n",
              "      <td>0.106592</td>\n",
              "      <td>0.144918</td>\n",
              "      <td>0.146330</td>\n",
              "      <td>0.101074</td>\n",
              "      <td>0.060989</td>\n",
              "      <td>0.045273</td>\n",
              "      <td>...</td>\n",
              "      <td>-0.513229</td>\n",
              "      <td>-0.528738</td>\n",
              "      <td>1.203780</td>\n",
              "      <td>1.883397</td>\n",
              "      <td>0.000000</td>\n",
              "      <td>0.000000</td>\n",
              "      <td>1.235841</td>\n",
              "      <td>1.251669</td>\n",
              "      <td>0.261401</td>\n",
              "      <td>0.034109</td>\n",
              "    </tr>\n",
              "    <tr>\n",
              "      <th>3837</th>\n",
              "      <td>0.035668</td>\n",
              "      <td>-0.005614</td>\n",
              "      <td>0.011586</td>\n",
              "      <td>0.016741</td>\n",
              "      <td>-0.021514</td>\n",
              "      <td>-0.049720</td>\n",
              "      <td>-0.030522</td>\n",
              "      <td>-0.012881</td>\n",
              "      <td>-0.007425</td>\n",
              "      <td>-0.004393</td>\n",
              "      <td>...</td>\n",
              "      <td>-0.216114</td>\n",
              "      <td>-0.438585</td>\n",
              "      <td>0.178954</td>\n",
              "      <td>1.765967</td>\n",
              "      <td>0.000000</td>\n",
              "      <td>0.000000</td>\n",
              "      <td>0.145986</td>\n",
              "      <td>0.176606</td>\n",
              "      <td>0.132514</td>\n",
              "      <td>0.064537</td>\n",
              "    </tr>\n",
              "    <tr>\n",
              "      <th>3838</th>\n",
              "      <td>0.001696</td>\n",
              "      <td>0.017408</td>\n",
              "      <td>0.054837</td>\n",
              "      <td>0.066068</td>\n",
              "      <td>0.082153</td>\n",
              "      <td>0.071875</td>\n",
              "      <td>0.036624</td>\n",
              "      <td>0.030599</td>\n",
              "      <td>0.027626</td>\n",
              "      <td>0.026804</td>\n",
              "      <td>...</td>\n",
              "      <td>0.029270</td>\n",
              "      <td>0.083263</td>\n",
              "      <td>0.387452</td>\n",
              "      <td>1.835962</td>\n",
              "      <td>0.000000</td>\n",
              "      <td>0.001437</td>\n",
              "      <td>0.278778</td>\n",
              "      <td>0.399912</td>\n",
              "      <td>0.213234</td>\n",
              "      <td>0.066757</td>\n",
              "    </tr>\n",
              "    <tr>\n",
              "      <th>3839</th>\n",
              "      <td>-0.015435</td>\n",
              "      <td>-0.069529</td>\n",
              "      <td>-0.062482</td>\n",
              "      <td>-0.067087</td>\n",
              "      <td>-0.080158</td>\n",
              "      <td>-0.099032</td>\n",
              "      <td>-0.089700</td>\n",
              "      <td>-0.063058</td>\n",
              "      <td>-0.044680</td>\n",
              "      <td>-0.039509</td>\n",
              "      <td>...</td>\n",
              "      <td>-0.185487</td>\n",
              "      <td>0.050994</td>\n",
              "      <td>0.000000</td>\n",
              "      <td>2.200138</td>\n",
              "      <td>0.000000</td>\n",
              "      <td>0.107306</td>\n",
              "      <td>0.000000</td>\n",
              "      <td>0.000000</td>\n",
              "      <td>0.000000</td>\n",
              "      <td>0.000000</td>\n",
              "    </tr>\n",
              "  </tbody>\n",
              "</table>\n",
              "<p>3840 rows × 128 columns</p>\n",
              "</div>\n",
              "    <div class=\"colab-df-buttons\">\n",
              "\n",
              "  <div class=\"colab-df-container\">\n",
              "    <button class=\"colab-df-convert\" onclick=\"convertToInteractive('df-fd9f1b45-f70c-4f1f-a2f9-8ff7b681b16e')\"\n",
              "            title=\"Convert this dataframe to an interactive table.\"\n",
              "            style=\"display:none;\">\n",
              "\n",
              "  <svg xmlns=\"http://www.w3.org/2000/svg\" height=\"24px\" viewBox=\"0 -960 960 960\">\n",
              "    <path d=\"M120-120v-720h720v720H120Zm60-500h600v-160H180v160Zm220 220h160v-160H400v160Zm0 220h160v-160H400v160ZM180-400h160v-160H180v160Zm440 0h160v-160H620v160ZM180-180h160v-160H180v160Zm440 0h160v-160H620v160Z\"/>\n",
              "  </svg>\n",
              "    </button>\n",
              "\n",
              "  <style>\n",
              "    .colab-df-container {\n",
              "      display:flex;\n",
              "      gap: 12px;\n",
              "    }\n",
              "\n",
              "    .colab-df-convert {\n",
              "      background-color: #E8F0FE;\n",
              "      border: none;\n",
              "      border-radius: 50%;\n",
              "      cursor: pointer;\n",
              "      display: none;\n",
              "      fill: #1967D2;\n",
              "      height: 32px;\n",
              "      padding: 0 0 0 0;\n",
              "      width: 32px;\n",
              "    }\n",
              "\n",
              "    .colab-df-convert:hover {\n",
              "      background-color: #E2EBFA;\n",
              "      box-shadow: 0px 1px 2px rgba(60, 64, 67, 0.3), 0px 1px 3px 1px rgba(60, 64, 67, 0.15);\n",
              "      fill: #174EA6;\n",
              "    }\n",
              "\n",
              "    .colab-df-buttons div {\n",
              "      margin-bottom: 4px;\n",
              "    }\n",
              "\n",
              "    [theme=dark] .colab-df-convert {\n",
              "      background-color: #3B4455;\n",
              "      fill: #D2E3FC;\n",
              "    }\n",
              "\n",
              "    [theme=dark] .colab-df-convert:hover {\n",
              "      background-color: #434B5C;\n",
              "      box-shadow: 0px 1px 3px 1px rgba(0, 0, 0, 0.15);\n",
              "      filter: drop-shadow(0px 1px 2px rgba(0, 0, 0, 0.3));\n",
              "      fill: #FFFFFF;\n",
              "    }\n",
              "  </style>\n",
              "\n",
              "    <script>\n",
              "      const buttonEl =\n",
              "        document.querySelector('#df-fd9f1b45-f70c-4f1f-a2f9-8ff7b681b16e button.colab-df-convert');\n",
              "      buttonEl.style.display =\n",
              "        google.colab.kernel.accessAllowed ? 'block' : 'none';\n",
              "\n",
              "      async function convertToInteractive(key) {\n",
              "        const element = document.querySelector('#df-fd9f1b45-f70c-4f1f-a2f9-8ff7b681b16e');\n",
              "        const dataTable =\n",
              "          await google.colab.kernel.invokeFunction('convertToInteractive',\n",
              "                                                    [key], {});\n",
              "        if (!dataTable) return;\n",
              "\n",
              "        const docLinkHtml = 'Like what you see? Visit the ' +\n",
              "          '<a target=\"_blank\" href=https://colab.research.google.com/notebooks/data_table.ipynb>data table notebook</a>'\n",
              "          + ' to learn more about interactive tables.';\n",
              "        element.innerHTML = '';\n",
              "        dataTable['output_type'] = 'display_data';\n",
              "        await google.colab.output.renderOutput(dataTable, element);\n",
              "        const docLink = document.createElement('div');\n",
              "        docLink.innerHTML = docLinkHtml;\n",
              "        element.appendChild(docLink);\n",
              "      }\n",
              "    </script>\n",
              "  </div>\n",
              "\n",
              "\n",
              "<div id=\"df-e87643fe-6c72-4285-b3b3-fbeb5241fd11\">\n",
              "  <button class=\"colab-df-quickchart\" onclick=\"quickchart('df-e87643fe-6c72-4285-b3b3-fbeb5241fd11')\"\n",
              "            title=\"Suggest charts.\"\n",
              "            style=\"display:none;\">\n",
              "\n",
              "<svg xmlns=\"http://www.w3.org/2000/svg\" height=\"24px\"viewBox=\"0 0 24 24\"\n",
              "     width=\"24px\">\n",
              "    <g>\n",
              "        <path d=\"M19 3H5c-1.1 0-2 .9-2 2v14c0 1.1.9 2 2 2h14c1.1 0 2-.9 2-2V5c0-1.1-.9-2-2-2zM9 17H7v-7h2v7zm4 0h-2V7h2v10zm4 0h-2v-4h2v4z\"/>\n",
              "    </g>\n",
              "</svg>\n",
              "  </button>\n",
              "\n",
              "<style>\n",
              "  .colab-df-quickchart {\n",
              "      --bg-color: #E8F0FE;\n",
              "      --fill-color: #1967D2;\n",
              "      --hover-bg-color: #E2EBFA;\n",
              "      --hover-fill-color: #174EA6;\n",
              "      --disabled-fill-color: #AAA;\n",
              "      --disabled-bg-color: #DDD;\n",
              "  }\n",
              "\n",
              "  [theme=dark] .colab-df-quickchart {\n",
              "      --bg-color: #3B4455;\n",
              "      --fill-color: #D2E3FC;\n",
              "      --hover-bg-color: #434B5C;\n",
              "      --hover-fill-color: #FFFFFF;\n",
              "      --disabled-bg-color: #3B4455;\n",
              "      --disabled-fill-color: #666;\n",
              "  }\n",
              "\n",
              "  .colab-df-quickchart {\n",
              "    background-color: var(--bg-color);\n",
              "    border: none;\n",
              "    border-radius: 50%;\n",
              "    cursor: pointer;\n",
              "    display: none;\n",
              "    fill: var(--fill-color);\n",
              "    height: 32px;\n",
              "    padding: 0;\n",
              "    width: 32px;\n",
              "  }\n",
              "\n",
              "  .colab-df-quickchart:hover {\n",
              "    background-color: var(--hover-bg-color);\n",
              "    box-shadow: 0 1px 2px rgba(60, 64, 67, 0.3), 0 1px 3px 1px rgba(60, 64, 67, 0.15);\n",
              "    fill: var(--button-hover-fill-color);\n",
              "  }\n",
              "\n",
              "  .colab-df-quickchart-complete:disabled,\n",
              "  .colab-df-quickchart-complete:disabled:hover {\n",
              "    background-color: var(--disabled-bg-color);\n",
              "    fill: var(--disabled-fill-color);\n",
              "    box-shadow: none;\n",
              "  }\n",
              "\n",
              "  .colab-df-spinner {\n",
              "    border: 2px solid var(--fill-color);\n",
              "    border-color: transparent;\n",
              "    border-bottom-color: var(--fill-color);\n",
              "    animation:\n",
              "      spin 1s steps(1) infinite;\n",
              "  }\n",
              "\n",
              "  @keyframes spin {\n",
              "    0% {\n",
              "      border-color: transparent;\n",
              "      border-bottom-color: var(--fill-color);\n",
              "      border-left-color: var(--fill-color);\n",
              "    }\n",
              "    20% {\n",
              "      border-color: transparent;\n",
              "      border-left-color: var(--fill-color);\n",
              "      border-top-color: var(--fill-color);\n",
              "    }\n",
              "    30% {\n",
              "      border-color: transparent;\n",
              "      border-left-color: var(--fill-color);\n",
              "      border-top-color: var(--fill-color);\n",
              "      border-right-color: var(--fill-color);\n",
              "    }\n",
              "    40% {\n",
              "      border-color: transparent;\n",
              "      border-right-color: var(--fill-color);\n",
              "      border-top-color: var(--fill-color);\n",
              "    }\n",
              "    60% {\n",
              "      border-color: transparent;\n",
              "      border-right-color: var(--fill-color);\n",
              "    }\n",
              "    80% {\n",
              "      border-color: transparent;\n",
              "      border-right-color: var(--fill-color);\n",
              "      border-bottom-color: var(--fill-color);\n",
              "    }\n",
              "    90% {\n",
              "      border-color: transparent;\n",
              "      border-bottom-color: var(--fill-color);\n",
              "    }\n",
              "  }\n",
              "</style>\n",
              "\n",
              "  <script>\n",
              "    async function quickchart(key) {\n",
              "      const quickchartButtonEl =\n",
              "        document.querySelector('#' + key + ' button');\n",
              "      quickchartButtonEl.disabled = true;  // To prevent multiple clicks.\n",
              "      quickchartButtonEl.classList.add('colab-df-spinner');\n",
              "      try {\n",
              "        const charts = await google.colab.kernel.invokeFunction(\n",
              "            'suggestCharts', [key], {});\n",
              "      } catch (error) {\n",
              "        console.error('Error during call to suggestCharts:', error);\n",
              "      }\n",
              "      quickchartButtonEl.classList.remove('colab-df-spinner');\n",
              "      quickchartButtonEl.classList.add('colab-df-quickchart-complete');\n",
              "    }\n",
              "    (() => {\n",
              "      let quickchartButtonEl =\n",
              "        document.querySelector('#df-e87643fe-6c72-4285-b3b3-fbeb5241fd11 button');\n",
              "      quickchartButtonEl.style.display =\n",
              "        google.colab.kernel.accessAllowed ? 'block' : 'none';\n",
              "    })();\n",
              "  </script>\n",
              "</div>\n",
              "    </div>\n",
              "  </div>\n"
            ]
          },
          "metadata": {},
          "execution_count": 16
        }
      ]
    },
    {
      "cell_type": "code",
      "source": [],
      "metadata": {
        "colab": {
          "base_uri": "https://localhost:8080/",
          "height": 444
        },
        "id": "huirquJgNb2j",
        "outputId": "4b8ef6b8-c5f2-4cf8-cb69-b2ff72f1422d"
      },
      "execution_count": null,
      "outputs": [
        {
          "output_type": "execute_result",
          "data": {
            "text/plain": [
              "           0         1         2         3         4         5         6    \\\n",
              "0    -0.023296 -0.058277 -0.031258 -0.050286 -0.079422 -0.100515 -0.085699   \n",
              "1    -0.008712 -0.089797 -0.028048 -0.050357 -0.079381 -0.112272 -0.104238   \n",
              "2    -0.018586 -0.068725 -0.067915 -0.056130 -0.079048 -0.093658 -0.086002   \n",
              "3    -0.011075 -0.046205 -0.040996 -0.052552 -0.076145 -0.094075 -0.089584   \n",
              "4    -0.012865 -0.077751 -0.070872 -0.077490 -0.085055 -0.077574 -0.056502   \n",
              "...        ...       ...       ...       ...       ...       ...       ...   \n",
              "3835 -0.019754 -0.038980 -0.046954 -0.065374 -0.081546 -0.085978 -0.076484   \n",
              "3836  0.042306  0.000459  0.057629  0.084987  0.121784  0.137812  0.122895   \n",
              "3837  0.027609  0.007749  0.024069  0.029575 -0.004058 -0.053315 -0.051894   \n",
              "3838  0.036195  0.006659  0.026956  0.067370  0.082849  0.071678  0.044174   \n",
              "3839 -0.009519 -0.054447 -0.071426 -0.032155 -0.088660 -0.096432 -0.099900   \n",
              "\n",
              "           7         8         9    ...       118       119       120  \\\n",
              "0    -0.062443 -0.037039 -0.028176  ...  0.014791  0.044898  0.000000   \n",
              "1    -0.072195 -0.044896 -0.037627  ... -0.209983 -0.198782  0.000000   \n",
              "2    -0.068467 -0.047270 -0.033698  ... -0.072282 -0.119056  0.000000   \n",
              "3    -0.071602 -0.044874 -0.036718  ... -0.219118 -0.210068  0.000000   \n",
              "4    -0.044125 -0.030627 -0.027505  ...  0.003597  0.017814  0.000000   \n",
              "...        ...       ...       ...  ...       ...       ...       ...   \n",
              "3835 -0.067705 -0.049165 -0.036612  ... -0.009290  0.047933  0.000000   \n",
              "3836  0.091741  0.066759  0.051960  ... -0.037823 -0.053487  1.200122   \n",
              "3837 -0.023901 -0.004051  0.000246  ... -0.151208 -0.313870  0.123703   \n",
              "3838  0.041055  0.029436  0.021991  ...  0.032980  0.106121  0.421955   \n",
              "3839 -0.075690 -0.043435 -0.035089  ... -0.062962  0.016719  0.000000   \n",
              "\n",
              "           121       122       123       124       125       126       127  \n",
              "0     1.524488  0.038152  0.010357  0.000000  0.000000  0.000000  0.000000  \n",
              "1     2.092642  0.000000  0.000230  0.000000  0.000000  0.000000  0.000000  \n",
              "2     1.901727  0.000000  0.000015  0.000000  0.000000  0.000000  0.000000  \n",
              "3     2.138001  0.000000  0.044560  0.000000  0.000000  0.000000  0.000000  \n",
              "4     1.818836  0.000000  0.004222  0.000000  0.000000  0.000000  0.000000  \n",
              "...        ...       ...       ...       ...       ...       ...       ...  \n",
              "3835  0.918944  0.026914  0.002841  0.000000  0.000000  0.000000  0.000000  \n",
              "3836  1.931175  0.000000  0.000000  1.236107  1.244393  0.260723  0.033767  \n",
              "3837  1.990671  0.000000  0.000000  0.067886  0.061295  0.133767  0.120478  \n",
              "3838  1.731724  0.000000  0.275539  0.335976  0.443902  0.205245  0.043050  \n",
              "3839  2.134747  0.000000  0.035294  0.000000  0.000000  0.000000  0.000000  \n",
              "\n",
              "[3840 rows x 128 columns]"
            ],
            "text/html": [
              "\n",
              "  <div id=\"df-42c1fc87-b7c9-44bb-9cf7-ea973bf63963\" class=\"colab-df-container\">\n",
              "    <div>\n",
              "<style scoped>\n",
              "    .dataframe tbody tr th:only-of-type {\n",
              "        vertical-align: middle;\n",
              "    }\n",
              "\n",
              "    .dataframe tbody tr th {\n",
              "        vertical-align: top;\n",
              "    }\n",
              "\n",
              "    .dataframe thead th {\n",
              "        text-align: right;\n",
              "    }\n",
              "</style>\n",
              "<table border=\"1\" class=\"dataframe\">\n",
              "  <thead>\n",
              "    <tr style=\"text-align: right;\">\n",
              "      <th></th>\n",
              "      <th>0</th>\n",
              "      <th>1</th>\n",
              "      <th>2</th>\n",
              "      <th>3</th>\n",
              "      <th>4</th>\n",
              "      <th>5</th>\n",
              "      <th>6</th>\n",
              "      <th>7</th>\n",
              "      <th>8</th>\n",
              "      <th>9</th>\n",
              "      <th>...</th>\n",
              "      <th>118</th>\n",
              "      <th>119</th>\n",
              "      <th>120</th>\n",
              "      <th>121</th>\n",
              "      <th>122</th>\n",
              "      <th>123</th>\n",
              "      <th>124</th>\n",
              "      <th>125</th>\n",
              "      <th>126</th>\n",
              "      <th>127</th>\n",
              "    </tr>\n",
              "  </thead>\n",
              "  <tbody>\n",
              "    <tr>\n",
              "      <th>0</th>\n",
              "      <td>-0.023296</td>\n",
              "      <td>-0.058277</td>\n",
              "      <td>-0.031258</td>\n",
              "      <td>-0.050286</td>\n",
              "      <td>-0.079422</td>\n",
              "      <td>-0.100515</td>\n",
              "      <td>-0.085699</td>\n",
              "      <td>-0.062443</td>\n",
              "      <td>-0.037039</td>\n",
              "      <td>-0.028176</td>\n",
              "      <td>...</td>\n",
              "      <td>0.014791</td>\n",
              "      <td>0.044898</td>\n",
              "      <td>0.000000</td>\n",
              "      <td>1.524488</td>\n",
              "      <td>0.038152</td>\n",
              "      <td>0.010357</td>\n",
              "      <td>0.000000</td>\n",
              "      <td>0.000000</td>\n",
              "      <td>0.000000</td>\n",
              "      <td>0.000000</td>\n",
              "    </tr>\n",
              "    <tr>\n",
              "      <th>1</th>\n",
              "      <td>-0.008712</td>\n",
              "      <td>-0.089797</td>\n",
              "      <td>-0.028048</td>\n",
              "      <td>-0.050357</td>\n",
              "      <td>-0.079381</td>\n",
              "      <td>-0.112272</td>\n",
              "      <td>-0.104238</td>\n",
              "      <td>-0.072195</td>\n",
              "      <td>-0.044896</td>\n",
              "      <td>-0.037627</td>\n",
              "      <td>...</td>\n",
              "      <td>-0.209983</td>\n",
              "      <td>-0.198782</td>\n",
              "      <td>0.000000</td>\n",
              "      <td>2.092642</td>\n",
              "      <td>0.000000</td>\n",
              "      <td>0.000230</td>\n",
              "      <td>0.000000</td>\n",
              "      <td>0.000000</td>\n",
              "      <td>0.000000</td>\n",
              "      <td>0.000000</td>\n",
              "    </tr>\n",
              "    <tr>\n",
              "      <th>2</th>\n",
              "      <td>-0.018586</td>\n",
              "      <td>-0.068725</td>\n",
              "      <td>-0.067915</td>\n",
              "      <td>-0.056130</td>\n",
              "      <td>-0.079048</td>\n",
              "      <td>-0.093658</td>\n",
              "      <td>-0.086002</td>\n",
              "      <td>-0.068467</td>\n",
              "      <td>-0.047270</td>\n",
              "      <td>-0.033698</td>\n",
              "      <td>...</td>\n",
              "      <td>-0.072282</td>\n",
              "      <td>-0.119056</td>\n",
              "      <td>0.000000</td>\n",
              "      <td>1.901727</td>\n",
              "      <td>0.000000</td>\n",
              "      <td>0.000015</td>\n",
              "      <td>0.000000</td>\n",
              "      <td>0.000000</td>\n",
              "      <td>0.000000</td>\n",
              "      <td>0.000000</td>\n",
              "    </tr>\n",
              "    <tr>\n",
              "      <th>3</th>\n",
              "      <td>-0.011075</td>\n",
              "      <td>-0.046205</td>\n",
              "      <td>-0.040996</td>\n",
              "      <td>-0.052552</td>\n",
              "      <td>-0.076145</td>\n",
              "      <td>-0.094075</td>\n",
              "      <td>-0.089584</td>\n",
              "      <td>-0.071602</td>\n",
              "      <td>-0.044874</td>\n",
              "      <td>-0.036718</td>\n",
              "      <td>...</td>\n",
              "      <td>-0.219118</td>\n",
              "      <td>-0.210068</td>\n",
              "      <td>0.000000</td>\n",
              "      <td>2.138001</td>\n",
              "      <td>0.000000</td>\n",
              "      <td>0.044560</td>\n",
              "      <td>0.000000</td>\n",
              "      <td>0.000000</td>\n",
              "      <td>0.000000</td>\n",
              "      <td>0.000000</td>\n",
              "    </tr>\n",
              "    <tr>\n",
              "      <th>4</th>\n",
              "      <td>-0.012865</td>\n",
              "      <td>-0.077751</td>\n",
              "      <td>-0.070872</td>\n",
              "      <td>-0.077490</td>\n",
              "      <td>-0.085055</td>\n",
              "      <td>-0.077574</td>\n",
              "      <td>-0.056502</td>\n",
              "      <td>-0.044125</td>\n",
              "      <td>-0.030627</td>\n",
              "      <td>-0.027505</td>\n",
              "      <td>...</td>\n",
              "      <td>0.003597</td>\n",
              "      <td>0.017814</td>\n",
              "      <td>0.000000</td>\n",
              "      <td>1.818836</td>\n",
              "      <td>0.000000</td>\n",
              "      <td>0.004222</td>\n",
              "      <td>0.000000</td>\n",
              "      <td>0.000000</td>\n",
              "      <td>0.000000</td>\n",
              "      <td>0.000000</td>\n",
              "    </tr>\n",
              "    <tr>\n",
              "      <th>...</th>\n",
              "      <td>...</td>\n",
              "      <td>...</td>\n",
              "      <td>...</td>\n",
              "      <td>...</td>\n",
              "      <td>...</td>\n",
              "      <td>...</td>\n",
              "      <td>...</td>\n",
              "      <td>...</td>\n",
              "      <td>...</td>\n",
              "      <td>...</td>\n",
              "      <td>...</td>\n",
              "      <td>...</td>\n",
              "      <td>...</td>\n",
              "      <td>...</td>\n",
              "      <td>...</td>\n",
              "      <td>...</td>\n",
              "      <td>...</td>\n",
              "      <td>...</td>\n",
              "      <td>...</td>\n",
              "      <td>...</td>\n",
              "      <td>...</td>\n",
              "    </tr>\n",
              "    <tr>\n",
              "      <th>3835</th>\n",
              "      <td>-0.019754</td>\n",
              "      <td>-0.038980</td>\n",
              "      <td>-0.046954</td>\n",
              "      <td>-0.065374</td>\n",
              "      <td>-0.081546</td>\n",
              "      <td>-0.085978</td>\n",
              "      <td>-0.076484</td>\n",
              "      <td>-0.067705</td>\n",
              "      <td>-0.049165</td>\n",
              "      <td>-0.036612</td>\n",
              "      <td>...</td>\n",
              "      <td>-0.009290</td>\n",
              "      <td>0.047933</td>\n",
              "      <td>0.000000</td>\n",
              "      <td>0.918944</td>\n",
              "      <td>0.026914</td>\n",
              "      <td>0.002841</td>\n",
              "      <td>0.000000</td>\n",
              "      <td>0.000000</td>\n",
              "      <td>0.000000</td>\n",
              "      <td>0.000000</td>\n",
              "    </tr>\n",
              "    <tr>\n",
              "      <th>3836</th>\n",
              "      <td>0.042306</td>\n",
              "      <td>0.000459</td>\n",
              "      <td>0.057629</td>\n",
              "      <td>0.084987</td>\n",
              "      <td>0.121784</td>\n",
              "      <td>0.137812</td>\n",
              "      <td>0.122895</td>\n",
              "      <td>0.091741</td>\n",
              "      <td>0.066759</td>\n",
              "      <td>0.051960</td>\n",
              "      <td>...</td>\n",
              "      <td>-0.037823</td>\n",
              "      <td>-0.053487</td>\n",
              "      <td>1.200122</td>\n",
              "      <td>1.931175</td>\n",
              "      <td>0.000000</td>\n",
              "      <td>0.000000</td>\n",
              "      <td>1.236107</td>\n",
              "      <td>1.244393</td>\n",
              "      <td>0.260723</td>\n",
              "      <td>0.033767</td>\n",
              "    </tr>\n",
              "    <tr>\n",
              "      <th>3837</th>\n",
              "      <td>0.027609</td>\n",
              "      <td>0.007749</td>\n",
              "      <td>0.024069</td>\n",
              "      <td>0.029575</td>\n",
              "      <td>-0.004058</td>\n",
              "      <td>-0.053315</td>\n",
              "      <td>-0.051894</td>\n",
              "      <td>-0.023901</td>\n",
              "      <td>-0.004051</td>\n",
              "      <td>0.000246</td>\n",
              "      <td>...</td>\n",
              "      <td>-0.151208</td>\n",
              "      <td>-0.313870</td>\n",
              "      <td>0.123703</td>\n",
              "      <td>1.990671</td>\n",
              "      <td>0.000000</td>\n",
              "      <td>0.000000</td>\n",
              "      <td>0.067886</td>\n",
              "      <td>0.061295</td>\n",
              "      <td>0.133767</td>\n",
              "      <td>0.120478</td>\n",
              "    </tr>\n",
              "    <tr>\n",
              "      <th>3838</th>\n",
              "      <td>0.036195</td>\n",
              "      <td>0.006659</td>\n",
              "      <td>0.026956</td>\n",
              "      <td>0.067370</td>\n",
              "      <td>0.082849</td>\n",
              "      <td>0.071678</td>\n",
              "      <td>0.044174</td>\n",
              "      <td>0.041055</td>\n",
              "      <td>0.029436</td>\n",
              "      <td>0.021991</td>\n",
              "      <td>...</td>\n",
              "      <td>0.032980</td>\n",
              "      <td>0.106121</td>\n",
              "      <td>0.421955</td>\n",
              "      <td>1.731724</td>\n",
              "      <td>0.000000</td>\n",
              "      <td>0.275539</td>\n",
              "      <td>0.335976</td>\n",
              "      <td>0.443902</td>\n",
              "      <td>0.205245</td>\n",
              "      <td>0.043050</td>\n",
              "    </tr>\n",
              "    <tr>\n",
              "      <th>3839</th>\n",
              "      <td>-0.009519</td>\n",
              "      <td>-0.054447</td>\n",
              "      <td>-0.071426</td>\n",
              "      <td>-0.032155</td>\n",
              "      <td>-0.088660</td>\n",
              "      <td>-0.096432</td>\n",
              "      <td>-0.099900</td>\n",
              "      <td>-0.075690</td>\n",
              "      <td>-0.043435</td>\n",
              "      <td>-0.035089</td>\n",
              "      <td>...</td>\n",
              "      <td>-0.062962</td>\n",
              "      <td>0.016719</td>\n",
              "      <td>0.000000</td>\n",
              "      <td>2.134747</td>\n",
              "      <td>0.000000</td>\n",
              "      <td>0.035294</td>\n",
              "      <td>0.000000</td>\n",
              "      <td>0.000000</td>\n",
              "      <td>0.000000</td>\n",
              "      <td>0.000000</td>\n",
              "    </tr>\n",
              "  </tbody>\n",
              "</table>\n",
              "<p>3840 rows × 128 columns</p>\n",
              "</div>\n",
              "    <div class=\"colab-df-buttons\">\n",
              "\n",
              "  <div class=\"colab-df-container\">\n",
              "    <button class=\"colab-df-convert\" onclick=\"convertToInteractive('df-42c1fc87-b7c9-44bb-9cf7-ea973bf63963')\"\n",
              "            title=\"Convert this dataframe to an interactive table.\"\n",
              "            style=\"display:none;\">\n",
              "\n",
              "  <svg xmlns=\"http://www.w3.org/2000/svg\" height=\"24px\" viewBox=\"0 -960 960 960\">\n",
              "    <path d=\"M120-120v-720h720v720H120Zm60-500h600v-160H180v160Zm220 220h160v-160H400v160Zm0 220h160v-160H400v160ZM180-400h160v-160H180v160Zm440 0h160v-160H620v160ZM180-180h160v-160H180v160Zm440 0h160v-160H620v160Z\"/>\n",
              "  </svg>\n",
              "    </button>\n",
              "\n",
              "  <style>\n",
              "    .colab-df-container {\n",
              "      display:flex;\n",
              "      gap: 12px;\n",
              "    }\n",
              "\n",
              "    .colab-df-convert {\n",
              "      background-color: #E8F0FE;\n",
              "      border: none;\n",
              "      border-radius: 50%;\n",
              "      cursor: pointer;\n",
              "      display: none;\n",
              "      fill: #1967D2;\n",
              "      height: 32px;\n",
              "      padding: 0 0 0 0;\n",
              "      width: 32px;\n",
              "    }\n",
              "\n",
              "    .colab-df-convert:hover {\n",
              "      background-color: #E2EBFA;\n",
              "      box-shadow: 0px 1px 2px rgba(60, 64, 67, 0.3), 0px 1px 3px 1px rgba(60, 64, 67, 0.15);\n",
              "      fill: #174EA6;\n",
              "    }\n",
              "\n",
              "    .colab-df-buttons div {\n",
              "      margin-bottom: 4px;\n",
              "    }\n",
              "\n",
              "    [theme=dark] .colab-df-convert {\n",
              "      background-color: #3B4455;\n",
              "      fill: #D2E3FC;\n",
              "    }\n",
              "\n",
              "    [theme=dark] .colab-df-convert:hover {\n",
              "      background-color: #434B5C;\n",
              "      box-shadow: 0px 1px 3px 1px rgba(0, 0, 0, 0.15);\n",
              "      filter: drop-shadow(0px 1px 2px rgba(0, 0, 0, 0.3));\n",
              "      fill: #FFFFFF;\n",
              "    }\n",
              "  </style>\n",
              "\n",
              "    <script>\n",
              "      const buttonEl =\n",
              "        document.querySelector('#df-42c1fc87-b7c9-44bb-9cf7-ea973bf63963 button.colab-df-convert');\n",
              "      buttonEl.style.display =\n",
              "        google.colab.kernel.accessAllowed ? 'block' : 'none';\n",
              "\n",
              "      async function convertToInteractive(key) {\n",
              "        const element = document.querySelector('#df-42c1fc87-b7c9-44bb-9cf7-ea973bf63963');\n",
              "        const dataTable =\n",
              "          await google.colab.kernel.invokeFunction('convertToInteractive',\n",
              "                                                    [key], {});\n",
              "        if (!dataTable) return;\n",
              "\n",
              "        const docLinkHtml = 'Like what you see? Visit the ' +\n",
              "          '<a target=\"_blank\" href=https://colab.research.google.com/notebooks/data_table.ipynb>data table notebook</a>'\n",
              "          + ' to learn more about interactive tables.';\n",
              "        element.innerHTML = '';\n",
              "        dataTable['output_type'] = 'display_data';\n",
              "        await google.colab.output.renderOutput(dataTable, element);\n",
              "        const docLink = document.createElement('div');\n",
              "        docLink.innerHTML = docLinkHtml;\n",
              "        element.appendChild(docLink);\n",
              "      }\n",
              "    </script>\n",
              "  </div>\n",
              "\n",
              "\n",
              "<div id=\"df-8ec74982-018f-492c-bdaa-d3bcb07ee72a\">\n",
              "  <button class=\"colab-df-quickchart\" onclick=\"quickchart('df-8ec74982-018f-492c-bdaa-d3bcb07ee72a')\"\n",
              "            title=\"Suggest charts.\"\n",
              "            style=\"display:none;\">\n",
              "\n",
              "<svg xmlns=\"http://www.w3.org/2000/svg\" height=\"24px\"viewBox=\"0 0 24 24\"\n",
              "     width=\"24px\">\n",
              "    <g>\n",
              "        <path d=\"M19 3H5c-1.1 0-2 .9-2 2v14c0 1.1.9 2 2 2h14c1.1 0 2-.9 2-2V5c0-1.1-.9-2-2-2zM9 17H7v-7h2v7zm4 0h-2V7h2v10zm4 0h-2v-4h2v4z\"/>\n",
              "    </g>\n",
              "</svg>\n",
              "  </button>\n",
              "\n",
              "<style>\n",
              "  .colab-df-quickchart {\n",
              "      --bg-color: #E8F0FE;\n",
              "      --fill-color: #1967D2;\n",
              "      --hover-bg-color: #E2EBFA;\n",
              "      --hover-fill-color: #174EA6;\n",
              "      --disabled-fill-color: #AAA;\n",
              "      --disabled-bg-color: #DDD;\n",
              "  }\n",
              "\n",
              "  [theme=dark] .colab-df-quickchart {\n",
              "      --bg-color: #3B4455;\n",
              "      --fill-color: #D2E3FC;\n",
              "      --hover-bg-color: #434B5C;\n",
              "      --hover-fill-color: #FFFFFF;\n",
              "      --disabled-bg-color: #3B4455;\n",
              "      --disabled-fill-color: #666;\n",
              "  }\n",
              "\n",
              "  .colab-df-quickchart {\n",
              "    background-color: var(--bg-color);\n",
              "    border: none;\n",
              "    border-radius: 50%;\n",
              "    cursor: pointer;\n",
              "    display: none;\n",
              "    fill: var(--fill-color);\n",
              "    height: 32px;\n",
              "    padding: 0;\n",
              "    width: 32px;\n",
              "  }\n",
              "\n",
              "  .colab-df-quickchart:hover {\n",
              "    background-color: var(--hover-bg-color);\n",
              "    box-shadow: 0 1px 2px rgba(60, 64, 67, 0.3), 0 1px 3px 1px rgba(60, 64, 67, 0.15);\n",
              "    fill: var(--button-hover-fill-color);\n",
              "  }\n",
              "\n",
              "  .colab-df-quickchart-complete:disabled,\n",
              "  .colab-df-quickchart-complete:disabled:hover {\n",
              "    background-color: var(--disabled-bg-color);\n",
              "    fill: var(--disabled-fill-color);\n",
              "    box-shadow: none;\n",
              "  }\n",
              "\n",
              "  .colab-df-spinner {\n",
              "    border: 2px solid var(--fill-color);\n",
              "    border-color: transparent;\n",
              "    border-bottom-color: var(--fill-color);\n",
              "    animation:\n",
              "      spin 1s steps(1) infinite;\n",
              "  }\n",
              "\n",
              "  @keyframes spin {\n",
              "    0% {\n",
              "      border-color: transparent;\n",
              "      border-bottom-color: var(--fill-color);\n",
              "      border-left-color: var(--fill-color);\n",
              "    }\n",
              "    20% {\n",
              "      border-color: transparent;\n",
              "      border-left-color: var(--fill-color);\n",
              "      border-top-color: var(--fill-color);\n",
              "    }\n",
              "    30% {\n",
              "      border-color: transparent;\n",
              "      border-left-color: var(--fill-color);\n",
              "      border-top-color: var(--fill-color);\n",
              "      border-right-color: var(--fill-color);\n",
              "    }\n",
              "    40% {\n",
              "      border-color: transparent;\n",
              "      border-right-color: var(--fill-color);\n",
              "      border-top-color: var(--fill-color);\n",
              "    }\n",
              "    60% {\n",
              "      border-color: transparent;\n",
              "      border-right-color: var(--fill-color);\n",
              "    }\n",
              "    80% {\n",
              "      border-color: transparent;\n",
              "      border-right-color: var(--fill-color);\n",
              "      border-bottom-color: var(--fill-color);\n",
              "    }\n",
              "    90% {\n",
              "      border-color: transparent;\n",
              "      border-bottom-color: var(--fill-color);\n",
              "    }\n",
              "  }\n",
              "</style>\n",
              "\n",
              "  <script>\n",
              "    async function quickchart(key) {\n",
              "      const quickchartButtonEl =\n",
              "        document.querySelector('#' + key + ' button');\n",
              "      quickchartButtonEl.disabled = true;  // To prevent multiple clicks.\n",
              "      quickchartButtonEl.classList.add('colab-df-spinner');\n",
              "      try {\n",
              "        const charts = await google.colab.kernel.invokeFunction(\n",
              "            'suggestCharts', [key], {});\n",
              "      } catch (error) {\n",
              "        console.error('Error during call to suggestCharts:', error);\n",
              "      }\n",
              "      quickchartButtonEl.classList.remove('colab-df-spinner');\n",
              "      quickchartButtonEl.classList.add('colab-df-quickchart-complete');\n",
              "    }\n",
              "    (() => {\n",
              "      let quickchartButtonEl =\n",
              "        document.querySelector('#df-8ec74982-018f-492c-bdaa-d3bcb07ee72a button');\n",
              "      quickchartButtonEl.style.display =\n",
              "        google.colab.kernel.accessAllowed ? 'block' : 'none';\n",
              "    })();\n",
              "  </script>\n",
              "</div>\n",
              "    </div>\n",
              "  </div>\n"
            ]
          },
          "metadata": {},
          "execution_count": 17
        }
      ]
    },
    {
      "cell_type": "code",
      "source": [
        "fig, ax = plt.subplots(2,1)\n",
        "sns.histplot(tmp.loc[:,122], label = 'precipitation1', ax=ax[0])\n",
        "sns.histplot(tmp.loc[:,123], label= 'precipitation2',ax=ax[1])"
      ],
      "metadata": {
        "colab": {
          "base_uri": "https://localhost:8080/",
          "height": 467
        },
        "id": "x_XMGM6OW0Ex",
        "outputId": "43cb900e-1e72-4d4f-9504-4a937bfddb99"
      },
      "execution_count": 15,
      "outputs": [
        {
          "output_type": "execute_result",
          "data": {
            "text/plain": [
              "<Axes: xlabel='123', ylabel='Count'>"
            ]
          },
          "metadata": {},
          "execution_count": 15
        },
        {
          "output_type": "display_data",
          "data": {
            "text/plain": [
              "<Figure size 640x480 with 2 Axes>"
            ],
            "image/png": "[encoded data removed]"
          },
          "metadata": {}
        }
      ]
    },
    {
      "cell_type": "code",
      "source": [
        "target_train_sub = tmp.loc[:,122:123]\n",
        "target_val_sub=tmp1.loc[:,122:123]"
      ],
      "metadata": {
        "id": "ECkYwNLEW1-E"
      },
      "execution_count": 16,
      "outputs": []
    },
    {
      "cell_type": "markdown",
      "source": [
        "target train column 122 : $y_{precipitation_1} = y_1$, target train column 123: $y_{precipitation_2} = y_2$\n",
        "\n",
        "$X_{sub} \\in \\mathbb{R}^{3840 \\times 124}$ = input_train\n",
        "\n",
        "\n",
        "Model: $\\mathbb{E}(y_1|X) = g(\\beta^TX)$ -> g in Zero Inflated ZINB: negative binomial, log link."
      ],
      "metadata": {
        "id": "gXgm3kZXW-53"
      }
    },
    {
      "cell_type": "code",
      "source": [
        "tmp.isnull().sum()"
      ],
      "metadata": {
        "colab": {
          "base_uri": "https://localhost:8080/"
        },
        "id": "4sjVDi6gW4Mw",
        "outputId": "1090ef83-35f6-47a6-cab6-febd36127e98"
      },
      "execution_count": 19,
      "outputs": [
        {
          "output_type": "execute_result",
          "data": {
            "text/plain": [
              "0      0\n",
              "1      0\n",
              "2      0\n",
              "3      0\n",
              "4      0\n",
              "      ..\n",
              "123    0\n",
              "124    0\n",
              "125    0\n",
              "126    0\n",
              "127    0\n",
              "Length: 128, dtype: int64"
            ]
          },
          "metadata": {},
          "execution_count": 19
        }
      ]
    },
    {
      "cell_type": "markdown",
      "source": [
        "From here we start the ZI model"
      ],
      "metadata": {
        "id": "3432oXwxXJk9"
      }
    },
    {
      "cell_type": "code",
      "source": [
        "# Calculating mean and variance for non-zero values of both columns\n",
        "non_zero_snow = target_train_sub[target_train_sub[122] > 0][122]\n",
        "non_zero_rain = target_train_sub[target_train_sub[123] > 0][123]\n",
        "\n",
        "mean_snow = non_zero_snow.mean()\n",
        "variance_snow = non_zero_snow.var()\n",
        "\n",
        "mean_rain = non_zero_rain.mean()\n",
        "variance_rain = non_zero_rain.var()\n",
        "\n",
        "mean_snow, variance_snow, mean_rain, variance_rain"
      ],
      "metadata": {
        "colab": {
          "base_uri": "https://localhost:8080/"
        },
        "id": "h_VxzJ5WXHCc",
        "outputId": "5a5225ed-b579-4fd7-b641-4bf38e3eb3cb"
      },
      "execution_count": null,
      "outputs": [
        {
          "output_type": "execute_result",
          "data": {
            "text/plain": [
              "(0.123456776, 0.023631379, 0.051637717, 0.015058406)"
            ]
          },
          "metadata": {},
          "execution_count": 24
        }
      ]
    },
    {
      "cell_type": "markdown",
      "source": [
        "Results : \\ Snow Rate (Column 122): \\ Mean: 0.1235 \\ Variance: 0.0236 \\\n",
        "\n",
        "Rain Rate (Column 123): \\ Mean: 0.0516 \\ Variance: 0.0151 \\\n",
        "\n",
        "We can decide the ZI model among the two: \\\n",
        "\n",
        "Zero-Inflated Poisson (ZIP): Suitable if the non-zero data seems to follow a Poisson distribution. \\\n",
        "Zero-Inflated Negative Binomial (ZINB): Suitable if the non-zero data exhibits overdispersion (variance > mean). \\\n",
        "If the variance is significantly larger than the mean, it suggests overdispersion, making ZINB a better choice. Otherwise, ZIP might be more appropriate. \\\n",
        "\n",
        "Since for both columns, the variance is not significantly larger than the mean, the Zero-Inflated Poisson (ZIP) model might be a suitable choice."
      ],
      "metadata": {
        "id": "iT7_2g8MXP85"
      }
    },
    {
      "cell_type": "markdown",
      "source": [
        "**ZIP**"
      ],
      "metadata": {
        "id": "iHSLId2DYNyB"
      }
    },
    {
      "cell_type": "code",
      "source": [
        "import statsmodels.api as sm\n",
        "input_train_data = data.input_train\n",
        "# Define the independent variable (constant) and dependent variable (snow rate)\n",
        "X_train_snow = sm.add_constant(input_train_data)\n",
        "y_train_snow = target_train_sub[122]\n",
        "\n",
        "# Train the Zero-Inflated Poisson model\n",
        "zip_model_snow = sm.ZeroInflatedPoisson(y_train_snow, X_train_snow).fit()\n",
        "\n",
        "# Display the model summary\n",
        "zip_model_snow.summary()\n"
      ],
      "metadata": {
        "id": "11J5DKDcXG8x",
        "colab": {
          "base_uri": "https://localhost:8080/",
          "height": 1000
        },
        "outputId": "3da58805-2339-49d4-f067-9f214d0388bb"
      },
      "execution_count": 20,
      "outputs": [
        {
          "output_type": "stream",
          "name": "stderr",
          "text": [
            "/usr/local/lib/python3.10/dist-packages/scipy/optimize/_optimize.py:1360: OptimizeWarning: Maximum number of iterations has been exceeded.\n",
            "  res = _minimize_bfgs(f, x0, args, fprime, callback=callback, **opts)\n"
          ]
        },
        {
          "output_type": "stream",
          "name": "stdout",
          "text": [
            "         Current function value: 0.116659\n",
            "         Iterations: 35\n",
            "         Function evaluations: 37\n",
            "         Gradient evaluations: 37\n"
          ]
        },
        {
          "output_type": "stream",
          "name": "stderr",
          "text": [
            "/usr/local/lib/python3.10/dist-packages/statsmodels/base/model.py:607: ConvergenceWarning: Maximum Likelihood optimization failed to converge. Check mle_retvals\n",
            "  warnings.warn(\"Maximum Likelihood optimization failed to \"\n"
          ]
        },
        {
          "output_type": "execute_result",
          "data": {
            "text/plain": [
              "<class 'statsmodels.iolib.summary.Summary'>\n",
              "\"\"\"\n",
              "                     ZeroInflatedPoisson Regression Results                    \n",
              "===============================================================================\n",
              "Dep. Variable:                     122   No. Observations:                 3840\n",
              "Model:             ZeroInflatedPoisson   Df Residuals:                     3715\n",
              "Method:                            MLE   Df Model:                          124\n",
              "Date:                 Wed, 01 Nov 2023   Pseudo R-squ.:                  0.2618\n",
              "Time:                         20:29:47   Log-Likelihood:                -447.97\n",
              "converged:                       False   LL-Null:                       -606.84\n",
              "Covariance Type:             nonrobust   LLR p-value:                 5.885e-19\n",
              "=================================================================================\n",
              "                    coef    std err          z      P>|z|      [0.025      0.975]\n",
              "---------------------------------------------------------------------------------\n",
              "inflate_const   -15.3361     60.074     -0.255      0.799    -133.079     102.407\n",
              "const            -4.1490      4.697     -0.883      0.377     -13.355       5.057\n",
              "x1                0.0399     32.282      0.001      0.999     -63.232      63.311\n",
              "x2                0.1630      8.173      0.020      0.984     -15.856      16.182\n",
              "x3               -0.0642     11.645     -0.006      0.996     -22.888      22.760\n",
              "x4               -0.1982     18.643     -0.011      0.992     -36.738      36.341\n",
              "x5               -0.2672     25.749     -0.010      0.992     -50.733      50.199\n",
              "x6               -0.5451     19.780     -0.028      0.978     -39.314      38.224\n",
              "x7               -0.6711     27.598     -0.024      0.981     -54.762      53.419\n",
              "x8               -0.7112     40.681     -0.017      0.986     -80.444      79.021\n",
              "x9               -0.6979     56.847     -0.012      0.990    -112.115     110.719\n",
              "x10              -0.7594     74.997     -0.010      0.992    -147.751     146.232\n",
              "x11              -0.7173     85.950     -0.008      0.993    -169.176     167.742\n",
              "x12              -0.6132     88.764     -0.007      0.994    -174.588     173.362\n",
              "x13              -0.3948     88.153     -0.004      0.996    -173.172     172.383\n",
              "x14              -0.1116     82.327     -0.001      0.999    -161.470     161.247\n",
              "x15               0.2372     60.582      0.004      0.997    -118.502     118.976\n",
              "x16               0.6044     39.765      0.015      0.988     -77.333      78.541\n",
              "x17               0.8141     31.512      0.026      0.979     -60.947      62.576\n",
              "x18               1.0318     16.866      0.061      0.951     -32.025      34.088\n",
              "x19               1.0737     14.239      0.075      0.940     -26.834      28.982\n",
              "x20               1.1276     15.748      0.072      0.943     -29.738      31.993\n",
              "x21               0.8890     17.490      0.051      0.959     -33.391      35.169\n",
              "x22               0.7058     22.924      0.031      0.975     -44.224      45.635\n",
              "x23               0.4116     34.346      0.012      0.990     -66.906      67.729\n",
              "x24               0.1800     52.123      0.003      0.997    -101.978     102.339\n",
              "x25              -0.0281     74.129     -0.000      1.000    -145.317     145.261\n",
              "x26              -0.1480    102.270     -0.001      0.999    -200.594     200.298\n",
              "x27              -0.2153    132.181     -0.002      0.999    -259.285     258.854\n",
              "x28              -0.2325    143.379     -0.002      0.999    -281.250     280.785\n",
              "x29              -0.2245    170.673     -0.001      0.999    -334.737     334.288\n",
              "x30              -0.1871    189.951     -0.001      0.999    -372.484     372.110\n",
              "x31              -0.1322    194.453     -0.001      0.999    -381.254     380.990\n",
              "x32              -0.0792    168.448     -0.000      1.000    -330.232     330.073\n",
              "x33              -0.0247    136.218     -0.000      1.000    -267.008     266.958\n",
              "x34               0.0225    168.827      0.000      1.000    -330.873     330.918\n",
              "x35               0.0607    175.677      0.000      1.000    -344.260     344.381\n",
              "x36               0.0915    150.236      0.001      1.000    -294.365     294.548\n",
              "x37               0.1207    168.510      0.001      0.999    -330.152     330.393\n",
              "x38               0.1435    155.176      0.001      0.999    -303.997     304.284\n",
              "x39               0.1568    154.150      0.001      0.999    -301.971     302.284\n",
              "x40               0.1601    132.496      0.001      0.999    -259.527     259.848\n",
              "x41               0.1528     94.157      0.002      0.999    -184.391     184.697\n",
              "x42               0.1434    108.165      0.001      0.999    -211.856     212.143\n",
              "x43               0.1383    124.730      0.001      0.999    -244.328     244.605\n",
              "x44               0.1403    108.721      0.001      0.999    -212.948     213.229\n",
              "x45               0.1486     87.645      0.002      0.999    -171.632     171.929\n",
              "x46               0.1565    107.256      0.001      0.999    -210.061     210.374\n",
              "x47               0.1662    124.780      0.001      0.999    -244.397     244.730\n",
              "x48               0.1744    139.917      0.001      0.999    -274.057     274.406\n",
              "x49               0.1781    154.631      0.001      0.999    -302.893     303.249\n",
              "x50               0.1815    138.230      0.001      0.999    -270.745     271.108\n",
              "x51               0.1820    122.319      0.001      0.999    -239.559     239.923\n",
              "x52               0.1771    117.461      0.002      0.999    -230.043     230.397\n",
              "x53               0.1673    129.663      0.001      0.999    -253.967     254.302\n",
              "x54               0.1550    112.776      0.001      0.999    -220.882     221.192\n",
              "x55               0.1396     82.816      0.002      0.999    -162.178     162.457\n",
              "x56               0.1387     74.347      0.002      0.999    -145.580     145.857\n",
              "x57               0.1615     65.244      0.002      0.998    -127.714     128.037\n",
              "x58               0.1917     54.641      0.004      0.997    -106.903     107.287\n",
              "x59               0.2320     48.642      0.005      0.996     -95.104      95.568\n",
              "x60               0.2960     21.832      0.014      0.989     -42.493      43.085\n",
              "x61               0.1010     21.433      0.005      0.996     -41.908      42.110\n",
              "x62               0.1170     23.610      0.005      0.996     -46.157      46.391\n",
              "x63               0.0268     17.127      0.002      0.999     -33.542      33.596\n",
              "x64              -0.0440     21.322     -0.002      0.998     -41.834      41.747\n",
              "x65              -0.0685     29.043     -0.002      0.998     -56.992      56.855\n",
              "x66              -0.0337     34.358     -0.001      0.999     -67.374      67.306\n",
              "x67               0.0232     37.139      0.001      1.000     -72.768      72.814\n",
              "x68               0.0996     32.693      0.003      0.998     -63.978      64.177\n",
              "x69               0.2813     30.560      0.009      0.993     -59.614      60.177\n",
              "x70               0.4493     26.250      0.017      0.986     -50.999      51.898\n",
              "x71               0.4559     21.612      0.021      0.983     -41.902      42.814\n",
              "x72               0.3913     19.304      0.020      0.984     -37.444      38.227\n",
              "x73               0.2084     30.974      0.007      0.995     -60.499      60.916\n",
              "x74               0.0749     97.542      0.001      0.999    -191.104     191.254\n",
              "x75               0.0176    411.721   4.28e-05      1.000    -806.942     806.977\n",
              "x76               0.0076    498.292   1.53e-05      1.000    -976.626     976.641\n",
              "x77               0.0112    111.204      0.000      1.000    -217.944     217.967\n",
              "x78               0.0043     29.135      0.000      1.000     -57.100      57.108\n",
              "x79              -0.0167     19.357     -0.001      0.999     -37.956      37.922\n",
              "x80              -0.0044     10.786     -0.000      1.000     -21.145      21.136\n",
              "x81              -0.0634     10.977     -0.006      0.995     -21.579      21.452\n",
              "x82              -0.1150     15.388     -0.007      0.994     -30.276      30.046\n",
              "x83              -0.0921     24.011     -0.004      0.997     -47.154      46.969\n",
              "x84              -0.0885     36.825     -0.002      0.998     -72.265      72.088\n",
              "x85              -0.0975     46.885     -0.002      0.998     -91.990      91.795\n",
              "x86              -0.0784     62.411     -0.001      0.999    -122.401     122.245\n",
              "x87              -0.0587     95.542     -0.001      1.000    -187.318     187.200\n",
              "x88              -0.0584    122.809     -0.000      1.000    -240.759     240.642\n",
              "x89              -0.0641    134.003     -0.000      1.000    -262.706     262.577\n",
              "x90              -0.0646    144.241     -0.000      1.000    -282.773     282.643\n",
              "x91              -0.0594    149.535     -0.000      1.000    -293.142     293.023\n",
              "x92              -0.0501    138.432     -0.000      1.000    -271.372     271.272\n",
              "x93              -0.0379    127.707     -0.000      1.000    -250.340     250.264\n",
              "x94              -0.0240    116.506     -0.000      1.000    -228.371     228.323\n",
              "x95              -0.0111     97.256     -0.000      1.000    -190.628     190.606\n",
              "x96               0.0034     88.466   3.79e-05      1.000    -173.386     173.393\n",
              "x97               0.0103     73.376      0.000      1.000    -143.803     143.824\n",
              "x98               0.0071     63.878      0.000      1.000    -125.191     125.206\n",
              "x99               0.0021     66.140   3.13e-05      1.000    -129.629     129.633\n",
              "x100             -0.0043     64.298  -6.76e-05      1.000    -126.026     126.017\n",
              "x101             -0.0190     58.492     -0.000      1.000    -114.662     114.624\n",
              "x102             -0.0385     55.105     -0.001      0.999    -108.042     107.965\n",
              "x103             -0.0654     52.510     -0.001      0.999    -102.984     102.853\n",
              "x104             -0.1052     46.528     -0.002      0.998     -91.298      91.088\n",
              "x105             -0.1582     43.208     -0.004      0.997     -84.844      84.528\n",
              "x106             -0.2092     41.919     -0.005      0.996     -82.369      81.951\n",
              "x107             -0.2602     41.462     -0.006      0.995     -81.524      81.003\n",
              "x108             -0.2987     45.797     -0.007      0.995     -90.060      89.463\n",
              "x109             -0.3233     45.862     -0.007      0.994     -90.212      89.565\n",
              "x110             -0.3443     46.603     -0.007      0.994     -91.684      90.996\n",
              "x111             -0.3646     49.836     -0.007      0.994     -98.041      97.312\n",
              "x112             -0.3864     49.378     -0.008      0.994     -97.166      96.393\n",
              "x113             -0.4100     48.493     -0.008      0.993     -95.454      94.634\n",
              "x114             -0.4322     48.799     -0.009      0.993     -96.076      95.211\n",
              "x115             -0.4513     46.294     -0.010      0.992     -91.186      90.283\n",
              "x116             -0.4573     52.946     -0.009      0.993    -104.229     103.314\n",
              "x117             -0.4424     58.703     -0.008      0.994    -115.499     114.614\n",
              "x118             -0.4343     53.309     -0.008      0.993    -104.917     104.048\n",
              "x119             -0.4363     48.009     -0.009      0.993     -94.532      93.659\n",
              "x120             -0.4374     26.032     -0.017      0.987     -51.460      50.585\n",
              "x121              0.2660      1.338      0.199      0.842      -2.357       2.889\n",
              "x122             -0.8026      0.490     -1.636      0.102      -1.764       0.159\n",
              "x123              0.1719      3.542      0.049      0.961      -6.771       7.115\n",
              "x124              0.3593      3.024      0.119      0.905      -5.568       6.287\n",
              "=================================================================================\n",
              "\"\"\""
            ],
            "text/html": [
              "<table class=\"simpletable\">\n",
              "<caption>ZeroInflatedPoisson Regression Results</caption>\n",
              "<tr>\n",
              "  <th>Dep. Variable:</th>           <td>122</td>         <th>  No. Observations:  </th>  <td>  3840</td>  \n",
              "</tr>\n",
              "<tr>\n",
              "  <th>Model:</th>           <td>ZeroInflatedPoisson</td> <th>  Df Residuals:      </th>  <td>  3715</td>  \n",
              "</tr>\n",
              "<tr>\n",
              "  <th>Method:</th>                  <td>MLE</td>         <th>  Df Model:          </th>  <td>   124</td>  \n",
              "</tr>\n",
              "<tr>\n",
              "  <th>Date:</th>             <td>Wed, 01 Nov 2023</td>   <th>  Pseudo R-squ.:     </th>  <td>0.2618</td>  \n",
              "</tr>\n",
              "<tr>\n",
              "  <th>Time:</th>                 <td>20:29:47</td>       <th>  Log-Likelihood:    </th> <td> -447.97</td> \n",
              "</tr>\n",
              "<tr>\n",
              "  <th>converged:</th>              <td>False</td>        <th>  LL-Null:           </th> <td> -606.84</td> \n",
              "</tr>\n",
              "<tr>\n",
              "  <th>Covariance Type:</th>      <td>nonrobust</td>      <th>  LLR p-value:       </th> <td>5.885e-19</td>\n",
              "</tr>\n",
              "</table>\n",
              "<table class=\"simpletable\">\n",
              "<tr>\n",
              "        <td></td>           <th>coef</th>     <th>std err</th>      <th>z</th>      <th>P>|z|</th>  <th>[0.025</th>    <th>0.975]</th>  \n",
              "</tr>\n",
              "<tr>\n",
              "  <th>inflate_const</th> <td>  -15.3361</td> <td>   60.074</td> <td>   -0.255</td> <td> 0.799</td> <td> -133.079</td> <td>  102.407</td>\n",
              "</tr>\n",
              "<tr>\n",
              "  <th>const</th>         <td>   -4.1490</td> <td>    4.697</td> <td>   -0.883</td> <td> 0.377</td> <td>  -13.355</td> <td>    5.057</td>\n",
              "</tr>\n",
              "<tr>\n",
              "  <th>x1</th>            <td>    0.0399</td> <td>   32.282</td> <td>    0.001</td> <td> 0.999</td> <td>  -63.232</td> <td>   63.311</td>\n",
              "</tr>\n",
              "<tr>\n",
              "  <th>x2</th>            <td>    0.1630</td> <td>    8.173</td> <td>    0.020</td> <td> 0.984</td> <td>  -15.856</td> <td>   16.182</td>\n",
              "</tr>\n",
              "<tr>\n",
              "  <th>x3</th>            <td>   -0.0642</td> <td>   11.645</td> <td>   -0.006</td> <td> 0.996</td> <td>  -22.888</td> <td>   22.760</td>\n",
              "</tr>\n",
              "<tr>\n",
              "  <th>x4</th>            <td>   -0.1982</td> <td>   18.643</td> <td>   -0.011</td> <td> 0.992</td> <td>  -36.738</td> <td>   36.341</td>\n",
              "</tr>\n",
              "<tr>\n",
              "  <th>x5</th>            <td>   -0.2672</td> <td>   25.749</td> <td>   -0.010</td> <td> 0.992</td> <td>  -50.733</td> <td>   50.199</td>\n",
              "</tr>\n",
              "<tr>\n",
              "  <th>x6</th>            <td>   -0.5451</td> <td>   19.780</td> <td>   -0.028</td> <td> 0.978</td> <td>  -39.314</td> <td>   38.224</td>\n",
              "</tr>\n",
              "<tr>\n",
              "  <th>x7</th>            <td>   -0.6711</td> <td>   27.598</td> <td>   -0.024</td> <td> 0.981</td> <td>  -54.762</td> <td>   53.419</td>\n",
              "</tr>\n",
              "<tr>\n",
              "  <th>x8</th>            <td>   -0.7112</td> <td>   40.681</td> <td>   -0.017</td> <td> 0.986</td> <td>  -80.444</td> <td>   79.021</td>\n",
              "</tr>\n",
              "<tr>\n",
              "  <th>x9</th>            <td>   -0.6979</td> <td>   56.847</td> <td>   -0.012</td> <td> 0.990</td> <td> -112.115</td> <td>  110.719</td>\n",
              "</tr>\n",
              "<tr>\n",
              "  <th>x10</th>           <td>   -0.7594</td> <td>   74.997</td> <td>   -0.010</td> <td> 0.992</td> <td> -147.751</td> <td>  146.232</td>\n",
              "</tr>\n",
              "<tr>\n",
              "  <th>x11</th>           <td>   -0.7173</td> <td>   85.950</td> <td>   -0.008</td> <td> 0.993</td> <td> -169.176</td> <td>  167.742</td>\n",
              "</tr>\n",
              "<tr>\n",
              "  <th>x12</th>           <td>   -0.6132</td> <td>   88.764</td> <td>   -0.007</td> <td> 0.994</td> <td> -174.588</td> <td>  173.362</td>\n",
              "</tr>\n",
              "<tr>\n",
              "  <th>x13</th>           <td>   -0.3948</td> <td>   88.153</td> <td>   -0.004</td> <td> 0.996</td> <td> -173.172</td> <td>  172.383</td>\n",
              "</tr>\n",
              "<tr>\n",
              "  <th>x14</th>           <td>   -0.1116</td> <td>   82.327</td> <td>   -0.001</td> <td> 0.999</td> <td> -161.470</td> <td>  161.247</td>\n",
              "</tr>\n",
              "<tr>\n",
              "  <th>x15</th>           <td>    0.2372</td> <td>   60.582</td> <td>    0.004</td> <td> 0.997</td> <td> -118.502</td> <td>  118.976</td>\n",
              "</tr>\n",
              "<tr>\n",
              "  <th>x16</th>           <td>    0.6044</td> <td>   39.765</td> <td>    0.015</td> <td> 0.988</td> <td>  -77.333</td> <td>   78.541</td>\n",
              "</tr>\n",
              "<tr>\n",
              "  <th>x17</th>           <td>    0.8141</td> <td>   31.512</td> <td>    0.026</td> <td> 0.979</td> <td>  -60.947</td> <td>   62.576</td>\n",
              "</tr>\n",
              "<tr>\n",
              "  <th>x18</th>           <td>    1.0318</td> <td>   16.866</td> <td>    0.061</td> <td> 0.951</td> <td>  -32.025</td> <td>   34.088</td>\n",
              "</tr>\n",
              "<tr>\n",
              "  <th>x19</th>           <td>    1.0737</td> <td>   14.239</td> <td>    0.075</td> <td> 0.940</td> <td>  -26.834</td> <td>   28.982</td>\n",
              "</tr>\n",
              "<tr>\n",
              "  <th>x20</th>           <td>    1.1276</td> <td>   15.748</td> <td>    0.072</td> <td> 0.943</td> <td>  -29.738</td> <td>   31.993</td>\n",
              "</tr>\n",
              "<tr>\n",
              "  <th>x21</th>           <td>    0.8890</td> <td>   17.490</td> <td>    0.051</td> <td> 0.959</td> <td>  -33.391</td> <td>   35.169</td>\n",
              "</tr>\n",
              "<tr>\n",
              "  <th>x22</th>           <td>    0.7058</td> <td>   22.924</td> <td>    0.031</td> <td> 0.975</td> <td>  -44.224</td> <td>   45.635</td>\n",
              "</tr>\n",
              "<tr>\n",
              "  <th>x23</th>           <td>    0.4116</td> <td>   34.346</td> <td>    0.012</td> <td> 0.990</td> <td>  -66.906</td> <td>   67.729</td>\n",
              "</tr>\n",
              "<tr>\n",
              "  <th>x24</th>           <td>    0.1800</td> <td>   52.123</td> <td>    0.003</td> <td> 0.997</td> <td> -101.978</td> <td>  102.339</td>\n",
              "</tr>\n",
              "<tr>\n",
              "  <th>x25</th>           <td>   -0.0281</td> <td>   74.129</td> <td>   -0.000</td> <td> 1.000</td> <td> -145.317</td> <td>  145.261</td>\n",
              "</tr>\n",
              "<tr>\n",
              "  <th>x26</th>           <td>   -0.1480</td> <td>  102.270</td> <td>   -0.001</td> <td> 0.999</td> <td> -200.594</td> <td>  200.298</td>\n",
              "</tr>\n",
              "<tr>\n",
              "  <th>x27</th>           <td>   -0.2153</td> <td>  132.181</td> <td>   -0.002</td> <td> 0.999</td> <td> -259.285</td> <td>  258.854</td>\n",
              "</tr>\n",
              "<tr>\n",
              "  <th>x28</th>           <td>   -0.2325</td> <td>  143.379</td> <td>   -0.002</td> <td> 0.999</td> <td> -281.250</td> <td>  280.785</td>\n",
              "</tr>\n",
              "<tr>\n",
              "  <th>x29</th>           <td>   -0.2245</td> <td>  170.673</td> <td>   -0.001</td> <td> 0.999</td> <td> -334.737</td> <td>  334.288</td>\n",
              "</tr>\n",
              "<tr>\n",
              "  <th>x30</th>           <td>   -0.1871</td> <td>  189.951</td> <td>   -0.001</td> <td> 0.999</td> <td> -372.484</td> <td>  372.110</td>\n",
              "</tr>\n",
              "<tr>\n",
              "  <th>x31</th>           <td>   -0.1322</td> <td>  194.453</td> <td>   -0.001</td> <td> 0.999</td> <td> -381.254</td> <td>  380.990</td>\n",
              "</tr>\n",
              "<tr>\n",
              "  <th>x32</th>           <td>   -0.0792</td> <td>  168.448</td> <td>   -0.000</td> <td> 1.000</td> <td> -330.232</td> <td>  330.073</td>\n",
              "</tr>\n",
              "<tr>\n",
              "  <th>x33</th>           <td>   -0.0247</td> <td>  136.218</td> <td>   -0.000</td> <td> 1.000</td> <td> -267.008</td> <td>  266.958</td>\n",
              "</tr>\n",
              "<tr>\n",
              "  <th>x34</th>           <td>    0.0225</td> <td>  168.827</td> <td>    0.000</td> <td> 1.000</td> <td> -330.873</td> <td>  330.918</td>\n",
              "</tr>\n",
              "<tr>\n",
              "  <th>x35</th>           <td>    0.0607</td> <td>  175.677</td> <td>    0.000</td> <td> 1.000</td> <td> -344.260</td> <td>  344.381</td>\n",
              "</tr>\n",
              "<tr>\n",
              "  <th>x36</th>           <td>    0.0915</td> <td>  150.236</td> <td>    0.001</td> <td> 1.000</td> <td> -294.365</td> <td>  294.548</td>\n",
              "</tr>\n",
              "<tr>\n",
              "  <th>x37</th>           <td>    0.1207</td> <td>  168.510</td> <td>    0.001</td> <td> 0.999</td> <td> -330.152</td> <td>  330.393</td>\n",
              "</tr>\n",
              "<tr>\n",
              "  <th>x38</th>           <td>    0.1435</td> <td>  155.176</td> <td>    0.001</td> <td> 0.999</td> <td> -303.997</td> <td>  304.284</td>\n",
              "</tr>\n",
              "<tr>\n",
              "  <th>x39</th>           <td>    0.1568</td> <td>  154.150</td> <td>    0.001</td> <td> 0.999</td> <td> -301.971</td> <td>  302.284</td>\n",
              "</tr>\n",
              "<tr>\n",
              "  <th>x40</th>           <td>    0.1601</td> <td>  132.496</td> <td>    0.001</td> <td> 0.999</td> <td> -259.527</td> <td>  259.848</td>\n",
              "</tr>\n",
              "<tr>\n",
              "  <th>x41</th>           <td>    0.1528</td> <td>   94.157</td> <td>    0.002</td> <td> 0.999</td> <td> -184.391</td> <td>  184.697</td>\n",
              "</tr>\n",
              "<tr>\n",
              "  <th>x42</th>           <td>    0.1434</td> <td>  108.165</td> <td>    0.001</td> <td> 0.999</td> <td> -211.856</td> <td>  212.143</td>\n",
              "</tr>\n",
              "<tr>\n",
              "  <th>x43</th>           <td>    0.1383</td> <td>  124.730</td> <td>    0.001</td> <td> 0.999</td> <td> -244.328</td> <td>  244.605</td>\n",
              "</tr>\n",
              "<tr>\n",
              "  <th>x44</th>           <td>    0.1403</td> <td>  108.721</td> <td>    0.001</td> <td> 0.999</td> <td> -212.948</td> <td>  213.229</td>\n",
              "</tr>\n",
              "<tr>\n",
              "  <th>x45</th>           <td>    0.1486</td> <td>   87.645</td> <td>    0.002</td> <td> 0.999</td> <td> -171.632</td> <td>  171.929</td>\n",
              "</tr>\n",
              "<tr>\n",
              "  <th>x46</th>           <td>    0.1565</td> <td>  107.256</td> <td>    0.001</td> <td> 0.999</td> <td> -210.061</td> <td>  210.374</td>\n",
              "</tr>\n",
              "<tr>\n",
              "  <th>x47</th>           <td>    0.1662</td> <td>  124.780</td> <td>    0.001</td> <td> 0.999</td> <td> -244.397</td> <td>  244.730</td>\n",
              "</tr>\n",
              "<tr>\n",
              "  <th>x48</th>           <td>    0.1744</td> <td>  139.917</td> <td>    0.001</td> <td> 0.999</td> <td> -274.057</td> <td>  274.406</td>\n",
              "</tr>\n",
              "<tr>\n",
              "  <th>x49</th>           <td>    0.1781</td> <td>  154.631</td> <td>    0.001</td> <td> 0.999</td> <td> -302.893</td> <td>  303.249</td>\n",
              "</tr>\n",
              "<tr>\n",
              "  <th>x50</th>           <td>    0.1815</td> <td>  138.230</td> <td>    0.001</td> <td> 0.999</td> <td> -270.745</td> <td>  271.108</td>\n",
              "</tr>\n",
              "<tr>\n",
              "  <th>x51</th>           <td>    0.1820</td> <td>  122.319</td> <td>    0.001</td> <td> 0.999</td> <td> -239.559</td> <td>  239.923</td>\n",
              "</tr>\n",
              "<tr>\n",
              "  <th>x52</th>           <td>    0.1771</td> <td>  117.461</td> <td>    0.002</td> <td> 0.999</td> <td> -230.043</td> <td>  230.397</td>\n",
              "</tr>\n",
              "<tr>\n",
              "  <th>x53</th>           <td>    0.1673</td> <td>  129.663</td> <td>    0.001</td> <td> 0.999</td> <td> -253.967</td> <td>  254.302</td>\n",
              "</tr>\n",
              "<tr>\n",
              "  <th>x54</th>           <td>    0.1550</td> <td>  112.776</td> <td>    0.001</td> <td> 0.999</td> <td> -220.882</td> <td>  221.192</td>\n",
              "</tr>\n",
              "<tr>\n",
              "  <th>x55</th>           <td>    0.1396</td> <td>   82.816</td> <td>    0.002</td> <td> 0.999</td> <td> -162.178</td> <td>  162.457</td>\n",
              "</tr>\n",
              "<tr>\n",
              "  <th>x56</th>           <td>    0.1387</td> <td>   74.347</td> <td>    0.002</td> <td> 0.999</td> <td> -145.580</td> <td>  145.857</td>\n",
              "</tr>\n",
              "<tr>\n",
              "  <th>x57</th>           <td>    0.1615</td> <td>   65.244</td> <td>    0.002</td> <td> 0.998</td> <td> -127.714</td> <td>  128.037</td>\n",
              "</tr>\n",
              "<tr>\n",
              "  <th>x58</th>           <td>    0.1917</td> <td>   54.641</td> <td>    0.004</td> <td> 0.997</td> <td> -106.903</td> <td>  107.287</td>\n",
              "</tr>\n",
              "<tr>\n",
              "  <th>x59</th>           <td>    0.2320</td> <td>   48.642</td> <td>    0.005</td> <td> 0.996</td> <td>  -95.104</td> <td>   95.568</td>\n",
              "</tr>\n",
              "<tr>\n",
              "  <th>x60</th>           <td>    0.2960</td> <td>   21.832</td> <td>    0.014</td> <td> 0.989</td> <td>  -42.493</td> <td>   43.085</td>\n",
              "</tr>\n",
              "<tr>\n",
              "  <th>x61</th>           <td>    0.1010</td> <td>   21.433</td> <td>    0.005</td> <td> 0.996</td> <td>  -41.908</td> <td>   42.110</td>\n",
              "</tr>\n",
              "<tr>\n",
              "  <th>x62</th>           <td>    0.1170</td> <td>   23.610</td> <td>    0.005</td> <td> 0.996</td> <td>  -46.157</td> <td>   46.391</td>\n",
              "</tr>\n",
              "<tr>\n",
              "  <th>x63</th>           <td>    0.0268</td> <td>   17.127</td> <td>    0.002</td> <td> 0.999</td> <td>  -33.542</td> <td>   33.596</td>\n",
              "</tr>\n",
              "<tr>\n",
              "  <th>x64</th>           <td>   -0.0440</td> <td>   21.322</td> <td>   -0.002</td> <td> 0.998</td> <td>  -41.834</td> <td>   41.747</td>\n",
              "</tr>\n",
              "<tr>\n",
              "  <th>x65</th>           <td>   -0.0685</td> <td>   29.043</td> <td>   -0.002</td> <td> 0.998</td> <td>  -56.992</td> <td>   56.855</td>\n",
              "</tr>\n",
              "<tr>\n",
              "  <th>x66</th>           <td>   -0.0337</td> <td>   34.358</td> <td>   -0.001</td> <td> 0.999</td> <td>  -67.374</td> <td>   67.306</td>\n",
              "</tr>\n",
              "<tr>\n",
              "  <th>x67</th>           <td>    0.0232</td> <td>   37.139</td> <td>    0.001</td> <td> 1.000</td> <td>  -72.768</td> <td>   72.814</td>\n",
              "</tr>\n",
              "<tr>\n",
              "  <th>x68</th>           <td>    0.0996</td> <td>   32.693</td> <td>    0.003</td> <td> 0.998</td> <td>  -63.978</td> <td>   64.177</td>\n",
              "</tr>\n",
              "<tr>\n",
              "  <th>x69</th>           <td>    0.2813</td> <td>   30.560</td> <td>    0.009</td> <td> 0.993</td> <td>  -59.614</td> <td>   60.177</td>\n",
              "</tr>\n",
              "<tr>\n",
              "  <th>x70</th>           <td>    0.4493</td> <td>   26.250</td> <td>    0.017</td> <td> 0.986</td> <td>  -50.999</td> <td>   51.898</td>\n",
              "</tr>\n",
              "<tr>\n",
              "  <th>x71</th>           <td>    0.4559</td> <td>   21.612</td> <td>    0.021</td> <td> 0.983</td> <td>  -41.902</td> <td>   42.814</td>\n",
              "</tr>\n",
              "<tr>\n",
              "  <th>x72</th>           <td>    0.3913</td> <td>   19.304</td> <td>    0.020</td> <td> 0.984</td> <td>  -37.444</td> <td>   38.227</td>\n",
              "</tr>\n",
              "<tr>\n",
              "  <th>x73</th>           <td>    0.2084</td> <td>   30.974</td> <td>    0.007</td> <td> 0.995</td> <td>  -60.499</td> <td>   60.916</td>\n",
              "</tr>\n",
              "<tr>\n",
              "  <th>x74</th>           <td>    0.0749</td> <td>   97.542</td> <td>    0.001</td> <td> 0.999</td> <td> -191.104</td> <td>  191.254</td>\n",
              "</tr>\n",
              "<tr>\n",
              "  <th>x75</th>           <td>    0.0176</td> <td>  411.721</td> <td> 4.28e-05</td> <td> 1.000</td> <td> -806.942</td> <td>  806.977</td>\n",
              "</tr>\n",
              "<tr>\n",
              "  <th>x76</th>           <td>    0.0076</td> <td>  498.292</td> <td> 1.53e-05</td> <td> 1.000</td> <td> -976.626</td> <td>  976.641</td>\n",
              "</tr>\n",
              "<tr>\n",
              "  <th>x77</th>           <td>    0.0112</td> <td>  111.204</td> <td>    0.000</td> <td> 1.000</td> <td> -217.944</td> <td>  217.967</td>\n",
              "</tr>\n",
              "<tr>\n",
              "  <th>x78</th>           <td>    0.0043</td> <td>   29.135</td> <td>    0.000</td> <td> 1.000</td> <td>  -57.100</td> <td>   57.108</td>\n",
              "</tr>\n",
              "<tr>\n",
              "  <th>x79</th>           <td>   -0.0167</td> <td>   19.357</td> <td>   -0.001</td> <td> 0.999</td> <td>  -37.956</td> <td>   37.922</td>\n",
              "</tr>\n",
              "<tr>\n",
              "  <th>x80</th>           <td>   -0.0044</td> <td>   10.786</td> <td>   -0.000</td> <td> 1.000</td> <td>  -21.145</td> <td>   21.136</td>\n",
              "</tr>\n",
              "<tr>\n",
              "  <th>x81</th>           <td>   -0.0634</td> <td>   10.977</td> <td>   -0.006</td> <td> 0.995</td> <td>  -21.579</td> <td>   21.452</td>\n",
              "</tr>\n",
              "<tr>\n",
              "  <th>x82</th>           <td>   -0.1150</td> <td>   15.388</td> <td>   -0.007</td> <td> 0.994</td> <td>  -30.276</td> <td>   30.046</td>\n",
              "</tr>\n",
              "<tr>\n",
              "  <th>x83</th>           <td>   -0.0921</td> <td>   24.011</td> <td>   -0.004</td> <td> 0.997</td> <td>  -47.154</td> <td>   46.969</td>\n",
              "</tr>\n",
              "<tr>\n",
              "  <th>x84</th>           <td>   -0.0885</td> <td>   36.825</td> <td>   -0.002</td> <td> 0.998</td> <td>  -72.265</td> <td>   72.088</td>\n",
              "</tr>\n",
              "<tr>\n",
              "  <th>x85</th>           <td>   -0.0975</td> <td>   46.885</td> <td>   -0.002</td> <td> 0.998</td> <td>  -91.990</td> <td>   91.795</td>\n",
              "</tr>\n",
              "<tr>\n",
              "  <th>x86</th>           <td>   -0.0784</td> <td>   62.411</td> <td>   -0.001</td> <td> 0.999</td> <td> -122.401</td> <td>  122.245</td>\n",
              "</tr>\n",
              "<tr>\n",
              "  <th>x87</th>           <td>   -0.0587</td> <td>   95.542</td> <td>   -0.001</td> <td> 1.000</td> <td> -187.318</td> <td>  187.200</td>\n",
              "</tr>\n",
              "<tr>\n",
              "  <th>x88</th>           <td>   -0.0584</td> <td>  122.809</td> <td>   -0.000</td> <td> 1.000</td> <td> -240.759</td> <td>  240.642</td>\n",
              "</tr>\n",
              "<tr>\n",
              "  <th>x89</th>           <td>   -0.0641</td> <td>  134.003</td> <td>   -0.000</td> <td> 1.000</td> <td> -262.706</td> <td>  262.577</td>\n",
              "</tr>\n",
              "<tr>\n",
              "  <th>x90</th>           <td>   -0.0646</td> <td>  144.241</td> <td>   -0.000</td> <td> 1.000</td> <td> -282.773</td> <td>  282.643</td>\n",
              "</tr>\n",
              "<tr>\n",
              "  <th>x91</th>           <td>   -0.0594</td> <td>  149.535</td> <td>   -0.000</td> <td> 1.000</td> <td> -293.142</td> <td>  293.023</td>\n",
              "</tr>\n",
              "<tr>\n",
              "  <th>x92</th>           <td>   -0.0501</td> <td>  138.432</td> <td>   -0.000</td> <td> 1.000</td> <td> -271.372</td> <td>  271.272</td>\n",
              "</tr>\n",
              "<tr>\n",
              "  <th>x93</th>           <td>   -0.0379</td> <td>  127.707</td> <td>   -0.000</td> <td> 1.000</td> <td> -250.340</td> <td>  250.264</td>\n",
              "</tr>\n",
              "<tr>\n",
              "  <th>x94</th>           <td>   -0.0240</td> <td>  116.506</td> <td>   -0.000</td> <td> 1.000</td> <td> -228.371</td> <td>  228.323</td>\n",
              "</tr>\n",
              "<tr>\n",
              "  <th>x95</th>           <td>   -0.0111</td> <td>   97.256</td> <td>   -0.000</td> <td> 1.000</td> <td> -190.628</td> <td>  190.606</td>\n",
              "</tr>\n",
              "<tr>\n",
              "  <th>x96</th>           <td>    0.0034</td> <td>   88.466</td> <td> 3.79e-05</td> <td> 1.000</td> <td> -173.386</td> <td>  173.393</td>\n",
              "</tr>\n",
              "<tr>\n",
              "  <th>x97</th>           <td>    0.0103</td> <td>   73.376</td> <td>    0.000</td> <td> 1.000</td> <td> -143.803</td> <td>  143.824</td>\n",
              "</tr>\n",
              "<tr>\n",
              "  <th>x98</th>           <td>    0.0071</td> <td>   63.878</td> <td>    0.000</td> <td> 1.000</td> <td> -125.191</td> <td>  125.206</td>\n",
              "</tr>\n",
              "<tr>\n",
              "  <th>x99</th>           <td>    0.0021</td> <td>   66.140</td> <td> 3.13e-05</td> <td> 1.000</td> <td> -129.629</td> <td>  129.633</td>\n",
              "</tr>\n",
              "<tr>\n",
              "  <th>x100</th>          <td>   -0.0043</td> <td>   64.298</td> <td>-6.76e-05</td> <td> 1.000</td> <td> -126.026</td> <td>  126.017</td>\n",
              "</tr>\n",
              "<tr>\n",
              "  <th>x101</th>          <td>   -0.0190</td> <td>   58.492</td> <td>   -0.000</td> <td> 1.000</td> <td> -114.662</td> <td>  114.624</td>\n",
              "</tr>\n",
              "<tr>\n",
              "  <th>x102</th>          <td>   -0.0385</td> <td>   55.105</td> <td>   -0.001</td> <td> 0.999</td> <td> -108.042</td> <td>  107.965</td>\n",
              "</tr>\n",
              "<tr>\n",
              "  <th>x103</th>          <td>   -0.0654</td> <td>   52.510</td> <td>   -0.001</td> <td> 0.999</td> <td> -102.984</td> <td>  102.853</td>\n",
              "</tr>\n",
              "<tr>\n",
              "  <th>x104</th>          <td>   -0.1052</td> <td>   46.528</td> <td>   -0.002</td> <td> 0.998</td> <td>  -91.298</td> <td>   91.088</td>\n",
              "</tr>\n",
              "<tr>\n",
              "  <th>x105</th>          <td>   -0.1582</td> <td>   43.208</td> <td>   -0.004</td> <td> 0.997</td> <td>  -84.844</td> <td>   84.528</td>\n",
              "</tr>\n",
              "<tr>\n",
              "  <th>x106</th>          <td>   -0.2092</td> <td>   41.919</td> <td>   -0.005</td> <td> 0.996</td> <td>  -82.369</td> <td>   81.951</td>\n",
              "</tr>\n",
              "<tr>\n",
              "  <th>x107</th>          <td>   -0.2602</td> <td>   41.462</td> <td>   -0.006</td> <td> 0.995</td> <td>  -81.524</td> <td>   81.003</td>\n",
              "</tr>\n",
              "<tr>\n",
              "  <th>x108</th>          <td>   -0.2987</td> <td>   45.797</td> <td>   -0.007</td> <td> 0.995</td> <td>  -90.060</td> <td>   89.463</td>\n",
              "</tr>\n",
              "<tr>\n",
              "  <th>x109</th>          <td>   -0.3233</td> <td>   45.862</td> <td>   -0.007</td> <td> 0.994</td> <td>  -90.212</td> <td>   89.565</td>\n",
              "</tr>\n",
              "<tr>\n",
              "  <th>x110</th>          <td>   -0.3443</td> <td>   46.603</td> <td>   -0.007</td> <td> 0.994</td> <td>  -91.684</td> <td>   90.996</td>\n",
              "</tr>\n",
              "<tr>\n",
              "  <th>x111</th>          <td>   -0.3646</td> <td>   49.836</td> <td>   -0.007</td> <td> 0.994</td> <td>  -98.041</td> <td>   97.312</td>\n",
              "</tr>\n",
              "<tr>\n",
              "  <th>x112</th>          <td>   -0.3864</td> <td>   49.378</td> <td>   -0.008</td> <td> 0.994</td> <td>  -97.166</td> <td>   96.393</td>\n",
              "</tr>\n",
              "<tr>\n",
              "  <th>x113</th>          <td>   -0.4100</td> <td>   48.493</td> <td>   -0.008</td> <td> 0.993</td> <td>  -95.454</td> <td>   94.634</td>\n",
              "</tr>\n",
              "<tr>\n",
              "  <th>x114</th>          <td>   -0.4322</td> <td>   48.799</td> <td>   -0.009</td> <td> 0.993</td> <td>  -96.076</td> <td>   95.211</td>\n",
              "</tr>\n",
              "<tr>\n",
              "  <th>x115</th>          <td>   -0.4513</td> <td>   46.294</td> <td>   -0.010</td> <td> 0.992</td> <td>  -91.186</td> <td>   90.283</td>\n",
              "</tr>\n",
              "<tr>\n",
              "  <th>x116</th>          <td>   -0.4573</td> <td>   52.946</td> <td>   -0.009</td> <td> 0.993</td> <td> -104.229</td> <td>  103.314</td>\n",
              "</tr>\n",
              "<tr>\n",
              "  <th>x117</th>          <td>   -0.4424</td> <td>   58.703</td> <td>   -0.008</td> <td> 0.994</td> <td> -115.499</td> <td>  114.614</td>\n",
              "</tr>\n",
              "<tr>\n",
              "  <th>x118</th>          <td>   -0.4343</td> <td>   53.309</td> <td>   -0.008</td> <td> 0.993</td> <td> -104.917</td> <td>  104.048</td>\n",
              "</tr>\n",
              "<tr>\n",
              "  <th>x119</th>          <td>   -0.4363</td> <td>   48.009</td> <td>   -0.009</td> <td> 0.993</td> <td>  -94.532</td> <td>   93.659</td>\n",
              "</tr>\n",
              "<tr>\n",
              "  <th>x120</th>          <td>   -0.4374</td> <td>   26.032</td> <td>   -0.017</td> <td> 0.987</td> <td>  -51.460</td> <td>   50.585</td>\n",
              "</tr>\n",
              "<tr>\n",
              "  <th>x121</th>          <td>    0.2660</td> <td>    1.338</td> <td>    0.199</td> <td> 0.842</td> <td>   -2.357</td> <td>    2.889</td>\n",
              "</tr>\n",
              "<tr>\n",
              "  <th>x122</th>          <td>   -0.8026</td> <td>    0.490</td> <td>   -1.636</td> <td> 0.102</td> <td>   -1.764</td> <td>    0.159</td>\n",
              "</tr>\n",
              "<tr>\n",
              "  <th>x123</th>          <td>    0.1719</td> <td>    3.542</td> <td>    0.049</td> <td> 0.961</td> <td>   -6.771</td> <td>    7.115</td>\n",
              "</tr>\n",
              "<tr>\n",
              "  <th>x124</th>          <td>    0.3593</td> <td>    3.024</td> <td>    0.119</td> <td> 0.905</td> <td>   -5.568</td> <td>    6.287</td>\n",
              "</tr>\n",
              "</table>"
            ],
            "text/latex": "\\begin{center}\n\\begin{tabular}{lclc}\n\\toprule\n\\textbf{Dep. Variable:}   &         122         & \\textbf{  No. Observations:  } &     3840    \\\\\n\\textbf{Model:}           & ZeroInflatedPoisson & \\textbf{  Df Residuals:      } &     3715    \\\\\n\\textbf{Method:}          &         MLE         & \\textbf{  Df Model:          } &      124    \\\\\n\\textbf{Date:}            &   Wed, 01 Nov 2023  & \\textbf{  Pseudo R-squ.:     } &   0.2618    \\\\\n\\textbf{Time:}            &       20:29:47      & \\textbf{  Log-Likelihood:    } &   -447.97   \\\\\n\\textbf{converged:}       &        False        & \\textbf{  LL-Null:           } &   -606.84   \\\\\n\\textbf{Covariance Type:} &      nonrobust      & \\textbf{  LLR p-value:       } & 5.885e-19   \\\\\n\\bottomrule\n\\end{tabular}\n\\begin{tabular}{lcccccc}\n                        & \\textbf{coef} & \\textbf{std err} & \\textbf{z} & \\textbf{P$> |$z$|$} & \\textbf{[0.025} & \\textbf{0.975]}  \\\\\n\\midrule\n\\textbf{inflate\\_const} &     -15.3361  &       60.074     &    -0.255  &         0.799        &     -133.079    &      102.407     \\\\\n\\textbf{const}          &      -4.1490  &        4.697     &    -0.883  &         0.377        &      -13.355    &        5.057     \\\\\n\\textbf{x1}             &       0.0399  &       32.282     &     0.001  &         0.999        &      -63.232    &       63.311     \\\\\n\\textbf{x2}             &       0.1630  &        8.173     &     0.020  &         0.984        &      -15.856    &       16.182     \\\\\n\\textbf{x3}             &      -0.0642  &       11.645     &    -0.006  &         0.996        &      -22.888    &       22.760     \\\\\n\\textbf{x4}             &      -0.1982  &       18.643     &    -0.011  &         0.992        &      -36.738    &       36.341     \\\\\n\\textbf{x5}             &      -0.2672  &       25.749     &    -0.010  &         0.992        &      -50.733    &       50.199     \\\\\n\\textbf{x6}             &      -0.5451  &       19.780     &    -0.028  &         0.978        &      -39.314    &       38.224     \\\\\n\\textbf{x7}             &      -0.6711  &       27.598     &    -0.024  &         0.981        &      -54.762    &       53.419     \\\\\n\\textbf{x8}             &      -0.7112  &       40.681     &    -0.017  &         0.986        &      -80.444    &       79.021     \\\\\n\\textbf{x9}             &      -0.6979  &       56.847     &    -0.012  &         0.990        &     -112.115    &      110.719     \\\\\n\\textbf{x10}            &      -0.7594  &       74.997     &    -0.010  &         0.992        &     -147.751    &      146.232     \\\\\n\\textbf{x11}            &      -0.7173  &       85.950     &    -0.008  &         0.993        &     -169.176    &      167.742     \\\\\n\\textbf{x12}            &      -0.6132  &       88.764     &    -0.007  &         0.994        &     -174.588    &      173.362     \\\\\n\\textbf{x13}            &      -0.3948  &       88.153     &    -0.004  &         0.996        &     -173.172    &      172.383     \\\\\n\\textbf{x14}            &      -0.1116  &       82.327     &    -0.001  &         0.999        &     -161.470    &      161.247     \\\\\n\\textbf{x15}            &       0.2372  &       60.582     &     0.004  &         0.997        &     -118.502    &      118.976     \\\\\n\\textbf{x16}            &       0.6044  &       39.765     &     0.015  &         0.988        &      -77.333    &       78.541     \\\\\n\\textbf{x17}            &       0.8141  &       31.512     &     0.026  &         0.979        &      -60.947    &       62.576     \\\\\n\\textbf{x18}            &       1.0318  &       16.866     &     0.061  &         0.951        &      -32.025    &       34.088     \\\\\n\\textbf{x19}            &       1.0737  &       14.239     &     0.075  &         0.940        &      -26.834    &       28.982     \\\\\n\\textbf{x20}            &       1.1276  &       15.748     &     0.072  &         0.943        &      -29.738    &       31.993     \\\\\n\\textbf{x21}            &       0.8890  &       17.490     &     0.051  &         0.959        &      -33.391    &       35.169     \\\\\n\\textbf{x22}            &       0.7058  &       22.924     &     0.031  &         0.975        &      -44.224    &       45.635     \\\\\n\\textbf{x23}            &       0.4116  &       34.346     &     0.012  &         0.990        &      -66.906    &       67.729     \\\\\n\\textbf{x24}            &       0.1800  &       52.123     &     0.003  &         0.997        &     -101.978    &      102.339     \\\\\n\\textbf{x25}            &      -0.0281  &       74.129     &    -0.000  &         1.000        &     -145.317    &      145.261     \\\\\n\\textbf{x26}            &      -0.1480  &      102.270     &    -0.001  &         0.999        &     -200.594    &      200.298     \\\\\n\\textbf{x27}            &      -0.2153  &      132.181     &    -0.002  &         0.999        &     -259.285    &      258.854     \\\\\n\\textbf{x28}            &      -0.2325  &      143.379     &    -0.002  &         0.999        &     -281.250    &      280.785     \\\\\n\\textbf{x29}            &      -0.2245  &      170.673     &    -0.001  &         0.999        &     -334.737    &      334.288     \\\\\n\\textbf{x30}            &      -0.1871  &      189.951     &    -0.001  &         0.999        &     -372.484    &      372.110     \\\\\n\\textbf{x31}            &      -0.1322  &      194.453     &    -0.001  &         0.999        &     -381.254    &      380.990     \\\\\n\\textbf{x32}            &      -0.0792  &      168.448     &    -0.000  &         1.000        &     -330.232    &      330.073     \\\\\n\\textbf{x33}            &      -0.0247  &      136.218     &    -0.000  &         1.000        &     -267.008    &      266.958     \\\\\n\\textbf{x34}            &       0.0225  &      168.827     &     0.000  &         1.000        &     -330.873    &      330.918     \\\\\n\\textbf{x35}            &       0.0607  &      175.677     &     0.000  &         1.000        &     -344.260    &      344.381     \\\\\n\\textbf{x36}            &       0.0915  &      150.236     &     0.001  &         1.000        &     -294.365    &      294.548     \\\\\n\\textbf{x37}            &       0.1207  &      168.510     &     0.001  &         0.999        &     -330.152    &      330.393     \\\\\n\\textbf{x38}            &       0.1435  &      155.176     &     0.001  &         0.999        &     -303.997    &      304.284     \\\\\n\\textbf{x39}            &       0.1568  &      154.150     &     0.001  &         0.999        &     -301.971    &      302.284     \\\\\n\\textbf{x40}            &       0.1601  &      132.496     &     0.001  &         0.999        &     -259.527    &      259.848     \\\\\n\\textbf{x41}            &       0.1528  &       94.157     &     0.002  &         0.999        &     -184.391    &      184.697     \\\\\n\\textbf{x42}            &       0.1434  &      108.165     &     0.001  &         0.999        &     -211.856    &      212.143     \\\\\n\\textbf{x43}            &       0.1383  &      124.730     &     0.001  &         0.999        &     -244.328    &      244.605     \\\\\n\\textbf{x44}            &       0.1403  &      108.721     &     0.001  &         0.999        &     -212.948    &      213.229     \\\\\n\\textbf{x45}            &       0.1486  &       87.645     &     0.002  &         0.999        &     -171.632    &      171.929     \\\\\n\\textbf{x46}            &       0.1565  &      107.256     &     0.001  &         0.999        &     -210.061    &      210.374     \\\\\n\\textbf{x47}            &       0.1662  &      124.780     &     0.001  &         0.999        &     -244.397    &      244.730     \\\\\n\\textbf{x48}            &       0.1744  &      139.917     &     0.001  &         0.999        &     -274.057    &      274.406     \\\\\n\\textbf{x49}            &       0.1781  &      154.631     &     0.001  &         0.999        &     -302.893    &      303.249     \\\\\n\\textbf{x50}            &       0.1815  &      138.230     &     0.001  &         0.999        &     -270.745    &      271.108     \\\\\n\\textbf{x51}            &       0.1820  &      122.319     &     0.001  &         0.999        &     -239.559    &      239.923     \\\\\n\\textbf{x52}            &       0.1771  &      117.461     &     0.002  &         0.999        &     -230.043    &      230.397     \\\\\n\\textbf{x53}            &       0.1673  &      129.663     &     0.001  &         0.999        &     -253.967    &      254.302     \\\\\n\\textbf{x54}            &       0.1550  &      112.776     &     0.001  &         0.999        &     -220.882    &      221.192     \\\\\n\\textbf{x55}            &       0.1396  &       82.816     &     0.002  &         0.999        &     -162.178    &      162.457     \\\\\n\\textbf{x56}            &       0.1387  &       74.347     &     0.002  &         0.999        &     -145.580    &      145.857     \\\\\n\\textbf{x57}            &       0.1615  &       65.244     &     0.002  &         0.998        &     -127.714    &      128.037     \\\\\n\\textbf{x58}            &       0.1917  &       54.641     &     0.004  &         0.997        &     -106.903    &      107.287     \\\\\n\\textbf{x59}            &       0.2320  &       48.642     &     0.005  &         0.996        &      -95.104    &       95.568     \\\\\n\\textbf{x60}            &       0.2960  &       21.832     &     0.014  &         0.989        &      -42.493    &       43.085     \\\\\n\\textbf{x61}            &       0.1010  &       21.433     &     0.005  &         0.996        &      -41.908    &       42.110     \\\\\n\\textbf{x62}            &       0.1170  &       23.610     &     0.005  &         0.996        &      -46.157    &       46.391     \\\\\n\\textbf{x63}            &       0.0268  &       17.127     &     0.002  &         0.999        &      -33.542    &       33.596     \\\\\n\\textbf{x64}            &      -0.0440  &       21.322     &    -0.002  &         0.998        &      -41.834    &       41.747     \\\\\n\\textbf{x65}            &      -0.0685  &       29.043     &    -0.002  &         0.998        &      -56.992    &       56.855     \\\\\n\\textbf{x66}            &      -0.0337  &       34.358     &    -0.001  &         0.999        &      -67.374    &       67.306     \\\\\n\\textbf{x67}            &       0.0232  &       37.139     &     0.001  &         1.000        &      -72.768    &       72.814     \\\\\n\\textbf{x68}            &       0.0996  &       32.693     &     0.003  &         0.998        &      -63.978    &       64.177     \\\\\n\\textbf{x69}            &       0.2813  &       30.560     &     0.009  &         0.993        &      -59.614    &       60.177     \\\\\n\\textbf{x70}            &       0.4493  &       26.250     &     0.017  &         0.986        &      -50.999    &       51.898     \\\\\n\\textbf{x71}            &       0.4559  &       21.612     &     0.021  &         0.983        &      -41.902    &       42.814     \\\\\n\\textbf{x72}            &       0.3913  &       19.304     &     0.020  &         0.984        &      -37.444    &       38.227     \\\\\n\\textbf{x73}            &       0.2084  &       30.974     &     0.007  &         0.995        &      -60.499    &       60.916     \\\\\n\\textbf{x74}            &       0.0749  &       97.542     &     0.001  &         0.999        &     -191.104    &      191.254     \\\\\n\\textbf{x75}            &       0.0176  &      411.721     &  4.28e-05  &         1.000        &     -806.942    &      806.977     \\\\\n\\textbf{x76}            &       0.0076  &      498.292     &  1.53e-05  &         1.000        &     -976.626    &      976.641     \\\\\n\\textbf{x77}            &       0.0112  &      111.204     &     0.000  &         1.000        &     -217.944    &      217.967     \\\\\n\\textbf{x78}            &       0.0043  &       29.135     &     0.000  &         1.000        &      -57.100    &       57.108     \\\\\n\\textbf{x79}            &      -0.0167  &       19.357     &    -0.001  &         0.999        &      -37.956    &       37.922     \\\\\n\\textbf{x80}            &      -0.0044  &       10.786     &    -0.000  &         1.000        &      -21.145    &       21.136     \\\\\n\\textbf{x81}            &      -0.0634  &       10.977     &    -0.006  &         0.995        &      -21.579    &       21.452     \\\\\n\\textbf{x82}            &      -0.1150  &       15.388     &    -0.007  &         0.994        &      -30.276    &       30.046     \\\\\n\\textbf{x83}            &      -0.0921  &       24.011     &    -0.004  &         0.997        &      -47.154    &       46.969     \\\\\n\\textbf{x84}            &      -0.0885  &       36.825     &    -0.002  &         0.998        &      -72.265    &       72.088     \\\\\n\\textbf{x85}            &      -0.0975  &       46.885     &    -0.002  &         0.998        &      -91.990    &       91.795     \\\\\n\\textbf{x86}            &      -0.0784  &       62.411     &    -0.001  &         0.999        &     -122.401    &      122.245     \\\\\n\\textbf{x87}            &      -0.0587  &       95.542     &    -0.001  &         1.000        &     -187.318    &      187.200     \\\\\n\\textbf{x88}            &      -0.0584  &      122.809     &    -0.000  &         1.000        &     -240.759    &      240.642     \\\\\n\\textbf{x89}            &      -0.0641  &      134.003     &    -0.000  &         1.000        &     -262.706    &      262.577     \\\\\n\\textbf{x90}            &      -0.0646  &      144.241     &    -0.000  &         1.000        &     -282.773    &      282.643     \\\\\n\\textbf{x91}            &      -0.0594  &      149.535     &    -0.000  &         1.000        &     -293.142    &      293.023     \\\\\n\\textbf{x92}            &      -0.0501  &      138.432     &    -0.000  &         1.000        &     -271.372    &      271.272     \\\\\n\\textbf{x93}            &      -0.0379  &      127.707     &    -0.000  &         1.000        &     -250.340    &      250.264     \\\\\n\\textbf{x94}            &      -0.0240  &      116.506     &    -0.000  &         1.000        &     -228.371    &      228.323     \\\\\n\\textbf{x95}            &      -0.0111  &       97.256     &    -0.000  &         1.000        &     -190.628    &      190.606     \\\\\n\\textbf{x96}            &       0.0034  &       88.466     &  3.79e-05  &         1.000        &     -173.386    &      173.393     \\\\\n\\textbf{x97}            &       0.0103  &       73.376     &     0.000  &         1.000        &     -143.803    &      143.824     \\\\\n\\textbf{x98}            &       0.0071  &       63.878     &     0.000  &         1.000        &     -125.191    &      125.206     \\\\\n\\textbf{x99}            &       0.0021  &       66.140     &  3.13e-05  &         1.000        &     -129.629    &      129.633     \\\\\n\\textbf{x100}           &      -0.0043  &       64.298     & -6.76e-05  &         1.000        &     -126.026    &      126.017     \\\\\n\\textbf{x101}           &      -0.0190  &       58.492     &    -0.000  &         1.000        &     -114.662    &      114.624     \\\\\n\\textbf{x102}           &      -0.0385  &       55.105     &    -0.001  &         0.999        &     -108.042    &      107.965     \\\\\n\\textbf{x103}           &      -0.0654  &       52.510     &    -0.001  &         0.999        &     -102.984    &      102.853     \\\\\n\\textbf{x104}           &      -0.1052  &       46.528     &    -0.002  &         0.998        &      -91.298    &       91.088     \\\\\n\\textbf{x105}           &      -0.1582  &       43.208     &    -0.004  &         0.997        &      -84.844    &       84.528     \\\\\n\\textbf{x106}           &      -0.2092  &       41.919     &    -0.005  &         0.996        &      -82.369    &       81.951     \\\\\n\\textbf{x107}           &      -0.2602  &       41.462     &    -0.006  &         0.995        &      -81.524    &       81.003     \\\\\n\\textbf{x108}           &      -0.2987  &       45.797     &    -0.007  &         0.995        &      -90.060    &       89.463     \\\\\n\\textbf{x109}           &      -0.3233  &       45.862     &    -0.007  &         0.994        &      -90.212    &       89.565     \\\\\n\\textbf{x110}           &      -0.3443  &       46.603     &    -0.007  &         0.994        &      -91.684    &       90.996     \\\\\n\\textbf{x111}           &      -0.3646  &       49.836     &    -0.007  &         0.994        &      -98.041    &       97.312     \\\\\n\\textbf{x112}           &      -0.3864  &       49.378     &    -0.008  &         0.994        &      -97.166    &       96.393     \\\\\n\\textbf{x113}           &      -0.4100  &       48.493     &    -0.008  &         0.993        &      -95.454    &       94.634     \\\\\n\\textbf{x114}           &      -0.4322  &       48.799     &    -0.009  &         0.993        &      -96.076    &       95.211     \\\\\n\\textbf{x115}           &      -0.4513  &       46.294     &    -0.010  &         0.992        &      -91.186    &       90.283     \\\\\n\\textbf{x116}           &      -0.4573  &       52.946     &    -0.009  &         0.993        &     -104.229    &      103.314     \\\\\n\\textbf{x117}           &      -0.4424  &       58.703     &    -0.008  &         0.994        &     -115.499    &      114.614     \\\\\n\\textbf{x118}           &      -0.4343  &       53.309     &    -0.008  &         0.993        &     -104.917    &      104.048     \\\\\n\\textbf{x119}           &      -0.4363  &       48.009     &    -0.009  &         0.993        &      -94.532    &       93.659     \\\\\n\\textbf{x120}           &      -0.4374  &       26.032     &    -0.017  &         0.987        &      -51.460    &       50.585     \\\\\n\\textbf{x121}           &       0.2660  &        1.338     &     0.199  &         0.842        &       -2.357    &        2.889     \\\\\n\\textbf{x122}           &      -0.8026  &        0.490     &    -1.636  &         0.102        &       -1.764    &        0.159     \\\\\n\\textbf{x123}           &       0.1719  &        3.542     &     0.049  &         0.961        &       -6.771    &        7.115     \\\\\n\\textbf{x124}           &       0.3593  &        3.024     &     0.119  &         0.905        &       -5.568    &        6.287     \\\\\n\\bottomrule\n\\end{tabular}\n%\\caption{ZeroInflatedPoisson Regression Results}\n\\end{center}"
          },
          "metadata": {},
          "execution_count": 20
        }
      ]
    },
    {
      "cell_type": "code",
      "source": [
        "# Define the independent variable (constant) and dependent variable (rain rate)\n",
        "X_train_rain = sm.add_constant(input_train_data)\n",
        "y_train_rain = target_train_sub[123]\n",
        "\n",
        "# Train the Zero-Inflated Poisson model\n",
        "zip_model_rain = sm.ZeroInflatedPoisson(y_train_rain, X_train_rain).fit()\n",
        "\n",
        "# Display the model summary\n",
        "zip_model_rain.summary()"
      ],
      "metadata": {
        "id": "VgtOMszaXG2S",
        "colab": {
          "base_uri": "https://localhost:8080/",
          "height": 1000
        },
        "outputId": "35811410-142e-4069-9475-db2865a24656"
      },
      "execution_count": 21,
      "outputs": [
        {
          "output_type": "stream",
          "name": "stderr",
          "text": [
            "/usr/local/lib/python3.10/dist-packages/scipy/optimize/_optimize.py:1360: OptimizeWarning: Maximum number of iterations has been exceeded.\n",
            "  res = _minimize_bfgs(f, x0, args, fprime, callback=callback, **opts)\n"
          ]
        },
        {
          "output_type": "stream",
          "name": "stdout",
          "text": [
            "         Current function value: 0.111291\n",
            "         Iterations: 35\n",
            "         Function evaluations: 36\n",
            "         Gradient evaluations: 36\n"
          ]
        },
        {
          "output_type": "stream",
          "name": "stderr",
          "text": [
            "/usr/local/lib/python3.10/dist-packages/statsmodels/base/model.py:607: ConvergenceWarning: Maximum Likelihood optimization failed to converge. Check mle_retvals\n",
            "  warnings.warn(\"Maximum Likelihood optimization failed to \"\n"
          ]
        },
        {
          "output_type": "execute_result",
          "data": {
            "text/plain": [
              "<class 'statsmodels.iolib.summary.Summary'>\n",
              "\"\"\"\n",
              "                     ZeroInflatedPoisson Regression Results                    \n",
              "===============================================================================\n",
              "Dep. Variable:                     123   No. Observations:                 3840\n",
              "Model:             ZeroInflatedPoisson   Df Residuals:                     3715\n",
              "Method:                            MLE   Df Model:                          124\n",
              "Date:                 Wed, 01 Nov 2023   Pseudo R-squ.:                  0.2580\n",
              "Time:                         20:29:48   Log-Likelihood:                -427.36\n",
              "converged:                       False   LL-Null:                       -575.92\n",
              "Covariance Type:             nonrobust   LLR p-value:                 3.071e-16\n",
              "=================================================================================\n",
              "                    coef    std err          z      P>|z|      [0.025      0.975]\n",
              "---------------------------------------------------------------------------------\n",
              "inflate_const   -19.3203    294.215     -0.066      0.948    -595.972     557.331\n",
              "const            -4.2002      3.932     -1.068      0.285     -11.907       3.507\n",
              "x1                0.0652     37.058      0.002      0.999     -72.566      72.697\n",
              "x2                0.3562      7.307      0.049      0.961     -13.966      14.678\n",
              "x3               -0.0538      7.265     -0.007      0.994     -14.293      14.186\n",
              "x4               -0.2585     10.902     -0.024      0.981     -21.625      21.108\n",
              "x5               -0.4450     16.244     -0.027      0.978     -32.283      31.393\n",
              "x6               -0.7752     14.312     -0.054      0.957     -28.827      27.276\n",
              "x7               -0.8452     17.795     -0.047      0.962     -35.723      34.032\n",
              "x8               -0.8651     24.559     -0.035      0.972     -49.000      47.270\n",
              "x9               -0.9208     32.783     -0.028      0.978     -65.174      63.332\n",
              "x10              -1.1956     34.194     -0.035      0.972     -68.215      65.824\n",
              "x11              -1.2333     29.132     -0.042      0.966     -58.331      55.864\n",
              "x12              -0.9349     24.242     -0.039      0.969     -48.449      46.579\n",
              "x13              -0.6574     27.270     -0.024      0.981     -54.106      52.791\n",
              "x14              -0.4548     26.778     -0.017      0.986     -52.938      52.029\n",
              "x15              -0.0513     18.267     -0.003      0.998     -35.854      35.752\n",
              "x16               0.4936      9.176      0.054      0.957     -17.491      18.478\n",
              "x17               1.2537      6.684      0.188      0.851     -11.847      14.354\n",
              "x18               1.9792      5.459      0.363      0.717      -8.720      12.678\n",
              "x19               1.6803      5.179      0.324      0.746      -8.471      11.832\n",
              "x20               1.4460      6.677      0.217      0.829     -11.640      14.532\n",
              "x21               1.3813     10.900      0.127      0.899     -19.982      22.745\n",
              "x22               1.1022     17.282      0.064      0.949     -32.770      34.974\n",
              "x23               0.7730     27.494      0.028      0.978     -53.113      54.659\n",
              "x24               0.4272     40.588      0.011      0.992     -79.123      79.978\n",
              "x25               0.0790     54.403      0.001      0.999    -106.548     106.706\n",
              "x26              -0.1851     69.651     -0.003      0.998    -136.699     136.329\n",
              "x27              -0.3636     90.541     -0.004      0.997    -177.820     177.093\n",
              "x28              -0.4705    103.764     -0.005      0.996    -203.844     202.903\n",
              "x29              -0.5187    119.796     -0.004      0.997    -235.315     234.278\n",
              "x30              -0.4941    129.464     -0.004      0.997    -254.239     253.250\n",
              "x31              -0.4173    135.864     -0.003      0.998    -266.706     265.872\n",
              "x32              -0.3516    116.161     -0.003      0.998    -228.023     227.320\n",
              "x33              -0.2752    110.800     -0.002      0.998    -217.440     216.889\n",
              "x34              -0.2091    118.545     -0.002      0.999    -232.553     232.135\n",
              "x35              -0.1521    117.810     -0.001      0.999    -231.055     230.751\n",
              "x36              -0.1028    115.036     -0.001      0.999    -225.569     225.363\n",
              "x37              -0.0589    115.676     -0.001      1.000    -226.779     226.662\n",
              "x38              -0.0314    112.220     -0.000      1.000    -219.980     219.917\n",
              "x39              -0.0129    112.281     -0.000      1.000    -220.079     220.053\n",
              "x40              -0.0005    107.335  -4.22e-06      1.000    -210.373     210.372\n",
              "x41               0.0076     94.221   8.02e-05      1.000    -184.663     184.678\n",
              "x42               0.0120    100.969      0.000      1.000    -197.883     197.907\n",
              "x43               0.0194    106.335      0.000      1.000    -208.393     208.432\n",
              "x44               0.0368     95.324      0.000      1.000    -186.795     186.869\n",
              "x45               0.0652     91.102      0.001      0.999    -178.491     178.622\n",
              "x46               0.0944    107.734      0.001      0.999    -211.060     211.249\n",
              "x47               0.1080    128.795      0.001      0.999    -252.326     252.542\n",
              "x48               0.1144    147.789      0.001      0.999    -289.546     289.775\n",
              "x49               0.1106    160.763      0.001      0.999    -314.979     315.200\n",
              "x50               0.1083    169.935      0.001      0.999    -332.957     333.174\n",
              "x51               0.1108    174.100      0.001      0.999    -341.120     341.341\n",
              "x52               0.1029    171.922      0.001      1.000    -336.858     337.063\n",
              "x53               0.0850    184.068      0.000      1.000    -360.682     360.852\n",
              "x54               0.0693    168.212      0.000      1.000    -329.621     329.759\n",
              "x55               0.0477    136.590      0.000      1.000    -267.663     267.758\n",
              "x56               0.0263    127.769      0.000      1.000    -250.396     250.448\n",
              "x57               0.0015    125.219   1.18e-05      1.000    -245.424     245.427\n",
              "x58              -0.0276    118.987     -0.000      1.000    -233.237     233.182\n",
              "x59              -0.0358    103.818     -0.000      1.000    -203.515     203.443\n",
              "x60               0.0021     46.358   4.53e-05      1.000     -90.858      90.862\n",
              "x61              -0.0540     14.875     -0.004      0.997     -29.209      29.101\n",
              "x62              -0.0359     17.726     -0.002      0.998     -34.778      34.707\n",
              "x63              -0.4423     15.302     -0.029      0.977     -30.435      29.550\n",
              "x64              -0.6871     13.401     -0.051      0.959     -26.952      25.578\n",
              "x65              -0.8719     13.623     -0.064      0.949     -27.573      25.830\n",
              "x66              -0.8627     12.313     -0.070      0.944     -24.996      23.270\n",
              "x67              -0.5903     10.200     -0.058      0.954     -20.582      19.401\n",
              "x68              -0.3825     10.244     -0.037      0.970     -20.460      19.695\n",
              "x69               0.2453     12.321      0.020      0.984     -23.903      24.394\n",
              "x70               0.7367     14.064      0.052      0.958     -26.829      28.302\n",
              "x71               0.8082     17.782      0.045      0.964     -34.044      35.660\n",
              "x72               0.6602     19.986      0.033      0.974     -38.512      39.833\n",
              "x73               0.3755     30.601      0.012      0.990     -59.602      60.353\n",
              "x74               0.1470     57.098      0.003      0.998    -111.764     112.058\n",
              "x75               0.0413    165.939      0.000      1.000    -325.193     325.276\n",
              "x76               0.0462     66.314      0.001      0.999    -129.927     130.019\n",
              "x77              -0.0097     10.331     -0.001      0.999     -20.259      20.239\n",
              "x78               0.1218      9.793      0.012      0.990     -19.072      19.315\n",
              "x79              -0.0341     13.019     -0.003      0.998     -25.551      25.483\n",
              "x80              -0.0959      9.327     -0.010      0.992     -18.377      18.186\n",
              "x81              -0.2823      9.215     -0.031      0.976     -18.343      17.779\n",
              "x82              -0.4170     10.140     -0.041      0.967     -20.290      19.456\n",
              "x83              -0.2695     12.610     -0.021      0.983     -24.985      24.446\n",
              "x84              -0.0721     17.607     -0.004      0.997     -34.581      34.437\n",
              "x85               0.0522     20.764      0.003      0.998     -40.644      40.748\n",
              "x86               0.1417     22.901      0.006      0.995     -44.744      45.027\n",
              "x87               0.1506     23.844      0.006      0.995     -46.583      46.884\n",
              "x88               0.1510     28.872      0.005      0.996     -56.437      56.739\n",
              "x89               0.1883     31.557      0.006      0.995     -61.661      62.038\n",
              "x90               0.2115     32.513      0.007      0.995     -63.513      63.936\n",
              "x91               0.2763     32.604      0.008      0.993     -63.627      64.180\n",
              "x92               0.3748     31.224      0.012      0.990     -60.822      61.572\n",
              "x93               0.4800     30.941      0.016      0.988     -60.164      61.124\n",
              "x94               0.5804     28.762      0.020      0.984     -55.792      56.953\n",
              "x95               0.6838     25.303      0.027      0.978     -48.909      50.277\n",
              "x96               0.8030     23.594      0.034      0.973     -45.440      47.046\n",
              "x97               0.8851     20.209      0.044      0.965     -38.724      40.494\n",
              "x98               0.8833     20.746      0.043      0.966     -39.778      41.544\n",
              "x99               0.9117     22.232      0.041      0.967     -42.662      44.485\n",
              "x100              0.8989     21.956      0.041      0.967     -42.133      43.931\n",
              "x101              0.8533     22.597      0.038      0.970     -43.436      45.143\n",
              "x102              0.8268     23.839      0.035      0.972     -45.896      47.550\n",
              "x103              0.7865     24.610      0.032      0.975     -47.448      49.021\n",
              "x104              0.7845     24.558      0.032      0.975     -47.348      48.917\n",
              "x105              0.7420     23.690      0.031      0.975     -45.689      47.173\n",
              "x106              0.6353     25.495      0.025      0.980     -49.333      50.604\n",
              "x107              0.5886     28.589      0.021      0.984     -55.444      56.622\n",
              "x108              0.5487     33.425      0.016      0.987     -64.963      66.061\n",
              "x109              0.5127     33.948      0.015      0.988     -66.023      67.049\n",
              "x110              0.4515     35.152      0.013      0.990     -68.445      69.349\n",
              "x111              0.3163     35.831      0.009      0.993     -69.911      70.543\n",
              "x112              0.1851     35.832      0.005      0.996     -70.045      70.415\n",
              "x113              0.1019     36.949      0.003      0.998     -72.317      72.520\n",
              "x114             -0.0289     31.154     -0.001      0.999     -61.090      61.032\n",
              "x115             -0.1476     26.187     -0.006      0.996     -51.474      51.178\n",
              "x116             -0.2327     24.441     -0.010      0.992     -48.137      47.671\n",
              "x117             -0.1878     22.693     -0.008      0.993     -44.664      44.289\n",
              "x118             -0.0403     25.407     -0.002      0.999     -49.836      49.756\n",
              "x119              0.0604     26.759      0.002      0.998     -52.386      52.507\n",
              "x120              0.0420     14.717      0.003      0.998     -28.803      28.887\n",
              "x121              0.4857      2.072      0.234      0.815      -3.575       4.546\n",
              "x122             -0.0774      0.338     -0.229      0.819      -0.740       0.585\n",
              "x123              0.5088      2.588      0.197      0.844      -4.563       5.580\n",
              "x124              0.1838      2.680      0.069      0.945      -5.069       5.436\n",
              "=================================================================================\n",
              "\"\"\""
            ],
            "text/html": [
              "<table class=\"simpletable\">\n",
              "<caption>ZeroInflatedPoisson Regression Results</caption>\n",
              "<tr>\n",
              "  <th>Dep. Variable:</th>           <td>123</td>         <th>  No. Observations:  </th>  <td>  3840</td>  \n",
              "</tr>\n",
              "<tr>\n",
              "  <th>Model:</th>           <td>ZeroInflatedPoisson</td> <th>  Df Residuals:      </th>  <td>  3715</td>  \n",
              "</tr>\n",
              "<tr>\n",
              "  <th>Method:</th>                  <td>MLE</td>         <th>  Df Model:          </th>  <td>   124</td>  \n",
              "</tr>\n",
              "<tr>\n",
              "  <th>Date:</th>             <td>Wed, 01 Nov 2023</td>   <th>  Pseudo R-squ.:     </th>  <td>0.2580</td>  \n",
              "</tr>\n",
              "<tr>\n",
              "  <th>Time:</th>                 <td>20:29:48</td>       <th>  Log-Likelihood:    </th> <td> -427.36</td> \n",
              "</tr>\n",
              "<tr>\n",
              "  <th>converged:</th>              <td>False</td>        <th>  LL-Null:           </th> <td> -575.92</td> \n",
              "</tr>\n",
              "<tr>\n",
              "  <th>Covariance Type:</th>      <td>nonrobust</td>      <th>  LLR p-value:       </th> <td>3.071e-16</td>\n",
              "</tr>\n",
              "</table>\n",
              "<table class=\"simpletable\">\n",
              "<tr>\n",
              "        <td></td>           <th>coef</th>     <th>std err</th>      <th>z</th>      <th>P>|z|</th>  <th>[0.025</th>    <th>0.975]</th>  \n",
              "</tr>\n",
              "<tr>\n",
              "  <th>inflate_const</th> <td>  -19.3203</td> <td>  294.215</td> <td>   -0.066</td> <td> 0.948</td> <td> -595.972</td> <td>  557.331</td>\n",
              "</tr>\n",
              "<tr>\n",
              "  <th>const</th>         <td>   -4.2002</td> <td>    3.932</td> <td>   -1.068</td> <td> 0.285</td> <td>  -11.907</td> <td>    3.507</td>\n",
              "</tr>\n",
              "<tr>\n",
              "  <th>x1</th>            <td>    0.0652</td> <td>   37.058</td> <td>    0.002</td> <td> 0.999</td> <td>  -72.566</td> <td>   72.697</td>\n",
              "</tr>\n",
              "<tr>\n",
              "  <th>x2</th>            <td>    0.3562</td> <td>    7.307</td> <td>    0.049</td> <td> 0.961</td> <td>  -13.966</td> <td>   14.678</td>\n",
              "</tr>\n",
              "<tr>\n",
              "  <th>x3</th>            <td>   -0.0538</td> <td>    7.265</td> <td>   -0.007</td> <td> 0.994</td> <td>  -14.293</td> <td>   14.186</td>\n",
              "</tr>\n",
              "<tr>\n",
              "  <th>x4</th>            <td>   -0.2585</td> <td>   10.902</td> <td>   -0.024</td> <td> 0.981</td> <td>  -21.625</td> <td>   21.108</td>\n",
              "</tr>\n",
              "<tr>\n",
              "  <th>x5</th>            <td>   -0.4450</td> <td>   16.244</td> <td>   -0.027</td> <td> 0.978</td> <td>  -32.283</td> <td>   31.393</td>\n",
              "</tr>\n",
              "<tr>\n",
              "  <th>x6</th>            <td>   -0.7752</td> <td>   14.312</td> <td>   -0.054</td> <td> 0.957</td> <td>  -28.827</td> <td>   27.276</td>\n",
              "</tr>\n",
              "<tr>\n",
              "  <th>x7</th>            <td>   -0.8452</td> <td>   17.795</td> <td>   -0.047</td> <td> 0.962</td> <td>  -35.723</td> <td>   34.032</td>\n",
              "</tr>\n",
              "<tr>\n",
              "  <th>x8</th>            <td>   -0.8651</td> <td>   24.559</td> <td>   -0.035</td> <td> 0.972</td> <td>  -49.000</td> <td>   47.270</td>\n",
              "</tr>\n",
              "<tr>\n",
              "  <th>x9</th>            <td>   -0.9208</td> <td>   32.783</td> <td>   -0.028</td> <td> 0.978</td> <td>  -65.174</td> <td>   63.332</td>\n",
              "</tr>\n",
              "<tr>\n",
              "  <th>x10</th>           <td>   -1.1956</td> <td>   34.194</td> <td>   -0.035</td> <td> 0.972</td> <td>  -68.215</td> <td>   65.824</td>\n",
              "</tr>\n",
              "<tr>\n",
              "  <th>x11</th>           <td>   -1.2333</td> <td>   29.132</td> <td>   -0.042</td> <td> 0.966</td> <td>  -58.331</td> <td>   55.864</td>\n",
              "</tr>\n",
              "<tr>\n",
              "  <th>x12</th>           <td>   -0.9349</td> <td>   24.242</td> <td>   -0.039</td> <td> 0.969</td> <td>  -48.449</td> <td>   46.579</td>\n",
              "</tr>\n",
              "<tr>\n",
              "  <th>x13</th>           <td>   -0.6574</td> <td>   27.270</td> <td>   -0.024</td> <td> 0.981</td> <td>  -54.106</td> <td>   52.791</td>\n",
              "</tr>\n",
              "<tr>\n",
              "  <th>x14</th>           <td>   -0.4548</td> <td>   26.778</td> <td>   -0.017</td> <td> 0.986</td> <td>  -52.938</td> <td>   52.029</td>\n",
              "</tr>\n",
              "<tr>\n",
              "  <th>x15</th>           <td>   -0.0513</td> <td>   18.267</td> <td>   -0.003</td> <td> 0.998</td> <td>  -35.854</td> <td>   35.752</td>\n",
              "</tr>\n",
              "<tr>\n",
              "  <th>x16</th>           <td>    0.4936</td> <td>    9.176</td> <td>    0.054</td> <td> 0.957</td> <td>  -17.491</td> <td>   18.478</td>\n",
              "</tr>\n",
              "<tr>\n",
              "  <th>x17</th>           <td>    1.2537</td> <td>    6.684</td> <td>    0.188</td> <td> 0.851</td> <td>  -11.847</td> <td>   14.354</td>\n",
              "</tr>\n",
              "<tr>\n",
              "  <th>x18</th>           <td>    1.9792</td> <td>    5.459</td> <td>    0.363</td> <td> 0.717</td> <td>   -8.720</td> <td>   12.678</td>\n",
              "</tr>\n",
              "<tr>\n",
              "  <th>x19</th>           <td>    1.6803</td> <td>    5.179</td> <td>    0.324</td> <td> 0.746</td> <td>   -8.471</td> <td>   11.832</td>\n",
              "</tr>\n",
              "<tr>\n",
              "  <th>x20</th>           <td>    1.4460</td> <td>    6.677</td> <td>    0.217</td> <td> 0.829</td> <td>  -11.640</td> <td>   14.532</td>\n",
              "</tr>\n",
              "<tr>\n",
              "  <th>x21</th>           <td>    1.3813</td> <td>   10.900</td> <td>    0.127</td> <td> 0.899</td> <td>  -19.982</td> <td>   22.745</td>\n",
              "</tr>\n",
              "<tr>\n",
              "  <th>x22</th>           <td>    1.1022</td> <td>   17.282</td> <td>    0.064</td> <td> 0.949</td> <td>  -32.770</td> <td>   34.974</td>\n",
              "</tr>\n",
              "<tr>\n",
              "  <th>x23</th>           <td>    0.7730</td> <td>   27.494</td> <td>    0.028</td> <td> 0.978</td> <td>  -53.113</td> <td>   54.659</td>\n",
              "</tr>\n",
              "<tr>\n",
              "  <th>x24</th>           <td>    0.4272</td> <td>   40.588</td> <td>    0.011</td> <td> 0.992</td> <td>  -79.123</td> <td>   79.978</td>\n",
              "</tr>\n",
              "<tr>\n",
              "  <th>x25</th>           <td>    0.0790</td> <td>   54.403</td> <td>    0.001</td> <td> 0.999</td> <td> -106.548</td> <td>  106.706</td>\n",
              "</tr>\n",
              "<tr>\n",
              "  <th>x26</th>           <td>   -0.1851</td> <td>   69.651</td> <td>   -0.003</td> <td> 0.998</td> <td> -136.699</td> <td>  136.329</td>\n",
              "</tr>\n",
              "<tr>\n",
              "  <th>x27</th>           <td>   -0.3636</td> <td>   90.541</td> <td>   -0.004</td> <td> 0.997</td> <td> -177.820</td> <td>  177.093</td>\n",
              "</tr>\n",
              "<tr>\n",
              "  <th>x28</th>           <td>   -0.4705</td> <td>  103.764</td> <td>   -0.005</td> <td> 0.996</td> <td> -203.844</td> <td>  202.903</td>\n",
              "</tr>\n",
              "<tr>\n",
              "  <th>x29</th>           <td>   -0.5187</td> <td>  119.796</td> <td>   -0.004</td> <td> 0.997</td> <td> -235.315</td> <td>  234.278</td>\n",
              "</tr>\n",
              "<tr>\n",
              "  <th>x30</th>           <td>   -0.4941</td> <td>  129.464</td> <td>   -0.004</td> <td> 0.997</td> <td> -254.239</td> <td>  253.250</td>\n",
              "</tr>\n",
              "<tr>\n",
              "  <th>x31</th>           <td>   -0.4173</td> <td>  135.864</td> <td>   -0.003</td> <td> 0.998</td> <td> -266.706</td> <td>  265.872</td>\n",
              "</tr>\n",
              "<tr>\n",
              "  <th>x32</th>           <td>   -0.3516</td> <td>  116.161</td> <td>   -0.003</td> <td> 0.998</td> <td> -228.023</td> <td>  227.320</td>\n",
              "</tr>\n",
              "<tr>\n",
              "  <th>x33</th>           <td>   -0.2752</td> <td>  110.800</td> <td>   -0.002</td> <td> 0.998</td> <td> -217.440</td> <td>  216.889</td>\n",
              "</tr>\n",
              "<tr>\n",
              "  <th>x34</th>           <td>   -0.2091</td> <td>  118.545</td> <td>   -0.002</td> <td> 0.999</td> <td> -232.553</td> <td>  232.135</td>\n",
              "</tr>\n",
              "<tr>\n",
              "  <th>x35</th>           <td>   -0.1521</td> <td>  117.810</td> <td>   -0.001</td> <td> 0.999</td> <td> -231.055</td> <td>  230.751</td>\n",
              "</tr>\n",
              "<tr>\n",
              "  <th>x36</th>           <td>   -0.1028</td> <td>  115.036</td> <td>   -0.001</td> <td> 0.999</td> <td> -225.569</td> <td>  225.363</td>\n",
              "</tr>\n",
              "<tr>\n",
              "  <th>x37</th>           <td>   -0.0589</td> <td>  115.676</td> <td>   -0.001</td> <td> 1.000</td> <td> -226.779</td> <td>  226.662</td>\n",
              "</tr>\n",
              "<tr>\n",
              "  <th>x38</th>           <td>   -0.0314</td> <td>  112.220</td> <td>   -0.000</td> <td> 1.000</td> <td> -219.980</td> <td>  219.917</td>\n",
              "</tr>\n",
              "<tr>\n",
              "  <th>x39</th>           <td>   -0.0129</td> <td>  112.281</td> <td>   -0.000</td> <td> 1.000</td> <td> -220.079</td> <td>  220.053</td>\n",
              "</tr>\n",
              "<tr>\n",
              "  <th>x40</th>           <td>   -0.0005</td> <td>  107.335</td> <td>-4.22e-06</td> <td> 1.000</td> <td> -210.373</td> <td>  210.372</td>\n",
              "</tr>\n",
              "<tr>\n",
              "  <th>x41</th>           <td>    0.0076</td> <td>   94.221</td> <td> 8.02e-05</td> <td> 1.000</td> <td> -184.663</td> <td>  184.678</td>\n",
              "</tr>\n",
              "<tr>\n",
              "  <th>x42</th>           <td>    0.0120</td> <td>  100.969</td> <td>    0.000</td> <td> 1.000</td> <td> -197.883</td> <td>  197.907</td>\n",
              "</tr>\n",
              "<tr>\n",
              "  <th>x43</th>           <td>    0.0194</td> <td>  106.335</td> <td>    0.000</td> <td> 1.000</td> <td> -208.393</td> <td>  208.432</td>\n",
              "</tr>\n",
              "<tr>\n",
              "  <th>x44</th>           <td>    0.0368</td> <td>   95.324</td> <td>    0.000</td> <td> 1.000</td> <td> -186.795</td> <td>  186.869</td>\n",
              "</tr>\n",
              "<tr>\n",
              "  <th>x45</th>           <td>    0.0652</td> <td>   91.102</td> <td>    0.001</td> <td> 0.999</td> <td> -178.491</td> <td>  178.622</td>\n",
              "</tr>\n",
              "<tr>\n",
              "  <th>x46</th>           <td>    0.0944</td> <td>  107.734</td> <td>    0.001</td> <td> 0.999</td> <td> -211.060</td> <td>  211.249</td>\n",
              "</tr>\n",
              "<tr>\n",
              "  <th>x47</th>           <td>    0.1080</td> <td>  128.795</td> <td>    0.001</td> <td> 0.999</td> <td> -252.326</td> <td>  252.542</td>\n",
              "</tr>\n",
              "<tr>\n",
              "  <th>x48</th>           <td>    0.1144</td> <td>  147.789</td> <td>    0.001</td> <td> 0.999</td> <td> -289.546</td> <td>  289.775</td>\n",
              "</tr>\n",
              "<tr>\n",
              "  <th>x49</th>           <td>    0.1106</td> <td>  160.763</td> <td>    0.001</td> <td> 0.999</td> <td> -314.979</td> <td>  315.200</td>\n",
              "</tr>\n",
              "<tr>\n",
              "  <th>x50</th>           <td>    0.1083</td> <td>  169.935</td> <td>    0.001</td> <td> 0.999</td> <td> -332.957</td> <td>  333.174</td>\n",
              "</tr>\n",
              "<tr>\n",
              "  <th>x51</th>           <td>    0.1108</td> <td>  174.100</td> <td>    0.001</td> <td> 0.999</td> <td> -341.120</td> <td>  341.341</td>\n",
              "</tr>\n",
              "<tr>\n",
              "  <th>x52</th>           <td>    0.1029</td> <td>  171.922</td> <td>    0.001</td> <td> 1.000</td> <td> -336.858</td> <td>  337.063</td>\n",
              "</tr>\n",
              "<tr>\n",
              "  <th>x53</th>           <td>    0.0850</td> <td>  184.068</td> <td>    0.000</td> <td> 1.000</td> <td> -360.682</td> <td>  360.852</td>\n",
              "</tr>\n",
              "<tr>\n",
              "  <th>x54</th>           <td>    0.0693</td> <td>  168.212</td> <td>    0.000</td> <td> 1.000</td> <td> -329.621</td> <td>  329.759</td>\n",
              "</tr>\n",
              "<tr>\n",
              "  <th>x55</th>           <td>    0.0477</td> <td>  136.590</td> <td>    0.000</td> <td> 1.000</td> <td> -267.663</td> <td>  267.758</td>\n",
              "</tr>\n",
              "<tr>\n",
              "  <th>x56</th>           <td>    0.0263</td> <td>  127.769</td> <td>    0.000</td> <td> 1.000</td> <td> -250.396</td> <td>  250.448</td>\n",
              "</tr>\n",
              "<tr>\n",
              "  <th>x57</th>           <td>    0.0015</td> <td>  125.219</td> <td> 1.18e-05</td> <td> 1.000</td> <td> -245.424</td> <td>  245.427</td>\n",
              "</tr>\n",
              "<tr>\n",
              "  <th>x58</th>           <td>   -0.0276</td> <td>  118.987</td> <td>   -0.000</td> <td> 1.000</td> <td> -233.237</td> <td>  233.182</td>\n",
              "</tr>\n",
              "<tr>\n",
              "  <th>x59</th>           <td>   -0.0358</td> <td>  103.818</td> <td>   -0.000</td> <td> 1.000</td> <td> -203.515</td> <td>  203.443</td>\n",
              "</tr>\n",
              "<tr>\n",
              "  <th>x60</th>           <td>    0.0021</td> <td>   46.358</td> <td> 4.53e-05</td> <td> 1.000</td> <td>  -90.858</td> <td>   90.862</td>\n",
              "</tr>\n",
              "<tr>\n",
              "  <th>x61</th>           <td>   -0.0540</td> <td>   14.875</td> <td>   -0.004</td> <td> 0.997</td> <td>  -29.209</td> <td>   29.101</td>\n",
              "</tr>\n",
              "<tr>\n",
              "  <th>x62</th>           <td>   -0.0359</td> <td>   17.726</td> <td>   -0.002</td> <td> 0.998</td> <td>  -34.778</td> <td>   34.707</td>\n",
              "</tr>\n",
              "<tr>\n",
              "  <th>x63</th>           <td>   -0.4423</td> <td>   15.302</td> <td>   -0.029</td> <td> 0.977</td> <td>  -30.435</td> <td>   29.550</td>\n",
              "</tr>\n",
              "<tr>\n",
              "  <th>x64</th>           <td>   -0.6871</td> <td>   13.401</td> <td>   -0.051</td> <td> 0.959</td> <td>  -26.952</td> <td>   25.578</td>\n",
              "</tr>\n",
              "<tr>\n",
              "  <th>x65</th>           <td>   -0.8719</td> <td>   13.623</td> <td>   -0.064</td> <td> 0.949</td> <td>  -27.573</td> <td>   25.830</td>\n",
              "</tr>\n",
              "<tr>\n",
              "  <th>x66</th>           <td>   -0.8627</td> <td>   12.313</td> <td>   -0.070</td> <td> 0.944</td> <td>  -24.996</td> <td>   23.270</td>\n",
              "</tr>\n",
              "<tr>\n",
              "  <th>x67</th>           <td>   -0.5903</td> <td>   10.200</td> <td>   -0.058</td> <td> 0.954</td> <td>  -20.582</td> <td>   19.401</td>\n",
              "</tr>\n",
              "<tr>\n",
              "  <th>x68</th>           <td>   -0.3825</td> <td>   10.244</td> <td>   -0.037</td> <td> 0.970</td> <td>  -20.460</td> <td>   19.695</td>\n",
              "</tr>\n",
              "<tr>\n",
              "  <th>x69</th>           <td>    0.2453</td> <td>   12.321</td> <td>    0.020</td> <td> 0.984</td> <td>  -23.903</td> <td>   24.394</td>\n",
              "</tr>\n",
              "<tr>\n",
              "  <th>x70</th>           <td>    0.7367</td> <td>   14.064</td> <td>    0.052</td> <td> 0.958</td> <td>  -26.829</td> <td>   28.302</td>\n",
              "</tr>\n",
              "<tr>\n",
              "  <th>x71</th>           <td>    0.8082</td> <td>   17.782</td> <td>    0.045</td> <td> 0.964</td> <td>  -34.044</td> <td>   35.660</td>\n",
              "</tr>\n",
              "<tr>\n",
              "  <th>x72</th>           <td>    0.6602</td> <td>   19.986</td> <td>    0.033</td> <td> 0.974</td> <td>  -38.512</td> <td>   39.833</td>\n",
              "</tr>\n",
              "<tr>\n",
              "  <th>x73</th>           <td>    0.3755</td> <td>   30.601</td> <td>    0.012</td> <td> 0.990</td> <td>  -59.602</td> <td>   60.353</td>\n",
              "</tr>\n",
              "<tr>\n",
              "  <th>x74</th>           <td>    0.1470</td> <td>   57.098</td> <td>    0.003</td> <td> 0.998</td> <td> -111.764</td> <td>  112.058</td>\n",
              "</tr>\n",
              "<tr>\n",
              "  <th>x75</th>           <td>    0.0413</td> <td>  165.939</td> <td>    0.000</td> <td> 1.000</td> <td> -325.193</td> <td>  325.276</td>\n",
              "</tr>\n",
              "<tr>\n",
              "  <th>x76</th>           <td>    0.0462</td> <td>   66.314</td> <td>    0.001</td> <td> 0.999</td> <td> -129.927</td> <td>  130.019</td>\n",
              "</tr>\n",
              "<tr>\n",
              "  <th>x77</th>           <td>   -0.0097</td> <td>   10.331</td> <td>   -0.001</td> <td> 0.999</td> <td>  -20.259</td> <td>   20.239</td>\n",
              "</tr>\n",
              "<tr>\n",
              "  <th>x78</th>           <td>    0.1218</td> <td>    9.793</td> <td>    0.012</td> <td> 0.990</td> <td>  -19.072</td> <td>   19.315</td>\n",
              "</tr>\n",
              "<tr>\n",
              "  <th>x79</th>           <td>   -0.0341</td> <td>   13.019</td> <td>   -0.003</td> <td> 0.998</td> <td>  -25.551</td> <td>   25.483</td>\n",
              "</tr>\n",
              "<tr>\n",
              "  <th>x80</th>           <td>   -0.0959</td> <td>    9.327</td> <td>   -0.010</td> <td> 0.992</td> <td>  -18.377</td> <td>   18.186</td>\n",
              "</tr>\n",
              "<tr>\n",
              "  <th>x81</th>           <td>   -0.2823</td> <td>    9.215</td> <td>   -0.031</td> <td> 0.976</td> <td>  -18.343</td> <td>   17.779</td>\n",
              "</tr>\n",
              "<tr>\n",
              "  <th>x82</th>           <td>   -0.4170</td> <td>   10.140</td> <td>   -0.041</td> <td> 0.967</td> <td>  -20.290</td> <td>   19.456</td>\n",
              "</tr>\n",
              "<tr>\n",
              "  <th>x83</th>           <td>   -0.2695</td> <td>   12.610</td> <td>   -0.021</td> <td> 0.983</td> <td>  -24.985</td> <td>   24.446</td>\n",
              "</tr>\n",
              "<tr>\n",
              "  <th>x84</th>           <td>   -0.0721</td> <td>   17.607</td> <td>   -0.004</td> <td> 0.997</td> <td>  -34.581</td> <td>   34.437</td>\n",
              "</tr>\n",
              "<tr>\n",
              "  <th>x85</th>           <td>    0.0522</td> <td>   20.764</td> <td>    0.003</td> <td> 0.998</td> <td>  -40.644</td> <td>   40.748</td>\n",
              "</tr>\n",
              "<tr>\n",
              "  <th>x86</th>           <td>    0.1417</td> <td>   22.901</td> <td>    0.006</td> <td> 0.995</td> <td>  -44.744</td> <td>   45.027</td>\n",
              "</tr>\n",
              "<tr>\n",
              "  <th>x87</th>           <td>    0.1506</td> <td>   23.844</td> <td>    0.006</td> <td> 0.995</td> <td>  -46.583</td> <td>   46.884</td>\n",
              "</tr>\n",
              "<tr>\n",
              "  <th>x88</th>           <td>    0.1510</td> <td>   28.872</td> <td>    0.005</td> <td> 0.996</td> <td>  -56.437</td> <td>   56.739</td>\n",
              "</tr>\n",
              "<tr>\n",
              "  <th>x89</th>           <td>    0.1883</td> <td>   31.557</td> <td>    0.006</td> <td> 0.995</td> <td>  -61.661</td> <td>   62.038</td>\n",
              "</tr>\n",
              "<tr>\n",
              "  <th>x90</th>           <td>    0.2115</td> <td>   32.513</td> <td>    0.007</td> <td> 0.995</td> <td>  -63.513</td> <td>   63.936</td>\n",
              "</tr>\n",
              "<tr>\n",
              "  <th>x91</th>           <td>    0.2763</td> <td>   32.604</td> <td>    0.008</td> <td> 0.993</td> <td>  -63.627</td> <td>   64.180</td>\n",
              "</tr>\n",
              "<tr>\n",
              "  <th>x92</th>           <td>    0.3748</td> <td>   31.224</td> <td>    0.012</td> <td> 0.990</td> <td>  -60.822</td> <td>   61.572</td>\n",
              "</tr>\n",
              "<tr>\n",
              "  <th>x93</th>           <td>    0.4800</td> <td>   30.941</td> <td>    0.016</td> <td> 0.988</td> <td>  -60.164</td> <td>   61.124</td>\n",
              "</tr>\n",
              "<tr>\n",
              "  <th>x94</th>           <td>    0.5804</td> <td>   28.762</td> <td>    0.020</td> <td> 0.984</td> <td>  -55.792</td> <td>   56.953</td>\n",
              "</tr>\n",
              "<tr>\n",
              "  <th>x95</th>           <td>    0.6838</td> <td>   25.303</td> <td>    0.027</td> <td> 0.978</td> <td>  -48.909</td> <td>   50.277</td>\n",
              "</tr>\n",
              "<tr>\n",
              "  <th>x96</th>           <td>    0.8030</td> <td>   23.594</td> <td>    0.034</td> <td> 0.973</td> <td>  -45.440</td> <td>   47.046</td>\n",
              "</tr>\n",
              "<tr>\n",
              "  <th>x97</th>           <td>    0.8851</td> <td>   20.209</td> <td>    0.044</td> <td> 0.965</td> <td>  -38.724</td> <td>   40.494</td>\n",
              "</tr>\n",
              "<tr>\n",
              "  <th>x98</th>           <td>    0.8833</td> <td>   20.746</td> <td>    0.043</td> <td> 0.966</td> <td>  -39.778</td> <td>   41.544</td>\n",
              "</tr>\n",
              "<tr>\n",
              "  <th>x99</th>           <td>    0.9117</td> <td>   22.232</td> <td>    0.041</td> <td> 0.967</td> <td>  -42.662</td> <td>   44.485</td>\n",
              "</tr>\n",
              "<tr>\n",
              "  <th>x100</th>          <td>    0.8989</td> <td>   21.956</td> <td>    0.041</td> <td> 0.967</td> <td>  -42.133</td> <td>   43.931</td>\n",
              "</tr>\n",
              "<tr>\n",
              "  <th>x101</th>          <td>    0.8533</td> <td>   22.597</td> <td>    0.038</td> <td> 0.970</td> <td>  -43.436</td> <td>   45.143</td>\n",
              "</tr>\n",
              "<tr>\n",
              "  <th>x102</th>          <td>    0.8268</td> <td>   23.839</td> <td>    0.035</td> <td> 0.972</td> <td>  -45.896</td> <td>   47.550</td>\n",
              "</tr>\n",
              "<tr>\n",
              "  <th>x103</th>          <td>    0.7865</td> <td>   24.610</td> <td>    0.032</td> <td> 0.975</td> <td>  -47.448</td> <td>   49.021</td>\n",
              "</tr>\n",
              "<tr>\n",
              "  <th>x104</th>          <td>    0.7845</td> <td>   24.558</td> <td>    0.032</td> <td> 0.975</td> <td>  -47.348</td> <td>   48.917</td>\n",
              "</tr>\n",
              "<tr>\n",
              "  <th>x105</th>          <td>    0.7420</td> <td>   23.690</td> <td>    0.031</td> <td> 0.975</td> <td>  -45.689</td> <td>   47.173</td>\n",
              "</tr>\n",
              "<tr>\n",
              "  <th>x106</th>          <td>    0.6353</td> <td>   25.495</td> <td>    0.025</td> <td> 0.980</td> <td>  -49.333</td> <td>   50.604</td>\n",
              "</tr>\n",
              "<tr>\n",
              "  <th>x107</th>          <td>    0.5886</td> <td>   28.589</td> <td>    0.021</td> <td> 0.984</td> <td>  -55.444</td> <td>   56.622</td>\n",
              "</tr>\n",
              "<tr>\n",
              "  <th>x108</th>          <td>    0.5487</td> <td>   33.425</td> <td>    0.016</td> <td> 0.987</td> <td>  -64.963</td> <td>   66.061</td>\n",
              "</tr>\n",
              "<tr>\n",
              "  <th>x109</th>          <td>    0.5127</td> <td>   33.948</td> <td>    0.015</td> <td> 0.988</td> <td>  -66.023</td> <td>   67.049</td>\n",
              "</tr>\n",
              "<tr>\n",
              "  <th>x110</th>          <td>    0.4515</td> <td>   35.152</td> <td>    0.013</td> <td> 0.990</td> <td>  -68.445</td> <td>   69.349</td>\n",
              "</tr>\n",
              "<tr>\n",
              "  <th>x111</th>          <td>    0.3163</td> <td>   35.831</td> <td>    0.009</td> <td> 0.993</td> <td>  -69.911</td> <td>   70.543</td>\n",
              "</tr>\n",
              "<tr>\n",
              "  <th>x112</th>          <td>    0.1851</td> <td>   35.832</td> <td>    0.005</td> <td> 0.996</td> <td>  -70.045</td> <td>   70.415</td>\n",
              "</tr>\n",
              "<tr>\n",
              "  <th>x113</th>          <td>    0.1019</td> <td>   36.949</td> <td>    0.003</td> <td> 0.998</td> <td>  -72.317</td> <td>   72.520</td>\n",
              "</tr>\n",
              "<tr>\n",
              "  <th>x114</th>          <td>   -0.0289</td> <td>   31.154</td> <td>   -0.001</td> <td> 0.999</td> <td>  -61.090</td> <td>   61.032</td>\n",
              "</tr>\n",
              "<tr>\n",
              "  <th>x115</th>          <td>   -0.1476</td> <td>   26.187</td> <td>   -0.006</td> <td> 0.996</td> <td>  -51.474</td> <td>   51.178</td>\n",
              "</tr>\n",
              "<tr>\n",
              "  <th>x116</th>          <td>   -0.2327</td> <td>   24.441</td> <td>   -0.010</td> <td> 0.992</td> <td>  -48.137</td> <td>   47.671</td>\n",
              "</tr>\n",
              "<tr>\n",
              "  <th>x117</th>          <td>   -0.1878</td> <td>   22.693</td> <td>   -0.008</td> <td> 0.993</td> <td>  -44.664</td> <td>   44.289</td>\n",
              "</tr>\n",
              "<tr>\n",
              "  <th>x118</th>          <td>   -0.0403</td> <td>   25.407</td> <td>   -0.002</td> <td> 0.999</td> <td>  -49.836</td> <td>   49.756</td>\n",
              "</tr>\n",
              "<tr>\n",
              "  <th>x119</th>          <td>    0.0604</td> <td>   26.759</td> <td>    0.002</td> <td> 0.998</td> <td>  -52.386</td> <td>   52.507</td>\n",
              "</tr>\n",
              "<tr>\n",
              "  <th>x120</th>          <td>    0.0420</td> <td>   14.717</td> <td>    0.003</td> <td> 0.998</td> <td>  -28.803</td> <td>   28.887</td>\n",
              "</tr>\n",
              "<tr>\n",
              "  <th>x121</th>          <td>    0.4857</td> <td>    2.072</td> <td>    0.234</td> <td> 0.815</td> <td>   -3.575</td> <td>    4.546</td>\n",
              "</tr>\n",
              "<tr>\n",
              "  <th>x122</th>          <td>   -0.0774</td> <td>    0.338</td> <td>   -0.229</td> <td> 0.819</td> <td>   -0.740</td> <td>    0.585</td>\n",
              "</tr>\n",
              "<tr>\n",
              "  <th>x123</th>          <td>    0.5088</td> <td>    2.588</td> <td>    0.197</td> <td> 0.844</td> <td>   -4.563</td> <td>    5.580</td>\n",
              "</tr>\n",
              "<tr>\n",
              "  <th>x124</th>          <td>    0.1838</td> <td>    2.680</td> <td>    0.069</td> <td> 0.945</td> <td>   -5.069</td> <td>    5.436</td>\n",
              "</tr>\n",
              "</table>"
            ],
            "text/latex": "\\begin{center}\n\\begin{tabular}{lclc}\n\\toprule\n\\textbf{Dep. Variable:}   &         123         & \\textbf{  No. Observations:  } &     3840    \\\\\n\\textbf{Model:}           & ZeroInflatedPoisson & \\textbf{  Df Residuals:      } &     3715    \\\\\n\\textbf{Method:}          &         MLE         & \\textbf{  Df Model:          } &      124    \\\\\n\\textbf{Date:}            &   Wed, 01 Nov 2023  & \\textbf{  Pseudo R-squ.:     } &   0.2580    \\\\\n\\textbf{Time:}            &       20:29:48      & \\textbf{  Log-Likelihood:    } &   -427.36   \\\\\n\\textbf{converged:}       &        False        & \\textbf{  LL-Null:           } &   -575.92   \\\\\n\\textbf{Covariance Type:} &      nonrobust      & \\textbf{  LLR p-value:       } & 3.071e-16   \\\\\n\\bottomrule\n\\end{tabular}\n\\begin{tabular}{lcccccc}\n                        & \\textbf{coef} & \\textbf{std err} & \\textbf{z} & \\textbf{P$> |$z$|$} & \\textbf{[0.025} & \\textbf{0.975]}  \\\\\n\\midrule\n\\textbf{inflate\\_const} &     -19.3203  &      294.215     &    -0.066  &         0.948        &     -595.972    &      557.331     \\\\\n\\textbf{const}          &      -4.2002  &        3.932     &    -1.068  &         0.285        &      -11.907    &        3.507     \\\\\n\\textbf{x1}             &       0.0652  &       37.058     &     0.002  &         0.999        &      -72.566    &       72.697     \\\\\n\\textbf{x2}             &       0.3562  &        7.307     &     0.049  &         0.961        &      -13.966    &       14.678     \\\\\n\\textbf{x3}             &      -0.0538  &        7.265     &    -0.007  &         0.994        &      -14.293    &       14.186     \\\\\n\\textbf{x4}             &      -0.2585  &       10.902     &    -0.024  &         0.981        &      -21.625    &       21.108     \\\\\n\\textbf{x5}             &      -0.4450  &       16.244     &    -0.027  &         0.978        &      -32.283    &       31.393     \\\\\n\\textbf{x6}             &      -0.7752  &       14.312     &    -0.054  &         0.957        &      -28.827    &       27.276     \\\\\n\\textbf{x7}             &      -0.8452  &       17.795     &    -0.047  &         0.962        &      -35.723    &       34.032     \\\\\n\\textbf{x8}             &      -0.8651  &       24.559     &    -0.035  &         0.972        &      -49.000    &       47.270     \\\\\n\\textbf{x9}             &      -0.9208  &       32.783     &    -0.028  &         0.978        &      -65.174    &       63.332     \\\\\n\\textbf{x10}            &      -1.1956  &       34.194     &    -0.035  &         0.972        &      -68.215    &       65.824     \\\\\n\\textbf{x11}            &      -1.2333  &       29.132     &    -0.042  &         0.966        &      -58.331    &       55.864     \\\\\n\\textbf{x12}            &      -0.9349  &       24.242     &    -0.039  &         0.969        &      -48.449    &       46.579     \\\\\n\\textbf{x13}            &      -0.6574  &       27.270     &    -0.024  &         0.981        &      -54.106    &       52.791     \\\\\n\\textbf{x14}            &      -0.4548  &       26.778     &    -0.017  &         0.986        &      -52.938    &       52.029     \\\\\n\\textbf{x15}            &      -0.0513  &       18.267     &    -0.003  &         0.998        &      -35.854    &       35.752     \\\\\n\\textbf{x16}            &       0.4936  &        9.176     &     0.054  &         0.957        &      -17.491    &       18.478     \\\\\n\\textbf{x17}            &       1.2537  &        6.684     &     0.188  &         0.851        &      -11.847    &       14.354     \\\\\n\\textbf{x18}            &       1.9792  &        5.459     &     0.363  &         0.717        &       -8.720    &       12.678     \\\\\n\\textbf{x19}            &       1.6803  &        5.179     &     0.324  &         0.746        &       -8.471    &       11.832     \\\\\n\\textbf{x20}            &       1.4460  &        6.677     &     0.217  &         0.829        &      -11.640    &       14.532     \\\\\n\\textbf{x21}            &       1.3813  &       10.900     &     0.127  &         0.899        &      -19.982    &       22.745     \\\\\n\\textbf{x22}            &       1.1022  &       17.282     &     0.064  &         0.949        &      -32.770    &       34.974     \\\\\n\\textbf{x23}            &       0.7730  &       27.494     &     0.028  &         0.978        &      -53.113    &       54.659     \\\\\n\\textbf{x24}            &       0.4272  &       40.588     &     0.011  &         0.992        &      -79.123    &       79.978     \\\\\n\\textbf{x25}            &       0.0790  &       54.403     &     0.001  &         0.999        &     -106.548    &      106.706     \\\\\n\\textbf{x26}            &      -0.1851  &       69.651     &    -0.003  &         0.998        &     -136.699    &      136.329     \\\\\n\\textbf{x27}            &      -0.3636  &       90.541     &    -0.004  &         0.997        &     -177.820    &      177.093     \\\\\n\\textbf{x28}            &      -0.4705  &      103.764     &    -0.005  &         0.996        &     -203.844    &      202.903     \\\\\n\\textbf{x29}            &      -0.5187  &      119.796     &    -0.004  &         0.997        &     -235.315    &      234.278     \\\\\n\\textbf{x30}            &      -0.4941  &      129.464     &    -0.004  &         0.997        &     -254.239    &      253.250     \\\\\n\\textbf{x31}            &      -0.4173  &      135.864     &    -0.003  &         0.998        &     -266.706    &      265.872     \\\\\n\\textbf{x32}            &      -0.3516  &      116.161     &    -0.003  &         0.998        &     -228.023    &      227.320     \\\\\n\\textbf{x33}            &      -0.2752  &      110.800     &    -0.002  &         0.998        &     -217.440    &      216.889     \\\\\n\\textbf{x34}            &      -0.2091  &      118.545     &    -0.002  &         0.999        &     -232.553    &      232.135     \\\\\n\\textbf{x35}            &      -0.1521  &      117.810     &    -0.001  &         0.999        &     -231.055    &      230.751     \\\\\n\\textbf{x36}            &      -0.1028  &      115.036     &    -0.001  &         0.999        &     -225.569    &      225.363     \\\\\n\\textbf{x37}            &      -0.0589  &      115.676     &    -0.001  &         1.000        &     -226.779    &      226.662     \\\\\n\\textbf{x38}            &      -0.0314  &      112.220     &    -0.000  &         1.000        &     -219.980    &      219.917     \\\\\n\\textbf{x39}            &      -0.0129  &      112.281     &    -0.000  &         1.000        &     -220.079    &      220.053     \\\\\n\\textbf{x40}            &      -0.0005  &      107.335     & -4.22e-06  &         1.000        &     -210.373    &      210.372     \\\\\n\\textbf{x41}            &       0.0076  &       94.221     &  8.02e-05  &         1.000        &     -184.663    &      184.678     \\\\\n\\textbf{x42}            &       0.0120  &      100.969     &     0.000  &         1.000        &     -197.883    &      197.907     \\\\\n\\textbf{x43}            &       0.0194  &      106.335     &     0.000  &         1.000        &     -208.393    &      208.432     \\\\\n\\textbf{x44}            &       0.0368  &       95.324     &     0.000  &         1.000        &     -186.795    &      186.869     \\\\\n\\textbf{x45}            &       0.0652  &       91.102     &     0.001  &         0.999        &     -178.491    &      178.622     \\\\\n\\textbf{x46}            &       0.0944  &      107.734     &     0.001  &         0.999        &     -211.060    &      211.249     \\\\\n\\textbf{x47}            &       0.1080  &      128.795     &     0.001  &         0.999        &     -252.326    &      252.542     \\\\\n\\textbf{x48}            &       0.1144  &      147.789     &     0.001  &         0.999        &     -289.546    &      289.775     \\\\\n\\textbf{x49}            &       0.1106  &      160.763     &     0.001  &         0.999        &     -314.979    &      315.200     \\\\\n\\textbf{x50}            &       0.1083  &      169.935     &     0.001  &         0.999        &     -332.957    &      333.174     \\\\\n\\textbf{x51}            &       0.1108  &      174.100     &     0.001  &         0.999        &     -341.120    &      341.341     \\\\\n\\textbf{x52}            &       0.1029  &      171.922     &     0.001  &         1.000        &     -336.858    &      337.063     \\\\\n\\textbf{x53}            &       0.0850  &      184.068     &     0.000  &         1.000        &     -360.682    &      360.852     \\\\\n\\textbf{x54}            &       0.0693  &      168.212     &     0.000  &         1.000        &     -329.621    &      329.759     \\\\\n\\textbf{x55}            &       0.0477  &      136.590     &     0.000  &         1.000        &     -267.663    &      267.758     \\\\\n\\textbf{x56}            &       0.0263  &      127.769     &     0.000  &         1.000        &     -250.396    &      250.448     \\\\\n\\textbf{x57}            &       0.0015  &      125.219     &  1.18e-05  &         1.000        &     -245.424    &      245.427     \\\\\n\\textbf{x58}            &      -0.0276  &      118.987     &    -0.000  &         1.000        &     -233.237    &      233.182     \\\\\n\\textbf{x59}            &      -0.0358  &      103.818     &    -0.000  &         1.000        &     -203.515    &      203.443     \\\\\n\\textbf{x60}            &       0.0021  &       46.358     &  4.53e-05  &         1.000        &      -90.858    &       90.862     \\\\\n\\textbf{x61}            &      -0.0540  &       14.875     &    -0.004  &         0.997        &      -29.209    &       29.101     \\\\\n\\textbf{x62}            &      -0.0359  &       17.726     &    -0.002  &         0.998        &      -34.778    &       34.707     \\\\\n\\textbf{x63}            &      -0.4423  &       15.302     &    -0.029  &         0.977        &      -30.435    &       29.550     \\\\\n\\textbf{x64}            &      -0.6871  &       13.401     &    -0.051  &         0.959        &      -26.952    &       25.578     \\\\\n\\textbf{x65}            &      -0.8719  &       13.623     &    -0.064  &         0.949        &      -27.573    &       25.830     \\\\\n\\textbf{x66}            &      -0.8627  &       12.313     &    -0.070  &         0.944        &      -24.996    &       23.270     \\\\\n\\textbf{x67}            &      -0.5903  &       10.200     &    -0.058  &         0.954        &      -20.582    &       19.401     \\\\\n\\textbf{x68}            &      -0.3825  &       10.244     &    -0.037  &         0.970        &      -20.460    &       19.695     \\\\\n\\textbf{x69}            &       0.2453  &       12.321     &     0.020  &         0.984        &      -23.903    &       24.394     \\\\\n\\textbf{x70}            &       0.7367  &       14.064     &     0.052  &         0.958        &      -26.829    &       28.302     \\\\\n\\textbf{x71}            &       0.8082  &       17.782     &     0.045  &         0.964        &      -34.044    &       35.660     \\\\\n\\textbf{x72}            &       0.6602  &       19.986     &     0.033  &         0.974        &      -38.512    &       39.833     \\\\\n\\textbf{x73}            &       0.3755  &       30.601     &     0.012  &         0.990        &      -59.602    &       60.353     \\\\\n\\textbf{x74}            &       0.1470  &       57.098     &     0.003  &         0.998        &     -111.764    &      112.058     \\\\\n\\textbf{x75}            &       0.0413  &      165.939     &     0.000  &         1.000        &     -325.193    &      325.276     \\\\\n\\textbf{x76}            &       0.0462  &       66.314     &     0.001  &         0.999        &     -129.927    &      130.019     \\\\\n\\textbf{x77}            &      -0.0097  &       10.331     &    -0.001  &         0.999        &      -20.259    &       20.239     \\\\\n\\textbf{x78}            &       0.1218  &        9.793     &     0.012  &         0.990        &      -19.072    &       19.315     \\\\\n\\textbf{x79}            &      -0.0341  &       13.019     &    -0.003  &         0.998        &      -25.551    &       25.483     \\\\\n\\textbf{x80}            &      -0.0959  &        9.327     &    -0.010  &         0.992        &      -18.377    &       18.186     \\\\\n\\textbf{x81}            &      -0.2823  &        9.215     &    -0.031  &         0.976        &      -18.343    &       17.779     \\\\\n\\textbf{x82}            &      -0.4170  &       10.140     &    -0.041  &         0.967        &      -20.290    &       19.456     \\\\\n\\textbf{x83}            &      -0.2695  &       12.610     &    -0.021  &         0.983        &      -24.985    &       24.446     \\\\\n\\textbf{x84}            &      -0.0721  &       17.607     &    -0.004  &         0.997        &      -34.581    &       34.437     \\\\\n\\textbf{x85}            &       0.0522  &       20.764     &     0.003  &         0.998        &      -40.644    &       40.748     \\\\\n\\textbf{x86}            &       0.1417  &       22.901     &     0.006  &         0.995        &      -44.744    &       45.027     \\\\\n\\textbf{x87}            &       0.1506  &       23.844     &     0.006  &         0.995        &      -46.583    &       46.884     \\\\\n\\textbf{x88}            &       0.1510  &       28.872     &     0.005  &         0.996        &      -56.437    &       56.739     \\\\\n\\textbf{x89}            &       0.1883  &       31.557     &     0.006  &         0.995        &      -61.661    &       62.038     \\\\\n\\textbf{x90}            &       0.2115  &       32.513     &     0.007  &         0.995        &      -63.513    &       63.936     \\\\\n\\textbf{x91}            &       0.2763  &       32.604     &     0.008  &         0.993        &      -63.627    &       64.180     \\\\\n\\textbf{x92}            &       0.3748  &       31.224     &     0.012  &         0.990        &      -60.822    &       61.572     \\\\\n\\textbf{x93}            &       0.4800  &       30.941     &     0.016  &         0.988        &      -60.164    &       61.124     \\\\\n\\textbf{x94}            &       0.5804  &       28.762     &     0.020  &         0.984        &      -55.792    &       56.953     \\\\\n\\textbf{x95}            &       0.6838  &       25.303     &     0.027  &         0.978        &      -48.909    &       50.277     \\\\\n\\textbf{x96}            &       0.8030  &       23.594     &     0.034  &         0.973        &      -45.440    &       47.046     \\\\\n\\textbf{x97}            &       0.8851  &       20.209     &     0.044  &         0.965        &      -38.724    &       40.494     \\\\\n\\textbf{x98}            &       0.8833  &       20.746     &     0.043  &         0.966        &      -39.778    &       41.544     \\\\\n\\textbf{x99}            &       0.9117  &       22.232     &     0.041  &         0.967        &      -42.662    &       44.485     \\\\\n\\textbf{x100}           &       0.8989  &       21.956     &     0.041  &         0.967        &      -42.133    &       43.931     \\\\\n\\textbf{x101}           &       0.8533  &       22.597     &     0.038  &         0.970        &      -43.436    &       45.143     \\\\\n\\textbf{x102}           &       0.8268  &       23.839     &     0.035  &         0.972        &      -45.896    &       47.550     \\\\\n\\textbf{x103}           &       0.7865  &       24.610     &     0.032  &         0.975        &      -47.448    &       49.021     \\\\\n\\textbf{x104}           &       0.7845  &       24.558     &     0.032  &         0.975        &      -47.348    &       48.917     \\\\\n\\textbf{x105}           &       0.7420  &       23.690     &     0.031  &         0.975        &      -45.689    &       47.173     \\\\\n\\textbf{x106}           &       0.6353  &       25.495     &     0.025  &         0.980        &      -49.333    &       50.604     \\\\\n\\textbf{x107}           &       0.5886  &       28.589     &     0.021  &         0.984        &      -55.444    &       56.622     \\\\\n\\textbf{x108}           &       0.5487  &       33.425     &     0.016  &         0.987        &      -64.963    &       66.061     \\\\\n\\textbf{x109}           &       0.5127  &       33.948     &     0.015  &         0.988        &      -66.023    &       67.049     \\\\\n\\textbf{x110}           &       0.4515  &       35.152     &     0.013  &         0.990        &      -68.445    &       69.349     \\\\\n\\textbf{x111}           &       0.3163  &       35.831     &     0.009  &         0.993        &      -69.911    &       70.543     \\\\\n\\textbf{x112}           &       0.1851  &       35.832     &     0.005  &         0.996        &      -70.045    &       70.415     \\\\\n\\textbf{x113}           &       0.1019  &       36.949     &     0.003  &         0.998        &      -72.317    &       72.520     \\\\\n\\textbf{x114}           &      -0.0289  &       31.154     &    -0.001  &         0.999        &      -61.090    &       61.032     \\\\\n\\textbf{x115}           &      -0.1476  &       26.187     &    -0.006  &         0.996        &      -51.474    &       51.178     \\\\\n\\textbf{x116}           &      -0.2327  &       24.441     &    -0.010  &         0.992        &      -48.137    &       47.671     \\\\\n\\textbf{x117}           &      -0.1878  &       22.693     &    -0.008  &         0.993        &      -44.664    &       44.289     \\\\\n\\textbf{x118}           &      -0.0403  &       25.407     &    -0.002  &         0.999        &      -49.836    &       49.756     \\\\\n\\textbf{x119}           &       0.0604  &       26.759     &     0.002  &         0.998        &      -52.386    &       52.507     \\\\\n\\textbf{x120}           &       0.0420  &       14.717     &     0.003  &         0.998        &      -28.803    &       28.887     \\\\\n\\textbf{x121}           &       0.4857  &        2.072     &     0.234  &         0.815        &       -3.575    &        4.546     \\\\\n\\textbf{x122}           &      -0.0774  &        0.338     &    -0.229  &         0.819        &       -0.740    &        0.585     \\\\\n\\textbf{x123}           &       0.5088  &        2.588     &     0.197  &         0.844        &       -4.563    &        5.580     \\\\\n\\textbf{x124}           &       0.1838  &        2.680     &     0.069  &         0.945        &       -5.069    &        5.436     \\\\\n\\bottomrule\n\\end{tabular}\n%\\caption{ZeroInflatedPoisson Regression Results}\n\\end{center}"
          },
          "metadata": {},
          "execution_count": 21
        }
      ]
    },
    {
      "cell_type": "code",
      "source": [
        "# Make predictions using the trained ZIP models\n",
        "X_test_snow = sm.add_constant(input_train_data)\n",
        "X_test_rain = sm.add_constant(input_train_data)\n",
        "\n",
        "predicted_snow = zip_model_snow.predict(X_test_snow)\n",
        "predicted_rain = zip_model_rain.predict(X_test_rain)\n",
        "\n",
        "# Calculate the Mean Absolute Error (MAE) for the predictions\n",
        "mae_snow = (abs(predicted_snow - target_val_sub[122])).mean()\n",
        "mae_rain = (abs(predicted_rain - target_val_sub[123])).mean()\n",
        "\n",
        "mae_snow, mae_rain\n",
        "print(\"MAE for Snow Rate: \", mae_snow)\n",
        "print(\"MAE for Rain Rate: \", mae_rain)\n"
      ],
      "metadata": {
        "colab": {
          "base_uri": "https://localhost:8080/"
        },
        "id": "WnawsN1YXGu9",
        "outputId": "a02a3e54-ae4c-49bd-ebe4-b139562e4469"
      },
      "execution_count": 22,
      "outputs": [
        {
          "output_type": "stream",
          "name": "stdout",
          "text": [
            "MAE for Snow Rate:  0.03580687862011734\n",
            "MAE for Rain Rate:  0.05440257581897902\n"
          ]
        }
      ]
    },
    {
      "cell_type": "markdown",
      "source": [
        "**Mean Absolute Errors (MAE)** \\\\\n",
        "$$\n",
        "MAE = \\frac{1}{n} \\sum_{i=1}^{n} |y_i - \\hat{y}_i| \\\\\n",
        "$$\n",
        "MAE represent the average absolute difference between the predicted and actual values in the testing dataset. Lower MAE values indicate better model performance.\n",
        "\n",
        "**Result :** \\\\\n",
        "According to the fact that MAE for Snow Rate is smaller, it can be concluded that the model for Snow is more accurate than Rain."
      ],
      "metadata": {
        "id": "JlujmnAfXq_t"
      }
    },
    {
      "cell_type": "markdown",
      "source": [
        "**Dimension Reduction (PCA)**"
      ],
      "metadata": {
        "id": "kE_6yTZhYG5U"
      }
    },
    {
      "cell_type": "code",
      "source": [
        "from sklearn.preprocessing import StandardScaler\n",
        "from sklearn.decomposition import PCA"
      ],
      "metadata": {
        "id": "wa8xmZp4XGnU"
      },
      "execution_count": 23,
      "outputs": []
    },
    {
      "cell_type": "code",
      "source": [
        "# Validation\n",
        "input_val_data = data.input_val\n",
        "# Define the independent variable (constant) and dependent variable (snow rate)\n",
        "X_val_snow = sm.add_constant(input_val_data)\n",
        "y_val_snow = target_val_sub[122]\n",
        "X_val_rain = sm.add_constant(input_val_data)\n",
        "y_val_rain = target_val_sub[123]"
      ],
      "metadata": {
        "id": "dMZ3qPIEUnFx"
      },
      "execution_count": 24,
      "outputs": []
    },
    {
      "cell_type": "code",
      "source": [
        "#Applying PCA for Dimension Reduction for Rain\n",
        "pca = PCA(n_components=3)  # Select the number of principal components to retain\n",
        "exog_pca = pca.fit_transform(X_train_rain)\n",
        "\n",
        "#Refit the Zero-Inflated Poisson model\n",
        "exog_pca = sm.add_constant(exog_pca)\n",
        "model = sm.ZeroInflatedPoisson(endog=y_train_rain, exog=exog_pca, inflation='logit')\n",
        "results = model.fit()\n",
        "\n",
        "#Print model summary\n",
        "print(results.summary())"
      ],
      "metadata": {
        "colab": {
          "base_uri": "https://localhost:8080/"
        },
        "id": "1Zi53r60YVoi",
        "outputId": "891a7b52-242c-43f5-fe23-a3e7e8d2146d"
      },
      "execution_count": 27,
      "outputs": [
        {
          "output_type": "stream",
          "name": "stdout",
          "text": [
            "Optimization terminated successfully.\n",
            "         Current function value: 0.121826\n",
            "         Iterations: 34\n",
            "         Function evaluations: 35\n",
            "         Gradient evaluations: 35\n",
            "                     ZeroInflatedPoisson Regression Results                    \n",
            "===============================================================================\n",
            "Dep. Variable:                     123   No. Observations:                 3840\n",
            "Model:             ZeroInflatedPoisson   Df Residuals:                     3836\n",
            "Method:                            MLE   Df Model:                            3\n",
            "Date:                 Wed, 01 Nov 2023   Pseudo R-squ.:                  0.1877\n",
            "Time:                         20:29:49   Log-Likelihood:                -467.81\n",
            "converged:                        True   LL-Null:                       -575.92\n",
            "Covariance Type:             nonrobust   LLR p-value:                 1.320e-46\n",
            "=================================================================================\n",
            "                    coef    std err          z      P>|z|      [0.025      0.975]\n",
            "---------------------------------------------------------------------------------\n",
            "inflate_const   -15.6454     46.889     -0.334      0.739    -107.545      76.254\n",
            "const            -3.8786      0.122    -31.876      0.000      -4.117      -3.640\n",
            "x1               -0.1768      0.059     -3.006      0.003      -0.292      -0.062\n",
            "x2                1.0880      0.223      4.879      0.000       0.651       1.525\n",
            "x3                2.0148      0.200     10.054      0.000       1.622       2.408\n",
            "=================================================================================\n"
          ]
        }
      ]
    },
    {
      "cell_type": "markdown",
      "source": [
        "The converged will be true for model of rain rate until we set the number of components to be 3."
      ],
      "metadata": {
        "id": "tn4ZCjYTbRne"
      }
    },
    {
      "cell_type": "code",
      "source": [
        "#Applying PCA for Dimension Reduction for Snow\n",
        "pca = PCA(n_components=1)  # Select the number of principal components to retain\n",
        "exog_pca = pca.fit_transform(X_train_snow)\n",
        "\n",
        "#Refit the Zero-Inflated Poisson model\n",
        "exog_pca = sm.add_constant(exog_pca)\n",
        "model = sm.ZeroInflatedPoisson(endog=y_train_snow, exog=exog_pca, inflation='logit')\n",
        "results = model.fit()\n",
        "\n",
        "#Print model summary\n",
        "print(results.summary())"
      ],
      "metadata": {
        "colab": {
          "base_uri": "https://localhost:8080/"
        },
        "id": "JvoZJwuiYVlJ",
        "outputId": "c202920b-8063-47f3-a041-71d230ecd1d6"
      },
      "execution_count": 28,
      "outputs": [
        {
          "output_type": "stream",
          "name": "stdout",
          "text": [
            "Optimization terminated successfully.\n",
            "         Current function value: 0.128455\n",
            "         Iterations: 24\n",
            "         Function evaluations: 26\n",
            "         Gradient evaluations: 26\n",
            "                     ZeroInflatedPoisson Regression Results                    \n",
            "===============================================================================\n",
            "Dep. Variable:                     122   No. Observations:                 3840\n",
            "Model:             ZeroInflatedPoisson   Df Residuals:                     3838\n",
            "Method:                            MLE   Df Model:                            1\n",
            "Date:                 Wed, 01 Nov 2023   Pseudo R-squ.:                  0.1872\n",
            "Time:                         20:29:50   Log-Likelihood:                -493.27\n",
            "converged:                        True   LL-Null:                       -606.84\n",
            "Covariance Type:             nonrobust   LLR p-value:                 2.504e-51\n",
            "=================================================================================\n",
            "                    coef    std err          z      P>|z|      [0.025      0.975]\n",
            "---------------------------------------------------------------------------------\n",
            "inflate_const   -21.4349   1273.374     -0.017      0.987   -2517.202    2474.332\n",
            "const            -4.1161      0.158    -26.114      0.000      -4.425      -3.807\n",
            "x1                0.9513      0.079     12.084      0.000       0.797       1.106\n",
            "=================================================================================\n"
          ]
        }
      ]
    },
    {
      "cell_type": "markdown",
      "source": [
        "The converged will be true for model of snow rate until we set the number of components to be 1"
      ],
      "metadata": {
        "id": "wKjgrJehbaE3"
      }
    },
    {
      "cell_type": "markdown",
      "source": [
        "**Applying PCA for validation data**"
      ],
      "metadata": {
        "id": "Jeo0ioWKVnIq"
      }
    },
    {
      "cell_type": "code",
      "source": [
        "#Applying PCA for Dimension Reduction for Snow\n",
        "pca = PCA(n_components=1)  # Select the number of principal components to retain\n",
        "exog_pca = pca.fit_transform(X_val_snow)\n",
        "\n",
        "#Refit the Zero-Inflated Poisson model\n",
        "exog_pca = sm.add_constant(exog_pca)\n",
        "model = sm.ZeroInflatedPoisson(endog=y_val_snow, exog=exog_pca, inflation='logit')\n",
        "results_pca_snow = model.fit()\n",
        "\n",
        "#Print model summary\n",
        "print(results_pca_snow.summary())"
      ],
      "metadata": {
        "colab": {
          "base_uri": "https://localhost:8080/"
        },
        "id": "uG5qA3ZAg3sg",
        "outputId": "e2e3a6b0-551f-4416-89cc-9e478cd6851f"
      },
      "execution_count": 44,
      "outputs": [
        {
          "output_type": "stream",
          "name": "stdout",
          "text": [
            "Optimization terminated successfully.\n",
            "         Current function value: 0.117904\n",
            "         Iterations: 21\n",
            "         Function evaluations: 23\n",
            "         Gradient evaluations: 23\n",
            "                     ZeroInflatedPoisson Regression Results                    \n",
            "===============================================================================\n",
            "Dep. Variable:                     122   No. Observations:                 3840\n",
            "Model:             ZeroInflatedPoisson   Df Residuals:                     3838\n",
            "Method:                            MLE   Df Model:                            1\n",
            "Date:                 Wed, 01 Nov 2023   Pseudo R-squ.:                  0.1765\n",
            "Time:                         20:58:09   Log-Likelihood:                -452.75\n",
            "converged:                        True   LL-Null:                       -549.80\n",
            "Covariance Type:             nonrobust   LLR p-value:                 4.071e-44\n",
            "=================================================================================\n",
            "                    coef    std err          z      P>|z|      [0.025      0.975]\n",
            "---------------------------------------------------------------------------------\n",
            "inflate_const   -16.5236    111.517     -0.148      0.882    -235.094     202.047\n",
            "const            -4.1435      0.155    -26.771      0.000      -4.447      -3.840\n",
            "x1                0.8795      0.075     11.761      0.000       0.733       1.026\n",
            "=================================================================================\n"
          ]
        }
      ]
    },
    {
      "cell_type": "markdown",
      "source": [
        "The converged will be true for model of snow rate until we set the number of components to be 1"
      ],
      "metadata": {
        "id": "1PGwK_9BWFNy"
      }
    },
    {
      "cell_type": "code",
      "source": [
        "#Applying PCA for Dimension Reduction for Rain\n",
        "pca = PCA(n_components=3)  # Select the number of principal components to retain\n",
        "exog_pca = pca.fit_transform(X_val_rain)\n",
        "\n",
        "#Refit the Zero-Inflated Poisson model\n",
        "exog_pca = sm.add_constant(exog_pca)\n",
        "model = sm.ZeroInflatedPoisson(endog=y_train_rain, exog=exog_pca, inflation='logit')\n",
        "results_pca_rain = model.fit()\n",
        "\n",
        "#Print model summary\n",
        "print(results_pca_rain.summary())"
      ],
      "metadata": {
        "colab": {
          "base_uri": "https://localhost:8080/"
        },
        "id": "TZPG01NYYVS6",
        "outputId": "8a4c6f7c-ec0b-4ee9-8275-bfa5e0409e01"
      },
      "execution_count": 45,
      "outputs": [
        {
          "output_type": "stream",
          "name": "stdout",
          "text": [
            "         Current function value: 0.143702\n",
            "         Iterations: 35\n",
            "         Function evaluations: 36\n",
            "         Gradient evaluations: 36\n",
            "                     ZeroInflatedPoisson Regression Results                    \n",
            "===============================================================================\n",
            "Dep. Variable:                     123   No. Observations:                 3840\n",
            "Model:             ZeroInflatedPoisson   Df Residuals:                     3836\n",
            "Method:                            MLE   Df Model:                            3\n",
            "Date:                 Wed, 01 Nov 2023   Pseudo R-squ.:                 0.04185\n",
            "Time:                         20:58:11   Log-Likelihood:                -551.81\n",
            "converged:                       False   LL-Null:                       -575.92\n",
            "Covariance Type:             nonrobust   LLR p-value:                 1.923e-10\n",
            "=================================================================================\n",
            "                    coef    std err          z      P>|z|      [0.025      0.975]\n",
            "---------------------------------------------------------------------------------\n",
            "inflate_const   -11.6884      6.506     -1.796      0.072     -24.441       1.064\n",
            "const            -3.4094      0.093    -36.586      0.000      -3.592      -3.227\n",
            "x1               -0.2617      0.058     -4.541      0.000      -0.375      -0.149\n",
            "x2                0.5886      0.180      3.268      0.001       0.236       0.942\n",
            "x3                0.4984      0.260      1.918      0.055      -0.011       1.008\n",
            "=================================================================================\n"
          ]
        },
        {
          "output_type": "stream",
          "name": "stderr",
          "text": [
            "/usr/local/lib/python3.10/dist-packages/scipy/optimize/_optimize.py:1360: OptimizeWarning: Maximum number of iterations has been exceeded.\n",
            "  res = _minimize_bfgs(f, x0, args, fprime, callback=callback, **opts)\n",
            "/usr/local/lib/python3.10/dist-packages/statsmodels/base/model.py:607: ConvergenceWarning: Maximum Likelihood optimization failed to converge. Check mle_retvals\n",
            "  warnings.warn(\"Maximum Likelihood optimization failed to \"\n"
          ]
        }
      ]
    },
    {
      "cell_type": "markdown",
      "source": [
        "The converged will be true for model of rain rate until we set the number of components to be 3."
      ],
      "metadata": {
        "id": "Y0p1OC1kiNxu"
      }
    },
    {
      "cell_type": "markdown",
      "source": [
        "**Evaluation**"
      ],
      "metadata": {
        "id": "SWj6yF48kpT3"
      }
    },
    {
      "cell_type": "code",
      "source": [
        "from scipy.stats import poisson"
      ],
      "metadata": {
        "id": "ts-S3lMooVOO"
      },
      "execution_count": 46,
      "outputs": []
    },
    {
      "cell_type": "code",
      "source": [
        "# For Rain rate\n",
        "predicted_counts_baseline = zip_model_rain.predict(X_val_rain)\n",
        "baseline_deviance = -2 * np.sum(poisson.logpmf(y_val_rain, predicted_counts_baseline))\n",
        "baseline_aic = zip_model_rain.aic\n",
        "baseline_bic = zip_model_rain.bic\n",
        "\n",
        "X_val_pca = pca.transform(X_val_rain)\n",
        "X_val_pca = sm.add_constant(X_val_pca)\n",
        "predicted_counts_pca = results_pca_rain.predict(X_val_pca)\n",
        "\n",
        "# Compute evaluation metrics on the validation data\n",
        "pca_deviance = -2 * results_pca_rain.llf  # Deviance\n",
        "pca_aic = 2 * results_pca_rain.df_model - 2 * results_pca_rain.llf  # AIC\n",
        "pca_bic = results_pca_rain.bic  # BIC\n",
        "\n",
        "\n",
        "# Print and compare the metrics\n",
        "print(\"Baseline Model Metrics:\")\n",
        "print(f\"Deviance: {baseline_deviance}\")\n",
        "print(f\"AIC: {baseline_aic}\")\n",
        "print(f\"BIC: {baseline_bic}\")\n",
        "\n",
        "print(\"\\nPCA Model Metrics:\")\n",
        "print(f\"Deviance: {pca_deviance}\")\n",
        "print(f\"AIC: {pca_aic}\")\n",
        "print(f\"BIC: {pca_bic}\")\n",
        "\n",
        "# Compare the metrics\n",
        "if pca_deviance < baseline_deviance:\n",
        "    print(\"PCA model has lower deviance, indicating better fit.\")\n",
        "else:\n",
        "    print(\"Baseline model has lower deviance, indicating better fit.\")\n",
        "\n",
        "if pca_aic < baseline_aic:\n",
        "    print(\"PCA model has lower AIC, indicating a better trade-off between fit and complexity.\")\n",
        "else:\n",
        "    print(\"Baseline model has lower AIC, indicating a better trade-off between fit and complexity.\")\n",
        "\n",
        "if pca_bic < baseline_bic:\n",
        "    print(\"PCA model has lower BIC, indicating better fit with a penalty for complexity.\")\n",
        "else:\n",
        "    print(\"Baseline model has lower BIC, indicating better fit with a penalty for complexity.\")\n",
        "\n"
      ],
      "metadata": {
        "colab": {
          "base_uri": "https://localhost:8080/"
        },
        "id": "nGInvmxomP3R",
        "outputId": "5dc381d8-2ac9-4e54-9795-a33d5e86c374"
      },
      "execution_count": 47,
      "outputs": [
        {
          "output_type": "stream",
          "name": "stdout",
          "text": [
            "Baseline Model Metrics:\n",
            "Deviance: inf\n",
            "AIC: 1106.711390825155\n",
            "BIC: 1894.6180741684584\n",
            "\n",
            "PCA Model Metrics:\n",
            "Deviance: 1103.6283591321176\n",
            "AIC: 1109.6283591321176\n",
            "BIC: 1144.8944973600264\n",
            "PCA model has lower deviance, indicating better fit.\n",
            "Baseline model has lower AIC, indicating a better trade-off between fit and complexity.\n",
            "PCA model has lower BIC, indicating better fit with a penalty for complexity.\n"
          ]
        }
      ]
    },
    {
      "cell_type": "code",
      "source": [
        "predicted_counts_baseline = zip_model_snow.predict(X_val_snow)\n",
        "baseline_deviance = -2 * np.sum(poisson.logpmf(y_val_snow, predicted_counts_baseline))\n",
        "baseline_aic = zip_model_snow.aic\n",
        "baseline_bic = zip_model_snow.bic\n",
        "\n",
        "X_val_pca = pca.transform(X_val_snow)\n",
        "X_val_pca = sm.add_constant(X_val_pca)\n",
        "\n",
        "# Compute evaluation metrics on the validation data\n",
        "pca_deviance = -2 * results_pca_snow.llf  # Deviance\n",
        "pca_aic = 2 * results_pca_snow.df_model - 2 * results_pca_snow.llf  # AIC\n",
        "pca_bic = results_pca_snow.bic  # BIC\n",
        "\n",
        "\n",
        "# Print and compare the metrics\n",
        "print(\"Baseline Model Metrics:\")\n",
        "print(f\"Deviance: {baseline_deviance}\")\n",
        "print(f\"AIC: {baseline_aic}\")\n",
        "print(f\"BIC: {baseline_bic}\")\n",
        "\n",
        "print(\"\\nPCA Model Metrics:\")\n",
        "print(f\"Deviance: {pca_deviance}\")\n",
        "print(f\"AIC: {pca_aic}\")\n",
        "print(f\"BIC: {pca_bic}\")\n",
        "\n",
        "# Compare the metrics\n",
        "if pca_deviance < baseline_deviance:\n",
        "    print(\"PCA model has lower deviance, indicating better fit.\")\n",
        "else:\n",
        "    print(\"Baseline model has lower deviance, indicating better fit.\")\n",
        "\n",
        "if pca_aic < baseline_aic:\n",
        "    print(\"PCA model has lower AIC, indicating a better trade-off between fit and complexity.\")\n",
        "else:\n",
        "    print(\"Baseline model has lower AIC, indicating a better trade-off between fit and complexity.\")\n",
        "\n",
        "if pca_bic < baseline_bic:\n",
        "    print(\"PCA model has lower BIC, indicating better fit with a penalty for complexity.\")\n",
        "else:\n",
        "    print(\"Baseline model has lower BIC, indicating better fit with a penalty for complexity.\")\n"
      ],
      "metadata": {
        "colab": {
          "base_uri": "https://localhost:8080/"
        },
        "id": "ehLKKWCaq9bt",
        "outputId": "145905cb-8ec2-4cbb-88c6-5123ccaf4bda"
      },
      "execution_count": 49,
      "outputs": [
        {
          "output_type": "stream",
          "name": "stdout",
          "text": [
            "Baseline Model Metrics:\n",
            "Deviance: inf\n",
            "AIC: 1147.938563136873\n",
            "BIC: 1935.8452464801762\n",
            "\n",
            "PCA Model Metrics:\n",
            "Deviance: 905.5019075584396\n",
            "AIC: 907.5019075584396\n",
            "BIC: 930.2615904951849\n",
            "PCA model has lower deviance, indicating better fit.\n",
            "PCA model has lower AIC, indicating a better trade-off between fit and complexity.\n",
            "PCA model has lower BIC, indicating better fit with a penalty for complexity.\n"
          ]
        }
      ]
    },
    {
      "cell_type": "markdown",
      "source": [
        "# Section2: EN(baseline), 1D-CNN, 2D-CNN, MLP, ResNet"
      ],
      "metadata": {
        "id": "t1jB67ejji1V"
      }
    },
    {
      "cell_type": "markdown",
      "source": [
        "used whole dataset to do the ML in this section"
      ],
      "metadata": {
        "id": "UjfKaR3KXzWb"
      }
    },
    {
      "cell_type": "code",
      "source": [
        "data.input_train = data.load_npy_file(train_input_path)"
      ],
      "metadata": {
        "id": "I8nUEJkxaN01"
      },
      "execution_count": null,
      "outputs": []
    },
    {
      "cell_type": "code",
      "source": [
        "data.target_train = data.load_npy_file(train_target_path)"
      ],
      "metadata": {
        "id": "9KldnOy_aQeP"
      },
      "execution_count": null,
      "outputs": []
    },
    {
      "cell_type": "code",
      "source": [
        "data.input_val = data.load_npy_file(val_input_path)"
      ],
      "metadata": {
        "id": "7Wq7Xj7IaQiY"
      },
      "execution_count": null,
      "outputs": []
    },
    {
      "cell_type": "code",
      "source": [
        "data.target_val = data.load_npy_file(val_target_path)"
      ],
      "metadata": {
        "id": "fcmLmakQaQoo"
      },
      "execution_count": null,
      "outputs": []
    },
    {
      "cell_type": "code",
      "source": [
        "print('size of traing datasets:', data.input_train.shape, data.target_train.shape)"
      ],
      "metadata": {
        "colab": {
          "base_uri": "https://localhost:8080/"
        },
        "id": "PqTDc3fuY-0h",
        "outputId": "c2dffb41-a0c2-4d72-865f-e029b1ba59e7"
      },
      "execution_count": null,
      "outputs": [
        {
          "output_type": "stream",
          "name": "stdout",
          "text": [
            "size of traing datasets: (10091520, 124) (10091520, 128)\n"
          ]
        }
      ]
    },
    {
      "cell_type": "code",
      "source": [
        "print('size of validation datasets:', data.input_val.shape, data.target_val.shape)"
      ],
      "metadata": {
        "colab": {
          "base_uri": "https://localhost:8080/"
        },
        "id": "EG1VVNZfZ43D",
        "outputId": "bdcf855f-184f-49ea-f107-0d869014ef0a"
      },
      "execution_count": null,
      "outputs": [
        {
          "output_type": "stream",
          "name": "stdout",
          "text": [
            "size of validation datasets: (1441920, 124) (1441920, 128)\n"
          ]
        }
      ]
    },
    {
      "cell_type": "markdown",
      "source": [
        "# ML models"
      ],
      "metadata": {
        "id": "fWRXvP8mcKE9"
      }
    },
    {
      "cell_type": "markdown",
      "source": [
        "### Train constant prediction model\n",
        "\n",
        "$\\hat{y} = E[y_{train}]$\n",
        "\n",
        "### Train multiple linear regression model\n",
        "\n",
        "$\\beta = {(X_{train}^TX_{train})}^{-1}X_{train}^Ty_{train}$\n",
        "\n",
        "$\\hat{y} = X_{input}^T \\beta$\n",
        "\n",
        "where $X_{train}$ and $X_{input}$ correspond to the training data and the input data you would like to inference on, respectively. $X_{train}$ and $X_{input}$ both have a column of ones concatenated to the feature space for the bias."
      ],
      "metadata": {
        "id": "iGOQduOGcaCO"
      }
    },
    {
      "cell_type": "code",
      "source": [
        "# simple predict valiation for each column as the mean value of the corresponding column in train\n",
        "const_model = data.target_train.mean(axis = 0)"
      ],
      "metadata": {
        "id": "q51mCWhPchOp"
      },
      "execution_count": null,
      "outputs": []
    },
    {
      "cell_type": "markdown",
      "source": [],
      "metadata": {
        "id": "gO6VWQnBedeW"
      }
    },
    {
      "cell_type": "markdown",
      "metadata": {
        "id": "EDQDt37ES0M-"
      },
      "source": [
        "##### adding bias unit"
      ]
    },
    {
      "cell_type": "code",
      "execution_count": null,
      "metadata": {
        "id": "EOYv3qc5S0M_"
      },
      "outputs": [],
      "source": [
        "X = data.input_train\n",
        "bias_vector = np.ones((X.shape[0], 1))\n",
        "X = np.concatenate((X, bias_vector), axis=1)"
      ]
    },
    {
      "cell_type": "markdown",
      "metadata": {
        "id": "Ry5xou7GS0M_"
      },
      "source": [
        "##### create model"
      ]
    },
    {
      "cell_type": "code",
      "execution_count": null,
      "metadata": {
        "id": "wJR6adK2S0M_"
      },
      "outputs": [],
      "source": [
        "mlr_weights = np.linalg.inv(X.transpose()@X)@X.transpose()@data.target_train"
      ]
    },
    {
      "cell_type": "markdown",
      "metadata": {
        "id": "_cnS6ip1S0M_"
      },
      "source": [
        "### Baseline-EN Model"
      ]
    },
    {
      "cell_type": "code",
      "execution_count": null,
      "metadata": {
        "id": "wJs1FYR_S0M_",
        "colab": {
          "base_uri": "https://localhost:8080/"
        },
        "outputId": "5409ac8f-3ed2-438b-d547-e4c5ac0a82d4"
      },
      "outputs": [
        {
          "output_type": "stream",
          "name": "stdout",
          "text": [
            "ED_ClimSIM_1_3.csv  ED_ClimSIM_1_3_model.h5\n"
          ]
        }
      ],
      "source": [
        "!ls /content/ClimSim/baseline_models/ED/model"
      ]
    },
    {
      "cell_type": "code",
      "execution_count": null,
      "metadata": {
        "id": "nO2T4O2mS0NA"
      },
      "outputs": [],
      "source": [
        "model_path = \"/content/ClimSim/baseline_models/ED/model/\""
      ]
    },
    {
      "cell_type": "code",
      "execution_count": null,
      "metadata": {
        "scrolled": false,
        "id": "JuywDEJhS0NA",
        "colab": {
          "base_uri": "https://localhost:8080/"
        },
        "outputId": "cddf3ef9-885c-4fa2-fc4f-eb1aac858fbf"
      },
      "outputs": [
        {
          "output_type": "stream",
          "name": "stdout",
          "text": [
            "Model: \"ED\"\n",
            "_________________________________________________________________\n",
            " Layer (type)                Output Shape              Param #   \n",
            "=================================================================\n",
            " encoder_input (InputLayer)  [(None, 124)]             0         \n",
            "                                                                 \n",
            " encoder (Functional)        (None, 5)                 414952    \n",
            "                                                                 \n",
            " decoder (Functional)        (None, 128)               416927    \n",
            "                                                                 \n",
            "=================================================================\n",
            "Total params: 831879 (3.17 MB)\n",
            "Trainable params: 831879 (3.17 MB)\n",
            "Non-trainable params: 0 (0.00 Byte)\n",
            "_________________________________________________________________\n"
          ]
        }
      ],
      "source": [
        "import tensorflow as tf\n",
        "\n",
        "EN_baseline_model = tf.keras.models.load_model(model_path + 'ED_ClimSIM_1_3_model.h5')\n",
        "EN_baseline_model.summary()\n"
      ]
    },
    {
      "cell_type": "markdown",
      "metadata": {
        "id": "eFXPzXN2S0NA"
      },
      "source": [
        "### Train My Own Model"
      ]
    },
    {
      "cell_type": "markdown",
      "source": [
        "compared 1D-CNN, 2D-CNN, MLP, ResNet and checked the accuracy"
      ],
      "metadata": {
        "id": "eT66XPNPYQRr"
      }
    },
    {
      "cell_type": "code",
      "execution_count": null,
      "metadata": {
        "id": "H4ZxF02LS0NA",
        "colab": {
          "base_uri": "https://localhost:8080/"
        },
        "outputId": "a1aa6bda-5a98-4fc1-c8a8-84c8e24ca05d"
      },
      "outputs": [
        {
          "output_type": "execute_result",
          "data": {
            "text/plain": [
              "((10091520, 124), (10091520, 128))"
            ]
          },
          "metadata": {},
          "execution_count": 20
        }
      ],
      "source": [
        "data.input_train.shape, data.target_train.shape"
      ]
    },
    {
      "cell_type": "code",
      "source": [
        "## Baseline CNN copied from the website, after run this block can get accuracy = 0.9757\n",
        "\n",
        "import tensorflow as tf\n",
        "from tensorflow import keras\n",
        "\n",
        "# Model params\n",
        "input_length = 124\n",
        "output_length_lin  = 120\n",
        "output_length_relu = 8\n",
        "output_length = output_length_lin + output_length_relu\n",
        "n_nodes = 512\n",
        "\n",
        "# Construct the model\n",
        "input_layer    = keras.layers.Input(shape=(input_length,), name='input')\n",
        "hidden_0       = keras.layers.Dense(n_nodes, activation='relu')(input_layer)\n",
        "hidden_1       = keras.layers.Dense(n_nodes, activation='relu')(hidden_0)\n",
        "output_pre     = keras.layers.Dense(output_length, activation='elu')(hidden_1)\n",
        "output_lin     = keras.layers.Dense(output_length_lin, activation='linear')(output_pre)\n",
        "output_relu    = keras.layers.Dense(output_length_relu, activation='relu')(output_pre)\n",
        "output_layer   = keras.layers.Concatenate()([output_lin, output_relu])\n",
        "\n",
        "model = keras.Model(input_layer, output_layer, name='Emulator')\n",
        "\n",
        "# Compile the model\n",
        "model.compile(optimizer=keras.optimizers.Adam(),\n",
        "              loss='mse',\n",
        "              metrics=['mse', 'mae', 'accuracy']) #\n",
        "\n",
        "# Print the model summary\n",
        "model.summary()\n",
        "\n",
        "# model.fit(data.input_train, data.target_train, epochs=10, batch_size=256)\n"
      ],
      "metadata": {
        "colab": {
          "base_uri": "https://localhost:8080/"
        },
        "id": "Q7FcrXR3u2xA",
        "outputId": "4f39d337-b408-47c4-a152-d4c86f3d3c0f"
      },
      "execution_count": null,
      "outputs": [
        {
          "output_type": "stream",
          "name": "stdout",
          "text": [
            "Model: \"Emulator\"\n",
            "__________________________________________________________________________________________________\n",
            " Layer (type)                Output Shape                 Param #   Connected to                  \n",
            "==================================================================================================\n",
            " input (InputLayer)          [(None, 124)]                0         []                            \n",
            "                                                                                                  \n",
            " dense (Dense)               (None, 512)                  64000     ['input[0][0]']               \n",
            "                                                                                                  \n",
            " dense_1 (Dense)             (None, 512)                  262656    ['dense[0][0]']               \n",
            "                                                                                                  \n",
            " dense_2 (Dense)             (None, 128)                  65664     ['dense_1[0][0]']             \n",
            "                                                                                                  \n",
            " dense_3 (Dense)             (None, 120)                  15480     ['dense_2[0][0]']             \n",
            "                                                                                                  \n",
            " dense_4 (Dense)             (None, 8)                    1032      ['dense_2[0][0]']             \n",
            "                                                                                                  \n",
            " concatenate (Concatenate)   (None, 128)                  0         ['dense_3[0][0]',             \n",
            "                                                                     'dense_4[0][0]']             \n",
            "                                                                                                  \n",
            "==================================================================================================\n",
            "Total params: 408832 (1.56 MB)\n",
            "Trainable params: 408832 (1.56 MB)\n",
            "Non-trainable params: 0 (0.00 Byte)\n",
            "__________________________________________________________________________________________________\n"
          ]
        }
      ]
    },
    {
      "cell_type": "raw",
      "metadata": {
        "id": "HSG_ew0QS0NB"
      },
      "source": [
        "## Baseline CNN\n",
        "\n",
        "import tensorflow as tf\n",
        "from tensorflow import keras\n",
        "\n",
        "# Model params\n",
        "input_length = 124\n",
        "output_length_lin  = 120\n",
        "output_length_relu = 8\n",
        "output_length = output_length_lin + output_length_relu\n",
        "n_nodes = 512\n",
        "\n",
        "# Construct the model\n",
        "input_layer    = keras.layers.Input(shape=(input_length,), name='input')\n",
        "hidden_0       = keras.layers.Dense(n_nodes, activation='relu')(input_layer)\n",
        "hidden_1       = keras.layers.Dense(n_nodes, activation='relu')(hidden_0)\n",
        "output_pre     = keras.layers.Dense(output_length, activation='elu')(hidden_1)\n",
        "output_lin     = keras.layers.Dense(output_length_lin, activation='linear')(output_pre)\n",
        "output_relu    = keras.layers.Dense(output_length_relu, activation='relu')(output_pre)\n",
        "output_layer   = keras.layers.Concatenate()([output_lin, output_relu])\n",
        "\n",
        "model = keras.Model(input_layer, output_layer, name='Emulator')\n",
        "\n",
        "# Compile the model\n",
        "model.compile(optimizer=keras.optimizers.Adam(),\n",
        "              loss='mse',\n",
        "              metrics=['mse', 'mae', 'accuracy']) #\n",
        "\n",
        "# Print the model summary\n",
        "model.summary()\n",
        "\n",
        "# default 0.9757\n",
        "model.fit(data.input_train, data.target_train, epochs=10, batch_size=256)  # Adjust epochs and batch_size as needed\n"
      ]
    },
    {
      "cell_type": "code",
      "execution_count": null,
      "metadata": {
        "id": "lnQXEZOGS0NB",
        "colab": {
          "base_uri": "https://localhost:8080/"
        },
        "outputId": "9ed8db71-f0d3-4fa3-b0cc-8f9a02813e25"
      },
      "outputs": [
        {
          "output_type": "stream",
          "name": "stdout",
          "text": [
            "Model: \"Emulator_CNN\"\n",
            "_________________________________________________________________\n",
            " Layer (type)                Output Shape              Param #   \n",
            "=================================================================\n",
            " input (InputLayer)          [(None, 31, 4)]           0         \n",
            "                                                                 \n",
            " conv1d (Conv1D)             (None, 29, 32)            416       \n",
            "                                                                 \n",
            " max_pooling1d (MaxPooling1  (None, 14, 32)            0         \n",
            " D)                                                              \n",
            "                                                                 \n",
            " conv1d_1 (Conv1D)           (None, 12, 64)            6208      \n",
            "                                                                 \n",
            " max_pooling1d_1 (MaxPoolin  (None, 6, 64)             0         \n",
            " g1D)                                                            \n",
            "                                                                 \n",
            " flatten (Flatten)           (None, 384)               0         \n",
            "                                                                 \n",
            " dense_5 (Dense)             (None, 512)               197120    \n",
            "                                                                 \n",
            " dropout (Dropout)           (None, 512)               0         \n",
            "                                                                 \n",
            " dense_6 (Dense)             (None, 256)               131328    \n",
            "                                                                 \n",
            " dropout_1 (Dropout)         (None, 256)               0         \n",
            "                                                                 \n",
            " dense_7 (Dense)             (None, 128)               32896     \n",
            "                                                                 \n",
            "=================================================================\n",
            "Total params: 367968 (1.40 MB)\n",
            "Trainable params: 367968 (1.40 MB)\n",
            "Non-trainable params: 0 (0.00 Byte)\n",
            "_________________________________________________________________\n"
          ]
        }
      ],
      "source": [
        "# 2-D CNN\n",
        "import tensorflow as tf\n",
        "from tensorflow import keras\n",
        "\n",
        "# Define the input shape\n",
        "input_shape = (31, 4)  # reshaped input data into the model, version of (124,)\n",
        "\n",
        "# Construct the model\n",
        "input_layer = keras.layers.Input(shape=input_shape, name='input')\n",
        "\n",
        "# 1D convolutional layers for extracting features from the input sequences\n",
        "# Pooling layers help in reducing the spatial dimensions\n",
        "conv1 = keras.layers.Conv1D(filters=32, kernel_size=3, activation='relu')(input_layer)\n",
        "pool1 = keras.layers.MaxPooling1D(pool_size=2)(conv1)\n",
        "conv2 = keras.layers.Conv1D(filters=64, kernel_size=3, activation='relu')(pool1)\n",
        "pool2 = keras.layers.MaxPooling1D(pool_size=2)(conv2)\n",
        "\n",
        "# Flatten layer, change 2D to 1D, can be fed into fully connected layers\n",
        "flatten = keras.layers.Flatten()(pool2)\n",
        "\n",
        "# Fully connected layers\n",
        "dense1 = keras.layers.Dense(512, activation='relu')(flatten)\n",
        "dropout1 = keras.layers.Dropout(0.5)(dense1)\n",
        "dense2 = keras.layers.Dense(256, activation='relu')(dropout1)\n",
        "dropout2 = keras.layers.Dropout(0.5)(dense2)\n",
        "\n",
        "# Output layer, shape (128,)\n",
        "output_layer = keras.layers.Dense(128, activation='linear')(dropout2)\n",
        "\n",
        "# Construct the full model\n",
        "model_cnn = keras.Model(inputs=input_layer, outputs=output_layer, name='Emulator_CNN')\n",
        "\n",
        "# Compile the model by Adam optimizer\n",
        "model_cnn.compile(optimizer=keras.optimizers.Adam(),\n",
        "                  loss='mse',\n",
        "                  metrics=['mse', 'mae', 'accuracy'])\n",
        "model = model_cnn\n",
        "# Print the model summary\n",
        "model_cnn.summary()\n",
        "# reshape training set to match the input\n",
        "input_train_reshaped = data.input_train.reshape(-1, 31, 4)\n",
        "# choose 256 smaples and 10 iterations, adjust as needed, the accuracy is only 0.9541\n",
        "# model.fit(input_train_reshaped, data.target_train, epochs=10, batch_size=256)"
      ]
    },
    {
      "cell_type": "code",
      "source": [
        "## MLP\n",
        "import tensorflow as tf\n",
        "from tensorflow import keras\n",
        "\n",
        "# Model parameters\n",
        "input_length = 124\n",
        "output_length = 128\n",
        "\n",
        "# Construct the model\n",
        "input_layer = keras.layers.Input(shape=(input_length,), name='input')\n",
        "\n",
        "# Hidden layers & Batch Normalization & Dropout layers\n",
        "hidden_1 = keras.layers.Dense(1024, kernel_regularizer=keras.regularizers.l2(0.001), activation='relu')(input_layer)\n",
        "batch_norm_1 = keras.layers.BatchNormalization()(hidden_1)\n",
        "dropout_1 = keras.layers.Dropout(0.1)(batch_norm_1)\n",
        "\n",
        "hidden_2 = keras.layers.Dense(512, kernel_regularizer=keras.regularizers.l2(0.001), activation='relu')(dropout_1)\n",
        "batch_norm_2 = keras.layers.BatchNormalization()(hidden_2)\n",
        "dropout_2 = keras.layers.Dropout(0.1)(batch_norm_2)\n",
        "\n",
        "hidden_3 = keras.layers.Dense(512, kernel_regularizer=keras.regularizers.l2(0.001), activation='relu')(dropout_2)\n",
        "batch_norm_3 = keras.layers.BatchNormalization()(hidden_3)\n",
        "dropout_3 = keras.layers.Dropout(0.1)(batch_norm_3)\n",
        "\n",
        "hidden_4 = keras.layers.Dense(256, kernel_regularizer=keras.regularizers.l2(0.001), activation='relu')(dropout_3)\n",
        "batch_norm_4 = keras.layers.BatchNormalization()(hidden_4)\n",
        "dropout_4 = keras.layers.Dropout(0.1)(batch_norm_4)\n",
        "\n",
        "# Output layer\n",
        "output_layer = keras.layers.Dense(output_length, activation='linear')(dropout_4)\n",
        "\n",
        "# Finalize the model\n",
        "model_mlp_improved = keras.Model(inputs=input_layer, outputs=output_layer, name='Improved_Emulator_MLP')\n",
        "\n",
        "# Compile the model with learning rate scheduling\n",
        "lr_schedule = keras.optimizers.schedules.ExponentialDecay(\n",
        "    initial_learning_rate=1e-3,\n",
        "    decay_steps=10000,\n",
        "    decay_rate=0.9)\n",
        "optimizer = keras.optimizers.Adam(learning_rate=lr_schedule)\n",
        "\n",
        "model_mlp_improved.compile(optimizer=optimizer,\n",
        "                           loss='mse',\n",
        "                           metrics=['mse', 'mae', 'accuracy'])\n",
        "\n",
        "# Print the model summary\n",
        "model_mlp_improved.summary()\n",
        "model = model_mlp_improved\n",
        "\n",
        "# The accuracy is 0.9639\n",
        "# model.fit(data.input_train, data.target_train, epochs=10, batch_size=256)"
      ],
      "metadata": {
        "colab": {
          "base_uri": "https://localhost:8080/"
        },
        "id": "VRUeN1C2Yrlm",
        "outputId": "55ce5e9e-a4d0-4d05-d936-3ab22c7dbe5e"
      },
      "execution_count": null,
      "outputs": [
        {
          "output_type": "stream",
          "name": "stdout",
          "text": [
            "Model: \"Improved_Emulator_MLP\"\n",
            "_________________________________________________________________\n",
            " Layer (type)                Output Shape              Param #   \n",
            "=================================================================\n",
            " input (InputLayer)          [(None, 124)]             0         \n",
            "                                                                 \n",
            " dense_8 (Dense)             (None, 1024)              128000    \n",
            "                                                                 \n",
            " batch_normalization (Batch  (None, 1024)              4096      \n",
            " Normalization)                                                  \n",
            "                                                                 \n",
            " dropout_2 (Dropout)         (None, 1024)              0         \n",
            "                                                                 \n",
            " dense_9 (Dense)             (None, 512)               524800    \n",
            "                                                                 \n",
            " batch_normalization_1 (Bat  (None, 512)               2048      \n",
            " chNormalization)                                                \n",
            "                                                                 \n",
            " dropout_3 (Dropout)         (None, 512)               0         \n",
            "                                                                 \n",
            " dense_10 (Dense)            (None, 512)               262656    \n",
            "                                                                 \n",
            " batch_normalization_2 (Bat  (None, 512)               2048      \n",
            " chNormalization)                                                \n",
            "                                                                 \n",
            " dropout_4 (Dropout)         (None, 512)               0         \n",
            "                                                                 \n",
            " dense_11 (Dense)            (None, 256)               131328    \n",
            "                                                                 \n",
            " batch_normalization_3 (Bat  (None, 256)               1024      \n",
            " chNormalization)                                                \n",
            "                                                                 \n",
            " dropout_5 (Dropout)         (None, 256)               0         \n",
            "                                                                 \n",
            " dense_12 (Dense)            (None, 128)               32896     \n",
            "                                                                 \n",
            "=================================================================\n",
            "Total params: 1088896 (4.15 MB)\n",
            "Trainable params: 1084288 (4.14 MB)\n",
            "Non-trainable params: 4608 (18.00 KB)\n",
            "_________________________________________________________________\n"
          ]
        }
      ]
    },
    {
      "cell_type": "code",
      "source": [
        "# ResNet\n",
        "import tensorflow as tf\n",
        "from tensorflow import keras\n",
        "\n",
        "# Input layer\n",
        "input_data = keras.layers.Input(shape=(124,), name=\"input\")\n",
        "\n",
        "# ResNet Block 1\n",
        "x = keras.layers.Dense(512, activation='relu')(input_data)\n",
        "x1 = keras.layers.Dense(124)(x)\n",
        "block_1_output = keras.layers.add([x1, input_data])\n",
        "\n",
        "# ResNet Block 2\n",
        "x = keras.layers.Dense(512, activation='relu')(block_1_output)\n",
        "x2 = keras.layers.Dense(124)(x)\n",
        "block_2_output = keras.layers.add([x2, block_1_output])\n",
        "\n",
        "# MLP Layers\n",
        "x = keras.layers.Dense(256, activation='relu')(block_2_output)\n",
        "x = keras.layers.Dropout(0.3)(x)\n",
        "x = keras.layers.Dense(256, activation='relu')(x)\n",
        "x = keras.layers.Dropout(0.3)(x)\n",
        "\n",
        "# Output layer\n",
        "output = keras.layers.Dense(128, activation='linear')(x)\n",
        "\n",
        "# Create model\n",
        "clim_sim_model = keras.models.Model(inputs=input_data, outputs=output, name=\"clim_sim_emulator\")\n",
        "\n",
        "# Compilation\n",
        "optimizer = keras.optimizers.Adam(learning_rate=1e-3)\n",
        "clim_sim_model.compile(optimizer=optimizer,\n",
        "                       loss='mse',\n",
        "                       metrics=['mse', 'mae'])\n",
        "\n",
        "# Summary\n",
        "clim_sim_model.summary()\n",
        "model = clim_sim_model\n",
        "\n",
        "# model.fit(data.input_train, data.target_train, epochs=10, batch_size=256)"
      ],
      "metadata": {
        "colab": {
          "base_uri": "https://localhost:8080/"
        },
        "id": "pHH1fU_vYzkl",
        "outputId": "0755bd7b-d13d-4ce2-d6fc-09d2328980b0"
      },
      "execution_count": null,
      "outputs": [
        {
          "output_type": "stream",
          "name": "stdout",
          "text": [
            "Model: \"clim_sim_emulator\"\n",
            "__________________________________________________________________________________________________\n",
            " Layer (type)                Output Shape                 Param #   Connected to                  \n",
            "==================================================================================================\n",
            " input (InputLayer)          [(None, 124)]                0         []                            \n",
            "                                                                                                  \n",
            " dense_13 (Dense)            (None, 512)                  64000     ['input[0][0]']               \n",
            "                                                                                                  \n",
            " dense_14 (Dense)            (None, 124)                  63612     ['dense_13[0][0]']            \n",
            "                                                                                                  \n",
            " add (Add)                   (None, 124)                  0         ['dense_14[0][0]',            \n",
            "                                                                     'input[0][0]']               \n",
            "                                                                                                  \n",
            " dense_15 (Dense)            (None, 512)                  64000     ['add[0][0]']                 \n",
            "                                                                                                  \n",
            " dense_16 (Dense)            (None, 124)                  63612     ['dense_15[0][0]']            \n",
            "                                                                                                  \n",
            " add_1 (Add)                 (None, 124)                  0         ['dense_16[0][0]',            \n",
            "                                                                     'add[0][0]']                 \n",
            "                                                                                                  \n",
            " dense_17 (Dense)            (None, 256)                  32000     ['add_1[0][0]']               \n",
            "                                                                                                  \n",
            " dropout_6 (Dropout)         (None, 256)                  0         ['dense_17[0][0]']            \n",
            "                                                                                                  \n",
            " dense_18 (Dense)            (None, 256)                  65792     ['dropout_6[0][0]']           \n",
            "                                                                                                  \n",
            " dropout_7 (Dropout)         (None, 256)                  0         ['dense_18[0][0]']            \n",
            "                                                                                                  \n",
            " dense_19 (Dense)            (None, 128)                  32896     ['dropout_7[0][0]']           \n",
            "                                                                                                  \n",
            "==================================================================================================\n",
            "Total params: 385912 (1.47 MB)\n",
            "Trainable params: 385912 (1.47 MB)\n",
            "Non-trainable params: 0 (0.00 Byte)\n",
            "__________________________________________________________________________________________________\n"
          ]
        }
      ]
    },
    {
      "cell_type": "markdown",
      "metadata": {
        "id": "KALP3F3bS0NC"
      },
      "source": [
        "# Evaluate on validation data"
      ]
    },
    {
      "cell_type": "markdown",
      "metadata": {
        "id": "4Bt4epYOS0NC"
      },
      "source": [
        "### Set pressure grid"
      ]
    },
    {
      "cell_type": "code",
      "execution_count": null,
      "metadata": {
        "id": "tlZkUHn9S0NC"
      },
      "outputs": [],
      "source": [
        "data.set_pressure_grid(data_split = 'val')"
      ]
    },
    {
      "cell_type": "markdown",
      "metadata": {
        "id": "sLqUV5IQS0ND"
      },
      "source": [
        "### Load predictions"
      ]
    },
    {
      "cell_type": "code",
      "execution_count": null,
      "metadata": {
        "id": "5OEY_7woS0ND",
        "colab": {
          "base_uri": "https://localhost:8080/"
        },
        "outputId": "d92bbdb7-20d9-492c-aa19-d6d72ad203f3"
      },
      "outputs": [
        {
          "output_type": "stream",
          "name": "stdout",
          "text": [
            "(1441920, 128)\n",
            "(1441920, 128)\n",
            "45060/45060 [==============================] - 86s 2ms/step\n",
            "(1441920, 128)\n",
            "45060/45060 [==============================] - 82s 2ms/step\n",
            "(1441920, 128)\n"
          ]
        }
      ],
      "source": [
        "# Constant Prediction\n",
        "const_pred_val = np.repeat(const_model[np.newaxis, :], data.target_val.shape[0], axis = 0)\n",
        "print(const_pred_val.shape)\n",
        "\n",
        "# Prepare validation data for Multiple Linear Regression\n",
        "# Add bias and multiply it with MLR weights\n",
        "X_val = data.input_val\n",
        "bias_vector_val = np.ones((X_val.shape[0], 1))\n",
        "X_val = np.concatenate((X_val, bias_vector_val), axis=1)\n",
        "mlr_pred_val = X_val@mlr_weights\n",
        "print(mlr_pred_val.shape)\n",
        "\n",
        "# Gets prediction for the validation set using EN baseline model\n",
        "EN_baseline_pred_val = EN_baseline_model.predict(data.input_val)\n",
        "print(EN_baseline_pred_val.shape)\n",
        "\n",
        "input_val_reshaped = data.input_val.reshape(-1, 31, 4)\n",
        "CNN_pred_val = model.predict(input_val_reshaped) #CNN_model\n",
        "print(CNN_pred_val.shape)\n",
        "\n",
        "# Load predictions into data_utils object\n",
        "                    #'const', 'mlr',\n",
        "data.model_names = [ 'EN_baseline', '2D CNN']\n",
        "preds = [EN_baseline_pred_val,  CNN_pred_val] # can add custom predictions here,  const_pred_val, mlr_pred_val\n",
        "data.preds_val = dict(zip(data.model_names, preds))"
      ]
    },
    {
      "cell_type": "markdown",
      "metadata": {
        "id": "XM7MpVn5S0ND"
      },
      "source": [
        "### Weight predictions and target\n",
        "\n",
        "1. Undo output scaling\n",
        "\n",
        "2.  Weight vertical levels by dp/g\n",
        "\n",
        "3. Weight horizontal area of each grid cell by a[x]/mean(a[x])\n",
        "\n",
        "4. Convert units to a common energy unit"
      ]
    },
    {
      "cell_type": "code",
      "execution_count": null,
      "metadata": {
        "id": "76MOdQ8wS0ND"
      },
      "outputs": [],
      "source": [
        "data.reweight_target(data_split = 'val')\n",
        "data.reweight_preds(data_split = 'val')"
      ]
    },
    {
      "cell_type": "markdown",
      "metadata": {
        "id": "nkdjoWuSS0NE"
      },
      "source": [
        "### Set and calculate metrics"
      ]
    },
    {
      "cell_type": "code",
      "execution_count": null,
      "metadata": {
        "id": "9kvRfl4_S0NE",
        "colab": {
          "base_uri": "https://localhost:8080/"
        },
        "outputId": "fe900cac-23db-4a56-9cd2-2b11f962b809"
      },
      "outputs": [
        {
          "output_type": "stream",
          "name": "stderr",
          "text": [
            "/content/ClimSim/climsim_utils/data_utils.py:705: RuntimeWarning: divide by zero encountered in divide\n",
            "  r_squared = 1 - sq_diff.sum(axis = 0)/tss_time.sum(axis = 0) # sum over time\n",
            "/content/ClimSim/climsim_utils/data_utils.py:705: RuntimeWarning: divide by zero encountered in divide\n",
            "  r_squared = 1 - sq_diff.sum(axis = 0)/tss_time.sum(axis = 0) # sum over time\n"
          ]
        }
      ],
      "source": [
        "data.metrics_names = ['MAE', 'RMSE', 'R2', 'bias']\n",
        "data.create_metrics_df(data_split = 'val')"
      ]
    },
    {
      "cell_type": "markdown",
      "metadata": {
        "id": "A2DCUWedS0NK"
      },
      "source": [
        "### Create plots"
      ]
    },
    {
      "cell_type": "code",
      "execution_count": null,
      "metadata": {
        "id": "0O_gfCOeS0NK",
        "colab": {
          "base_uri": "https://localhost:8080/"
        },
        "outputId": "97b722d9-0a58-4cd1-b7d0-c1d5c7f2f8b8"
      },
      "outputs": [
        {
          "output_type": "execute_result",
          "data": {
            "text/plain": [
              "['EN_baseline', '2D CNN']"
            ]
          },
          "metadata": {},
          "execution_count": 33
        }
      ],
      "source": [
        "data.model_names"
      ]
    },
    {
      "cell_type": "code",
      "execution_count": null,
      "metadata": {
        "id": "j9BsFAFDS0NK"
      },
      "outputs": [],
      "source": [
        "# data.metrics_var_val"
      ]
    },
    {
      "cell_type": "code",
      "execution_count": null,
      "metadata": {
        "id": "ZT8osgbRS0NK",
        "colab": {
          "base_uri": "https://localhost:8080/",
          "height": 803
        },
        "outputId": "65803c1c-4880-4b09-ebc2-4a1ed8c268a3"
      },
      "outputs": [
        {
          "output_type": "display_data",
          "data": {
            "text/plain": [
              "<Figure size 700x800 with 4 Axes>"
            ],
            "image/png": "[encoded data removed]"
          },
          "metadata": {
            "image/png": {
              "width": 686,
              "height": 786
            }
          }
        }
      ],
      "source": [
        "# set plotting settings\n",
        "%config InlineBackend.figure_format = 'retina'\n",
        "letters = string.ascii_lowercase\n",
        "\n",
        "# create custom dictionary for plotting\n",
        "dict_var = data.metrics_var_val\n",
        "plot_df_byvar = {}\n",
        "for metric in data.metrics_names:\n",
        "    plot_df_byvar[metric] = pd.DataFrame([dict_var[model][metric] for model in data.model_names],\n",
        "                                               index=data.model_names)\n",
        "    plot_df_byvar[metric] = plot_df_byvar[metric].rename(columns = data.var_short_names).transpose()\n",
        "\n",
        "# plot figure\n",
        "fig, axes = plt.subplots(nrows  = len(data.metrics_names), sharex = True)\n",
        "for i in range(len(data.metrics_names)):\n",
        "    plot_df_byvar[data.metrics_names[i]].plot.bar(\n",
        "        legend = False,\n",
        "        ax = axes[i])\n",
        "    if data.metrics_names[i] != 'R2':\n",
        "        axes[i].set_ylabel('$W/m^2$')\n",
        "    else:\n",
        "        axes[i].set_ylim(0,1)\n",
        "\n",
        "    axes[i].set_title(f'({letters[i]}) {data.metrics_names[i]}')\n",
        "axes[i].set_xlabel('Output variable')\n",
        "axes[i].set_xticklabels(plot_df_byvar[data.metrics_names[i]].index, \\\n",
        "    rotation=0, ha='center')\n",
        "\n",
        "axes[0].legend(columnspacing = .9,\n",
        "               labelspacing = .3,\n",
        "               handleheight = .07,\n",
        "               handlelength = 1.5,\n",
        "               handletextpad = .2,\n",
        "               borderpad = .2,\n",
        "               ncol = 3,\n",
        "               loc = 'upper right')\n",
        "fig.set_size_inches(7,8)\n",
        "fig.tight_layout()"
      ]
    },
    {
      "cell_type": "markdown",
      "metadata": {
        "id": "op5SxH5OS0NL"
      },
      "source": [
        "If you trained models with different hyperparameters, use the ones that performed the best on validation data for evaluation on scoring data."
      ]
    },
    {
      "cell_type": "markdown",
      "metadata": {
        "id": "wx-buQPmS0NL"
      },
      "source": [
        "## Evaluate on scoring data\n",
        "\n",
        "#### Do this at the VERY END (when you have finished tuned the hyperparameters for your  model and are seeking a final evaluation)"
      ]
    },
    {
      "cell_type": "markdown",
      "metadata": {
        "id": "Ui0RRjPRS0NL"
      },
      "source": [
        "### Load scoring data"
      ]
    },
    {
      "cell_type": "code",
      "execution_count": null,
      "metadata": {
        "id": "6Z2z0qWmS0NL",
        "colab": {
          "base_uri": "https://localhost:8080/"
        },
        "outputId": "2dc0a28c-25e2-4830-882a-b77cc7601b83"
      },
      "outputs": [
        {
          "output_type": "stream",
          "name": "stdout",
          "text": [
            "/content/ClimSim\n"
          ]
        }
      ],
      "source": [
        "!pwd"
      ]
    },
    {
      "cell_type": "code",
      "execution_count": null,
      "metadata": {
        "id": "qukZKB3rS0NL"
      },
      "outputs": [],
      "source": [
        "scoring_input_path = \"/content/drive/MyDrive/Project3_data/scoring_input.npy\"\n",
        "scoring_target_path = \"/content/drive/MyDrive/Project3_data/scoring_target.npy\"\n",
        "\n",
        "# path to target input\n",
        "data.input_scoring = np.load(scoring_input_path)\n",
        "\n",
        "# path to target output\n",
        "data.target_scoring = np.load(scoring_target_path)"
      ]
    },
    {
      "cell_type": "markdown",
      "metadata": {
        "id": "6JXgO8DbS0NL"
      },
      "source": [
        "### Set pressure grid"
      ]
    },
    {
      "cell_type": "code",
      "execution_count": null,
      "metadata": {
        "id": "hP60XGPsS0NM"
      },
      "outputs": [],
      "source": [
        "data.set_pressure_grid(data_split = 'scoring')"
      ]
    },
    {
      "cell_type": "markdown",
      "metadata": {
        "id": "stUi0lYIS0NM"
      },
      "source": [
        "### Load predictions"
      ]
    },
    {
      "cell_type": "code",
      "execution_count": null,
      "metadata": {
        "id": "iF-PObRdS0NM",
        "colab": {
          "base_uri": "https://localhost:8080/"
        },
        "outputId": "e8c8a5e9-1bc5-4cb8-9dc1-30107918b85b"
      },
      "outputs": [
        {
          "output_type": "stream",
          "name": "stdout",
          "text": [
            "(1681920, 128)\n",
            "(1681920, 128)\n",
            "52560/52560 [==============================] - 105s 2ms/step\n",
            "(1681920, 128)\n",
            "52560/52560 [==============================] - 87s 2ms/step\n",
            "(1681920, 128)\n"
          ]
        }
      ],
      "source": [
        "# constant prediction\n",
        "const_pred_scoring = np.repeat(const_model[np.newaxis, :], data.target_scoring.shape[0], axis = 0)\n",
        "print(const_pred_scoring.shape)\n",
        "\n",
        "# multiple linear regression\n",
        "X_scoring = data.input_scoring\n",
        "bias_vector_scoring = np.ones((X_scoring.shape[0], 1))\n",
        "X_scoring = np.concatenate((X_scoring, bias_vector_scoring), axis=1)\n",
        "mlr_pred_scoring = X_scoring@mlr_weights\n",
        "print(mlr_pred_scoring.shape)\n",
        "\n",
        "# Your model prediction here\n",
        "# Encoder Decoder baseline model\n",
        "EN_baseline_pred_scoring = EN_baseline_model.predict(data.input_scoring)\n",
        "print(EN_baseline_pred_scoring.shape)\n",
        "\n",
        "input_scoring_reshaped = data.input_scoring.reshape(-1, 124)\n",
        "CNN_pred_scoring = model.predict(input_scoring_reshaped) #CNN_model\n",
        "print(CNN_pred_scoring.shape)\n",
        "\n",
        "# Load predictions into object\n",
        "                    #'const', 'mlr',\n",
        "data.model_names = [ 'const', 'mlr', 'EN_baseline', '2D CNN'] # add names of your models here\n",
        "preds = [const_pred_scoring, mlr_pred_scoring, EN_baseline_pred_scoring, CNN_pred_scoring]\n",
        "data.preds_scoring = dict(zip(data.model_names, preds))"
      ]
    },
    {
      "cell_type": "code",
      "source": [],
      "metadata": {
        "id": "pgqg-j0Pbw8_"
      },
      "execution_count": null,
      "outputs": []
    },
    {
      "cell_type": "markdown",
      "metadata": {
        "id": "mI7lgbq2S0NM"
      },
      "source": [
        "### Weight predictions and target\n",
        "\n",
        "1. Undo output scaling\n",
        "\n",
        "2.  Weight vertical levels by dp/g\n",
        "\n",
        "3. Weight horizontal area of each grid cell by a[x]/mean(a[x])\n",
        "\n",
        "4. Convert units to a common energy unit"
      ]
    },
    {
      "cell_type": "code",
      "execution_count": null,
      "metadata": {
        "id": "xvBHIDx7S0NM",
        "colab": {
          "base_uri": "https://localhost:8080/"
        },
        "outputId": "c804280b-8934-4562-acc4-52ce0cffce09"
      },
      "outputs": [
        {
          "output_type": "stream",
          "name": "stderr",
          "text": [
            "/content/ClimSim/climsim_utils/data_utils.py:705: RuntimeWarning: divide by zero encountered in divide\n",
            "  r_squared = 1 - sq_diff.sum(axis = 0)/tss_time.sum(axis = 0) # sum over time\n",
            "/content/ClimSim/climsim_utils/data_utils.py:705: RuntimeWarning: invalid value encountered in divide\n",
            "  r_squared = 1 - sq_diff.sum(axis = 0)/tss_time.sum(axis = 0) # sum over time\n",
            "/content/ClimSim/climsim_utils/data_utils.py:705: RuntimeWarning: divide by zero encountered in divide\n",
            "  r_squared = 1 - sq_diff.sum(axis = 0)/tss_time.sum(axis = 0) # sum over time\n",
            "/content/ClimSim/climsim_utils/data_utils.py:705: RuntimeWarning: invalid value encountered in divide\n",
            "  r_squared = 1 - sq_diff.sum(axis = 0)/tss_time.sum(axis = 0) # sum over time\n",
            "/content/ClimSim/climsim_utils/data_utils.py:705: RuntimeWarning: divide by zero encountered in divide\n",
            "  r_squared = 1 - sq_diff.sum(axis = 0)/tss_time.sum(axis = 0) # sum over time\n",
            "/content/ClimSim/climsim_utils/data_utils.py:705: RuntimeWarning: divide by zero encountered in divide\n",
            "  r_squared = 1 - sq_diff.sum(axis = 0)/tss_time.sum(axis = 0) # sum over time\n"
          ]
        }
      ],
      "source": [
        "# weight predictions and target\n",
        "data.reweight_target(data_split = 'scoring')\n",
        "data.reweight_preds(data_split = 'scoring')\n",
        "\n",
        "# set and calculate metrics\n",
        "data.metrics_names = ['MAE', 'RMSE', 'R2', 'bias']\n",
        "data.create_metrics_df(data_split = 'scoring')"
      ]
    },
    {
      "cell_type": "markdown",
      "metadata": {
        "id": "O1tf-3ngS0NN"
      },
      "source": [
        "### Create plots"
      ]
    },
    {
      "cell_type": "code",
      "execution_count": null,
      "metadata": {
        "id": "AKx7JvK0S0NN",
        "colab": {
          "base_uri": "https://localhost:8080/",
          "height": 803
        },
        "outputId": "c3bb7ae3-3c78-4271-9406-fa88c4f171ad"
      },
      "outputs": [
        {
          "output_type": "display_data",
          "data": {
            "text/plain": [
              "<Figure size 700x800 with 4 Axes>"
            ],
            "image/png": "[encoded data removed]"
          },
          "metadata": {
            "image/png": {
              "width": 686,
              "height": 786
            }
          }
        }
      ],
      "source": [
        "# set plotting settings\n",
        "%config InlineBackend.figure_format = 'retina'\n",
        "letters = string.ascii_lowercase\n",
        "\n",
        "# create custom dictionary for plotting\n",
        "dict_var = data.metrics_var_scoring\n",
        "plot_df_byvar = {}\n",
        "for metric in data.metrics_names:\n",
        "    plot_df_byvar[metric] = pd.DataFrame([dict_var[model][metric] for model in data.model_names],\n",
        "                                               index=data.model_names)\n",
        "    plot_df_byvar[metric] = plot_df_byvar[metric].rename(columns = data.var_short_names).transpose()\n",
        "\n",
        "# plot figure\n",
        "fig, axes = plt.subplots(nrows  = len(data.metrics_names), sharex = True)\n",
        "for i in range(len(data.metrics_names)):\n",
        "    plot_df_byvar[data.metrics_names[i]].plot.bar(\n",
        "        legend = False,\n",
        "        ax = axes[i])\n",
        "    if data.metrics_names[i] != 'R2':\n",
        "        axes[i].set_ylabel('$W/m^2$')\n",
        "    else:\n",
        "        axes[i].set_ylim(0,1)\n",
        "\n",
        "    axes[i].set_title(f'({letters[i]}) {data.metrics_names[i]}')\n",
        "axes[i].set_xlabel('Output variable')\n",
        "axes[i].set_xticklabels(plot_df_byvar[data.metrics_names[i]].index, \\\n",
        "    rotation=0, ha='center')\n",
        "\n",
        "axes[0].legend(columnspacing = .9,\n",
        "               labelspacing = .3,\n",
        "               handleheight = .07,\n",
        "               handlelength = 1.5,\n",
        "               handletextpad = .2,\n",
        "               borderpad = .2,\n",
        "               ncol = 3,\n",
        "               loc = 'upper right')\n",
        "fig.set_size_inches(7,8)\n",
        "fig.tight_layout()\n",
        "\n",
        "# lower MAE, RMSE should be better\n",
        "# higer R^2 should be better\n",
        "# Bias loser to 0 should be better"
      ]
    },
    {
      "cell_type": "markdown",
      "source": [
        "**Conclusion:** The baseline is better because it has an accuracy of 0.98, which is so high that none of the models applied can surpass it. However, among the models used, the 2D CNN is the best one"
      ],
      "metadata": {
        "id": "BdZGB7QsYgva"
      }
    },
    {
      "cell_type": "markdown",
      "source": [],
      "metadata": {
        "id": "tGAPg7TrW2To"
      }
    },
    {
      "cell_type": "markdown",
      "source": [],
      "metadata": {
        "id": "awKQOlpTTuaB"
      }
    },
    {
      "cell_type": "markdown",
      "source": [],
      "metadata": {
        "id": "ygZYILF2TqVc"
      }
    }
  ]
}